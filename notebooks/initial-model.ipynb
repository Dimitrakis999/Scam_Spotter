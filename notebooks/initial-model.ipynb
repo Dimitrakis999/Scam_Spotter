{
 "cells": [
  {
   "cell_type": "markdown",
   "id": "36421e17",
   "metadata": {},
   "source": [
    "### Model with mutliple inputs using tensor flow\n"
   ]
  },
  {
   "cell_type": "code",
   "execution_count": null,
   "id": "a39d04f4",
   "metadata": {},
   "outputs": [],
   "source": [
    "input1=tf.keras.Input( shape= .....\n",
    "# add layers here to process input 1 as you wish \n",
    "# last layer should be a Flatten layer or GlobalMaxPooling Layer\n",
    "out1=tf.keras.layers.Flatten()(previous layer)\n",
    "input2= tf.keras.Input ( shape=....\n",
    "add layers  to process input 2\n",
    "# last layer should be a Flatten layer or GlobalMaxPooling Layer\n",
    "out2=tf.keras.layers.Flatten()(previous layer)\n",
    "# now concatenate the outputs out1 and out2\n",
    "concatted = tf.keras.layers.Concatenate()([out1, out2])\n",
    "# now you can add more layers here to process the concatted output as you wish\n",
    "#  last layer should be your output layer\n",
    "output=Dense (number of classes, activation='softmax;)(previous layer output)\n",
    "model=keras.Model(inputs=[input1,input2], outputs=output)\n",
    "#  then compile your model"
   ]
  },
  {
   "cell_type": "code",
   "execution_count": 2,
   "id": "e319e51b",
   "metadata": {},
   "outputs": [],
   "source": [
    "import pandas as pd"
   ]
  },
  {
   "cell_type": "code",
   "execution_count": 7,
   "id": "512ffef8",
   "metadata": {},
   "outputs": [],
   "source": [
    "df = pd.read_csv(\"/home/zamanay/code/zamanay/test-projects/ayoob.csv\")"
   ]
  },
  {
   "cell_type": "code",
   "execution_count": 13,
   "id": "3ee24c96",
   "metadata": {},
   "outputs": [
    {
     "data": {
      "text/plain": [
       "'Welcome to ACC Repairs\\nAdvanced Computer Control Repair\\nNO LONGER KEEPING ACC CONTROLLERS ON THE AIR AFTER 25+ YEARS!\\nCLOSED - OUT OF BUSINESS 12-31-19\\n\\n\\n\\n\\nRC-85, RC-850, RC-96, DVR\\n\\nI have decided to close down the repeater controller repair business. It has been a great run and I have loved keeping ACC Controllers on the air but,\\n\\nI have not had a controller to repair since September of 2018. I have other projects I work on under the ACC Repairs name but, controller repair just has not\\n\\nbeen a part of what keeps me busy. I have been working on projects trying to bring them to market but time just slips away and someone else comes\\n\\nout with something better before I can complete mine.\\n\\n\\nMy recomendation is to look at the ALLSTAR LINK REPEATER CONTROLLER. HAM VOIP\\nThank you to everyone that has supported me over the years!! 73, Paul.\\n'"
      ]
     },
     "execution_count": 13,
     "metadata": {},
     "output_type": "execute_result"
    }
   ],
   "source": [
    "df.iloc[1,1]"
   ]
  },
  {
   "cell_type": "code",
   "execution_count": 15,
   "id": "2e31189a",
   "metadata": {},
   "outputs": [
    {
     "data": {
      "text/plain": [
       "0    Buy Now enterthegrid.com USD $4,999 Buy Now Ne...\n",
       "1    Welcome to ACC Repairs Advanced Computer Contr...\n",
       "2        Europe - English  Coverage Maps Partner Wi...\n",
       "3    Home Products Services Site Map About Us Conta...\n",
       "4    Phone Sex Australia   Phone Sex Script   Tips ...\n",
       "Name: text, dtype: object"
      ]
     },
     "execution_count": 15,
     "metadata": {},
     "output_type": "execute_result"
    }
   ],
   "source": [
    "df.iloc[:,1].str.replace(\"\\n\",\" \" )"
   ]
  },
  {
   "cell_type": "code",
   "execution_count": null,
   "id": "3e2ef8d2",
   "metadata": {},
   "outputs": [],
   "source": []
  }
 ],
 "metadata": {
  "kernelspec": {
   "display_name": "Python 3 (ipykernel)",
   "language": "python",
   "name": "python3"
  },
  "language_info": {
   "codemirror_mode": {
    "name": "ipython",
    "version": 3
   },
   "file_extension": ".py",
   "mimetype": "text/x-python",
   "name": "python",
   "nbconvert_exporter": "python",
   "pygments_lexer": "ipython3",
   "version": "3.10.6"
  },
  "toc": {
   "base_numbering": 1,
   "nav_menu": {},
   "number_sections": true,
   "sideBar": true,
   "skip_h1_title": false,
   "title_cell": "Table of Contents",
   "title_sidebar": "Contents",
   "toc_cell": false,
   "toc_position": {},
   "toc_section_display": true,
   "toc_window_display": false
  }
 },
 "nbformat": 4,
 "nbformat_minor": 5
}
