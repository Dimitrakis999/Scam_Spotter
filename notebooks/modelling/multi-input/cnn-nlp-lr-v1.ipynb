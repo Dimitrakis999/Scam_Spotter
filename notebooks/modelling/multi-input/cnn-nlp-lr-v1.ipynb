{
 "cells": [
  {
   "cell_type": "markdown",
   "id": "3346f433-04e7-4550-aa04-37cfbd9d936b",
   "metadata": {},
   "source": [
    "# Imports"
   ]
  },
  {
   "cell_type": "code",
   "execution_count": 1,
   "id": "af4b637c-e6b3-49f9-b0dd-83a95813b80c",
   "metadata": {},
   "outputs": [
    {
     "name": "stderr",
     "output_type": "stream",
     "text": [
      "2022-12-06 11:34:55.001444: W tensorflow/stream_executor/platform/default/dso_loader.cc:64] Could not load dynamic library 'libcudart.so.11.0'; dlerror: libcudart.so.11.0: cannot open shared object file: No such file or directory\n",
      "2022-12-06 11:34:55.001457: I tensorflow/stream_executor/cuda/cudart_stub.cc:29] Ignore above cudart dlerror if you do not have a GPU set up on your machine.\n"
     ]
    }
   ],
   "source": [
    "# Imports\n",
    "import os\n",
    "\n",
    "import numpy as np\n",
    "import pandas as pd\n",
    "import matplotlib.pyplot as plt\n",
    "from matplotlib.pyplot import imread\n",
    "from PIL import Image\n",
    "\n",
    "import tensorflow as tf\n",
    "from tensorflow.keras import layers, models, callbacks, Model"
   ]
  },
  {
   "cell_type": "markdown",
   "id": "86f2bd3b-c0c4-4ec7-a5c4-4f35b8d00364",
   "metadata": {},
   "source": [
    "# Paths and key frames"
   ]
  },
  {
   "cell_type": "code",
   "execution_count": 16,
   "id": "382f87c8-b317-42ab-b1de-21338d7975a5",
   "metadata": {},
   "outputs": [],
   "source": [
    "# Paths\n",
    "\n",
    "rel_imagedir_path = '../../../data/screenshots/'\n",
    "legit_image_path = os.path.join(rel_imagedir_path, 'legit_screenshots')\n",
    "scam_image_path = os.path.join(rel_imagedir_path, 'scam_screenshots')"
   ]
  },
  {
   "cell_type": "code",
   "execution_count": 3,
   "id": "dec97193-5158-42d3-a573-c7be2a7d6ab9",
   "metadata": {},
   "outputs": [
    {
     "data": {
      "text/plain": [
       "('../../../data/screenshots/legit_screenshots',\n",
       " '../../../data/screenshots/scam_screenshots')"
      ]
     },
     "execution_count": 3,
     "metadata": {},
     "output_type": "execute_result"
    }
   ],
   "source": [
    "legit_image_path, scam_image_path"
   ]
  },
  {
   "cell_type": "code",
   "execution_count": 4,
   "id": "72ee92c5-0b2a-4cdd-a795-048d10a30807",
   "metadata": {},
   "outputs": [
    {
     "name": "stdout",
     "output_type": "stream",
     "text": [
      "(2189, 5)\n"
     ]
    }
   ],
   "source": [
    "# Legit websites\n",
    "\n",
    "legit_key_df = pd.read_csv('legim_text_screenshots_key.csv')\n",
    "print(legit_key_df.shape)"
   ]
  },
  {
   "cell_type": "code",
   "execution_count": 5,
   "id": "76aab9a3-f34c-483b-b7ed-52584f26b739",
   "metadata": {},
   "outputs": [
    {
     "data": {
      "text/html": [
       "<div>\n",
       "<style scoped>\n",
       "    .dataframe tbody tr th:only-of-type {\n",
       "        vertical-align: middle;\n",
       "    }\n",
       "\n",
       "    .dataframe tbody tr th {\n",
       "        vertical-align: top;\n",
       "    }\n",
       "\n",
       "    .dataframe thead th {\n",
       "        text-align: right;\n",
       "    }\n",
       "</style>\n",
       "<table border=\"1\" class=\"dataframe\">\n",
       "  <thead>\n",
       "    <tr style=\"text-align: right;\">\n",
       "      <th></th>\n",
       "      <th>url</th>\n",
       "      <th>num_of_picture</th>\n",
       "      <th>text</th>\n",
       "      <th>target</th>\n",
       "    </tr>\n",
       "  </thead>\n",
       "  <tbody>\n",
       "    <tr>\n",
       "      <th>0</th>\n",
       "      <td>http://www.theaccessbankukltd.co.uk</td>\n",
       "      <td>0</td>\n",
       "      <td>menuaboutpersonalbusinessprivatedubainewsconta...</td>\n",
       "      <td>0</td>\n",
       "    </tr>\n",
       "    <tr>\n",
       "      <th>1</th>\n",
       "      <td>http://www.adambank.com</td>\n",
       "      <td>1</td>\n",
       "      <td>transfer contact usloginon 3 september 2022 we...</td>\n",
       "      <td>0</td>\n",
       "    </tr>\n",
       "    <tr>\n",
       "      <th>2</th>\n",
       "      <td>http://www.adib.co.uk</td>\n",
       "      <td>2</td>\n",
       "      <td>sign in​homeabout adibour brandmission   objec...</td>\n",
       "      <td>0</td>\n",
       "    </tr>\n",
       "    <tr>\n",
       "      <th>3</th>\n",
       "      <td>http://www.aldermore.co.uk</td>\n",
       "      <td>3</td>\n",
       "      <td>log inpersonalbusinessintermediariesabout usco...</td>\n",
       "      <td>0</td>\n",
       "    </tr>\n",
       "    <tr>\n",
       "      <th>4</th>\n",
       "      <td>http://www.allfunds.com/en</td>\n",
       "      <td>4</td>\n",
       "      <td>cookie configurationallfunds bank s a u   allf...</td>\n",
       "      <td>0</td>\n",
       "    </tr>\n",
       "    <tr>\n",
       "      <th>...</th>\n",
       "      <td>...</td>\n",
       "      <td>...</td>\n",
       "      <td>...</td>\n",
       "      <td>...</td>\n",
       "    </tr>\n",
       "    <tr>\n",
       "      <th>2184</th>\n",
       "      <td>http://www.roberthalf.com/</td>\n",
       "      <td>2104</td>\n",
       "      <td>this website uses cookies to improve user expe...</td>\n",
       "      <td>0</td>\n",
       "    </tr>\n",
       "    <tr>\n",
       "      <th>2185</th>\n",
       "      <td>http://www.compass-group.com/</td>\n",
       "      <td>2105</td>\n",
       "      <td>our use of cookieswe use necessary cookies to ...</td>\n",
       "      <td>0</td>\n",
       "    </tr>\n",
       "    <tr>\n",
       "      <th>2186</th>\n",
       "      <td>http://shop.hasbro.com/</td>\n",
       "      <td>2106</td>\n",
       "      <td>skip to main contentnl   nederlandsontdek spee...</td>\n",
       "      <td>0</td>\n",
       "    </tr>\n",
       "    <tr>\n",
       "      <th>2187</th>\n",
       "      <td>http://www.ropertech.com/</td>\n",
       "      <td>2107</td>\n",
       "      <td>skip to content↵enterskip to contentsimple ide...</td>\n",
       "      <td>0</td>\n",
       "    </tr>\n",
       "    <tr>\n",
       "      <th>2188</th>\n",
       "      <td>http://www.arkocorp.com/</td>\n",
       "      <td>2108</td>\n",
       "      <td>investorsoverviewnews   eventsoverviewpress re...</td>\n",
       "      <td>0</td>\n",
       "    </tr>\n",
       "  </tbody>\n",
       "</table>\n",
       "<p>1999 rows × 4 columns</p>\n",
       "</div>"
      ],
      "text/plain": [
       "                                      url  num_of_picture  \\\n",
       "0     http://www.theaccessbankukltd.co.uk               0   \n",
       "1                 http://www.adambank.com               1   \n",
       "2                   http://www.adib.co.uk               2   \n",
       "3              http://www.aldermore.co.uk               3   \n",
       "4              http://www.allfunds.com/en               4   \n",
       "...                                   ...             ...   \n",
       "2184           http://www.roberthalf.com/            2104   \n",
       "2185        http://www.compass-group.com/            2105   \n",
       "2186              http://shop.hasbro.com/            2106   \n",
       "2187            http://www.ropertech.com/            2107   \n",
       "2188             http://www.arkocorp.com/            2108   \n",
       "\n",
       "                                                   text  target  \n",
       "0     menuaboutpersonalbusinessprivatedubainewsconta...       0  \n",
       "1     transfer contact usloginon 3 september 2022 we...       0  \n",
       "2     sign in​homeabout adibour brandmission   objec...       0  \n",
       "3     log inpersonalbusinessintermediariesabout usco...       0  \n",
       "4     cookie configurationallfunds bank s a u   allf...       0  \n",
       "...                                                 ...     ...  \n",
       "2184  this website uses cookies to improve user expe...       0  \n",
       "2185  our use of cookieswe use necessary cookies to ...       0  \n",
       "2186  skip to main contentnl   nederlandsontdek spee...       0  \n",
       "2187  skip to content↵enterskip to contentsimple ide...       0  \n",
       "2188  investorsoverviewnews   eventsoverviewpress re...       0  \n",
       "\n",
       "[1999 rows x 4 columns]"
      ]
     },
     "execution_count": 5,
     "metadata": {},
     "output_type": "execute_result"
    }
   ],
   "source": [
    "legit_key_df = legit_key_df.drop(columns=['Unnamed: 0', 'index'])\n",
    "legit_key_df['target'] = 0\n",
    "legit_key_df = legit_key_df.drop_duplicates(subset='url')\n",
    "legit_key_df"
   ]
  },
  {
   "cell_type": "code",
   "execution_count": 6,
   "id": "e2fddd7c-2116-4c0f-b4ca-d5df8e12da62",
   "metadata": {},
   "outputs": [
    {
     "data": {
      "text/html": [
       "<div>\n",
       "<style scoped>\n",
       "    .dataframe tbody tr th:only-of-type {\n",
       "        vertical-align: middle;\n",
       "    }\n",
       "\n",
       "    .dataframe tbody tr th {\n",
       "        vertical-align: top;\n",
       "    }\n",
       "\n",
       "    .dataframe thead th {\n",
       "        text-align: right;\n",
       "    }\n",
       "</style>\n",
       "<table border=\"1\" class=\"dataframe\">\n",
       "  <thead>\n",
       "    <tr style=\"text-align: right;\">\n",
       "      <th></th>\n",
       "      <th>url</th>\n",
       "      <th>num_of_picture</th>\n",
       "      <th>text</th>\n",
       "      <th>target</th>\n",
       "    </tr>\n",
       "  </thead>\n",
       "  <tbody>\n",
       "    <tr>\n",
       "      <th>0</th>\n",
       "      <td>https://www.awesomeaussieshepherd.com</td>\n",
       "      <td>0</td>\n",
       "      <td>australian shepherd  homeabout usavailable pup...</td>\n",
       "      <td>1</td>\n",
       "    </tr>\n",
       "    <tr>\n",
       "      <th>1</th>\n",
       "      <td>http://www.gclservice.co.za</td>\n",
       "      <td>1</td>\n",
       "      <td>index of   \\tname\\tlast modified\\tsize\\tdescri...</td>\n",
       "      <td>1</td>\n",
       "    </tr>\n",
       "    <tr>\n",
       "      <th>2</th>\n",
       "      <td>https://www.gcloanservice.com</td>\n",
       "      <td>2</td>\n",
       "      <td>menuhomeloan applicationcontact usfaqsterms of...</td>\n",
       "      <td>1</td>\n",
       "    </tr>\n",
       "    <tr>\n",
       "      <th>3</th>\n",
       "      <td>http://www.authenicbiodocs.com</td>\n",
       "      <td>3</td>\n",
       "      <td>skip to contentpay with bitcoin25  discount fo...</td>\n",
       "      <td>1</td>\n",
       "    </tr>\n",
       "    <tr>\n",
       "      <th>4</th>\n",
       "      <td>https://www.thaiproductsllc.com</td>\n",
       "      <td>4</td>\n",
       "      <td>skip to content 61 3 9028 2716world wide shipp...</td>\n",
       "      <td>1</td>\n",
       "    </tr>\n",
       "    <tr>\n",
       "      <th>...</th>\n",
       "      <td>...</td>\n",
       "      <td>...</td>\n",
       "      <td>...</td>\n",
       "      <td>...</td>\n",
       "    </tr>\n",
       "    <tr>\n",
       "      <th>2029</th>\n",
       "      <td>https://www.reynoldsfinance.com</td>\n",
       "      <td>2175</td>\n",
       "      <td>reynoldsfinance comhomecontact usprivacy polic...</td>\n",
       "      <td>1</td>\n",
       "    </tr>\n",
       "    <tr>\n",
       "      <th>2030</th>\n",
       "      <td>https://www.heartfordcapital.com</td>\n",
       "      <td>2176</td>\n",
       "      <td>live chat 1 614 655 7713trade shares and forex...</td>\n",
       "      <td>1</td>\n",
       "    </tr>\n",
       "    <tr>\n",
       "      <th>2031</th>\n",
       "      <td>https://www.e1am.com</td>\n",
       "      <td>2177</td>\n",
       "      <td>skip to main contentlogin  by your side for m...</td>\n",
       "      <td>1</td>\n",
       "    </tr>\n",
       "    <tr>\n",
       "      <th>2032</th>\n",
       "      <td>https://www.blackwellcapital.com</td>\n",
       "      <td>2178</td>\n",
       "      <td>blackwell capital   800 917 7155homelendinginv...</td>\n",
       "      <td>1</td>\n",
       "    </tr>\n",
       "    <tr>\n",
       "      <th>2033</th>\n",
       "      <td>https://www.hanover-associates.com</td>\n",
       "      <td>2179</td>\n",
       "      <td>finance solutionsrecent closingsapply nowabout...</td>\n",
       "      <td>1</td>\n",
       "    </tr>\n",
       "  </tbody>\n",
       "</table>\n",
       "<p>2034 rows × 4 columns</p>\n",
       "</div>"
      ],
      "text/plain": [
       "                                        url  num_of_picture  \\\n",
       "0     https://www.awesomeaussieshepherd.com               0   \n",
       "1               http://www.gclservice.co.za               1   \n",
       "2             https://www.gcloanservice.com               2   \n",
       "3            http://www.authenicbiodocs.com               3   \n",
       "4           https://www.thaiproductsllc.com               4   \n",
       "...                                     ...             ...   \n",
       "2029        https://www.reynoldsfinance.com            2175   \n",
       "2030       https://www.heartfordcapital.com            2176   \n",
       "2031                   https://www.e1am.com            2177   \n",
       "2032       https://www.blackwellcapital.com            2178   \n",
       "2033     https://www.hanover-associates.com            2179   \n",
       "\n",
       "                                                   text  target  \n",
       "0     australian shepherd  homeabout usavailable pup...       1  \n",
       "1     index of   \\tname\\tlast modified\\tsize\\tdescri...       1  \n",
       "2     menuhomeloan applicationcontact usfaqsterms of...       1  \n",
       "3     skip to contentpay with bitcoin25  discount fo...       1  \n",
       "4     skip to content 61 3 9028 2716world wide shipp...       1  \n",
       "...                                                 ...     ...  \n",
       "2029  reynoldsfinance comhomecontact usprivacy polic...       1  \n",
       "2030  live chat 1 614 655 7713trade shares and forex...       1  \n",
       "2031   skip to main contentlogin  by your side for m...       1  \n",
       "2032  blackwell capital   800 917 7155homelendinginv...       1  \n",
       "2033  finance solutionsrecent closingsapply nowabout...       1  \n",
       "\n",
       "[2034 rows x 4 columns]"
      ]
     },
     "execution_count": 6,
     "metadata": {},
     "output_type": "execute_result"
    }
   ],
   "source": [
    "# Scam websites\n",
    "\n",
    "scam_key_df = pd.read_csv('scam_text_screenshots_key.csv')\n",
    "scam_key_df = scam_key_df.drop(columns=['Unnamed: 0'])\n",
    "scam_key_df['target'] = 1\n",
    "scam_key_df"
   ]
  },
  {
   "cell_type": "code",
   "execution_count": 7,
   "id": "bebafb81-026a-4056-bb20-b37ffdcd5664",
   "metadata": {},
   "outputs": [],
   "source": [
    "merged_key_df = pd.concat([legit_key_df, scam_key_df], ignore_index=True).reset_index(drop=True)\n",
    "# merged_key_df = merged_key_df.sample(frac=1)"
   ]
  },
  {
   "cell_type": "code",
   "execution_count": 8,
   "id": "b6d47f9f-e72a-4a89-8a20-1f2e197e55e9",
   "metadata": {},
   "outputs": [
    {
     "data": {
      "text/html": [
       "<div>\n",
       "<style scoped>\n",
       "    .dataframe tbody tr th:only-of-type {\n",
       "        vertical-align: middle;\n",
       "    }\n",
       "\n",
       "    .dataframe tbody tr th {\n",
       "        vertical-align: top;\n",
       "    }\n",
       "\n",
       "    .dataframe thead th {\n",
       "        text-align: right;\n",
       "    }\n",
       "</style>\n",
       "<table border=\"1\" class=\"dataframe\">\n",
       "  <thead>\n",
       "    <tr style=\"text-align: right;\">\n",
       "      <th></th>\n",
       "      <th>url</th>\n",
       "      <th>num_of_picture</th>\n",
       "      <th>text</th>\n",
       "      <th>target</th>\n",
       "    </tr>\n",
       "  </thead>\n",
       "  <tbody>\n",
       "    <tr>\n",
       "      <th>0</th>\n",
       "      <td>http://www.theaccessbankukltd.co.uk</td>\n",
       "      <td>0</td>\n",
       "      <td>menuaboutpersonalbusinessprivatedubainewsconta...</td>\n",
       "      <td>0</td>\n",
       "    </tr>\n",
       "    <tr>\n",
       "      <th>1</th>\n",
       "      <td>http://www.adambank.com</td>\n",
       "      <td>1</td>\n",
       "      <td>transfer contact usloginon 3 september 2022 we...</td>\n",
       "      <td>0</td>\n",
       "    </tr>\n",
       "    <tr>\n",
       "      <th>2</th>\n",
       "      <td>http://www.adib.co.uk</td>\n",
       "      <td>2</td>\n",
       "      <td>sign in​homeabout adibour brandmission   objec...</td>\n",
       "      <td>0</td>\n",
       "    </tr>\n",
       "    <tr>\n",
       "      <th>3</th>\n",
       "      <td>http://www.aldermore.co.uk</td>\n",
       "      <td>3</td>\n",
       "      <td>log inpersonalbusinessintermediariesabout usco...</td>\n",
       "      <td>0</td>\n",
       "    </tr>\n",
       "    <tr>\n",
       "      <th>4</th>\n",
       "      <td>http://www.allfunds.com/en</td>\n",
       "      <td>4</td>\n",
       "      <td>cookie configurationallfunds bank s a u   allf...</td>\n",
       "      <td>0</td>\n",
       "    </tr>\n",
       "    <tr>\n",
       "      <th>...</th>\n",
       "      <td>...</td>\n",
       "      <td>...</td>\n",
       "      <td>...</td>\n",
       "      <td>...</td>\n",
       "    </tr>\n",
       "    <tr>\n",
       "      <th>4028</th>\n",
       "      <td>https://www.reynoldsfinance.com</td>\n",
       "      <td>2175</td>\n",
       "      <td>reynoldsfinance comhomecontact usprivacy polic...</td>\n",
       "      <td>1</td>\n",
       "    </tr>\n",
       "    <tr>\n",
       "      <th>4029</th>\n",
       "      <td>https://www.heartfordcapital.com</td>\n",
       "      <td>2176</td>\n",
       "      <td>live chat 1 614 655 7713trade shares and forex...</td>\n",
       "      <td>1</td>\n",
       "    </tr>\n",
       "    <tr>\n",
       "      <th>4030</th>\n",
       "      <td>https://www.e1am.com</td>\n",
       "      <td>2177</td>\n",
       "      <td>skip to main contentlogin  by your side for m...</td>\n",
       "      <td>1</td>\n",
       "    </tr>\n",
       "    <tr>\n",
       "      <th>4031</th>\n",
       "      <td>https://www.blackwellcapital.com</td>\n",
       "      <td>2178</td>\n",
       "      <td>blackwell capital   800 917 7155homelendinginv...</td>\n",
       "      <td>1</td>\n",
       "    </tr>\n",
       "    <tr>\n",
       "      <th>4032</th>\n",
       "      <td>https://www.hanover-associates.com</td>\n",
       "      <td>2179</td>\n",
       "      <td>finance solutionsrecent closingsapply nowabout...</td>\n",
       "      <td>1</td>\n",
       "    </tr>\n",
       "  </tbody>\n",
       "</table>\n",
       "<p>4033 rows × 4 columns</p>\n",
       "</div>"
      ],
      "text/plain": [
       "                                      url  num_of_picture  \\\n",
       "0     http://www.theaccessbankukltd.co.uk               0   \n",
       "1                 http://www.adambank.com               1   \n",
       "2                   http://www.adib.co.uk               2   \n",
       "3              http://www.aldermore.co.uk               3   \n",
       "4              http://www.allfunds.com/en               4   \n",
       "...                                   ...             ...   \n",
       "4028      https://www.reynoldsfinance.com            2175   \n",
       "4029     https://www.heartfordcapital.com            2176   \n",
       "4030                 https://www.e1am.com            2177   \n",
       "4031     https://www.blackwellcapital.com            2178   \n",
       "4032   https://www.hanover-associates.com            2179   \n",
       "\n",
       "                                                   text  target  \n",
       "0     menuaboutpersonalbusinessprivatedubainewsconta...       0  \n",
       "1     transfer contact usloginon 3 september 2022 we...       0  \n",
       "2     sign in​homeabout adibour brandmission   objec...       0  \n",
       "3     log inpersonalbusinessintermediariesabout usco...       0  \n",
       "4     cookie configurationallfunds bank s a u   allf...       0  \n",
       "...                                                 ...     ...  \n",
       "4028  reynoldsfinance comhomecontact usprivacy polic...       1  \n",
       "4029  live chat 1 614 655 7713trade shares and forex...       1  \n",
       "4030   skip to main contentlogin  by your side for m...       1  \n",
       "4031  blackwell capital   800 917 7155homelendinginv...       1  \n",
       "4032  finance solutionsrecent closingsapply nowabout...       1  \n",
       "\n",
       "[4033 rows x 4 columns]"
      ]
     },
     "execution_count": 8,
     "metadata": {},
     "output_type": "execute_result"
    }
   ],
   "source": [
    "merged_key_df"
   ]
  },
  {
   "cell_type": "markdown",
   "id": "87edcf5f-6dde-4002-8a47-194c6ed4e971",
   "metadata": {},
   "source": [
    "# Checking image shape"
   ]
  },
  {
   "cell_type": "code",
   "execution_count": 9,
   "id": "dfbcd2cc-a601-4922-a2e0-20d78ce00f32",
   "metadata": {},
   "outputs": [],
   "source": [
    "def image_shape_check(image_dir):\n",
    "    \n",
    "    print('Generating Paths')\n",
    "    image_paths = []\n",
    "    for image in os.listdir(image_dir):\n",
    "        if image.endswith('.png'):\n",
    "            # print(image)\n",
    "            image_paths.append(os.path.join(image_dir, image))\n",
    "    # print(image_paths)\n",
    "    \n",
    "    print('Checking Shapes')\n",
    "    image_shapes = []\n",
    "    for image in image_paths:\n",
    "        np_image = imread(image)\n",
    "        image_shapes.append(np_image.shape)\n",
    "    \n",
    "    print(f'Shapes found: {list(set(image_shapes))}')"
   ]
  },
  {
   "cell_type": "code",
   "execution_count": 10,
   "id": "a5265f7d-e6d3-4bb9-83d8-8a98dd90a03e",
   "metadata": {},
   "outputs": [],
   "source": [
    "# Takes a while to run and will use a lot of memory\n",
    "# image_shape_check(legit_image_path)"
   ]
  },
  {
   "cell_type": "code",
   "execution_count": 11,
   "id": "053107b5-e460-4d0a-88c9-e1a2f5a67268",
   "metadata": {},
   "outputs": [],
   "source": [
    "# Takes a while to run and will use a lot of memory\n",
    "# image_shape_check(scam_image_path)"
   ]
  },
  {
   "cell_type": "code",
   "execution_count": 12,
   "id": "f32854fe-40a9-4f29-9a90-91554eb7ab18",
   "metadata": {},
   "outputs": [],
   "source": [
    "def pillow_check(path_, img='3.png'):\n",
    "    image = Image.open(os.path.join(path_, img))\n",
    "    print(f'Image format: {image.format}')\n",
    "    print(f'Image size: {image.size}')\n",
    "    print(f'Image channels: {image.mode}')"
   ]
  },
  {
   "cell_type": "code",
   "execution_count": 13,
   "id": "98a6eaf5-af77-44d2-802e-931e59415f18",
   "metadata": {},
   "outputs": [
    {
     "name": "stdout",
     "output_type": "stream",
     "text": [
      "Image format: PNG\n",
      "Image size: (800, 600)\n",
      "Image channels: RGBA\n"
     ]
    }
   ],
   "source": [
    "pillow_check(legit_image_path, '5.png')"
   ]
  },
  {
   "cell_type": "code",
   "execution_count": 14,
   "id": "5e53d36f-ee7e-41ec-af01-ca312abca925",
   "metadata": {},
   "outputs": [
    {
     "name": "stdout",
     "output_type": "stream",
     "text": [
      "Image format: PNG\n",
      "Image size: (800, 600)\n",
      "Image channels: RGBA\n"
     ]
    }
   ],
   "source": [
    "pillow_check(scam_image_path, '5.png')"
   ]
  },
  {
   "cell_type": "code",
   "execution_count": 15,
   "id": "08da8926-f283-40dd-bb05-3656e4230cec",
   "metadata": {},
   "outputs": [],
   "source": [
    "# we don't need the alpha channel of the image"
   ]
  },
  {
   "cell_type": "markdown",
   "id": "1e682583-386b-4add-ac33-0ae9cd1e784c",
   "metadata": {},
   "source": [
    "# Loading Data"
   ]
  },
  {
   "cell_type": "code",
   "execution_count": 52,
   "id": "d49d1371-f1a5-498d-936f-c1d7234ead13",
   "metadata": {},
   "outputs": [],
   "source": [
    "def load_data(key_df, legit_imagedir_path, scam_imagedir_path):\n",
    "    \n",
    "    X_image = []\n",
    "    X_text = []\n",
    "    y = []\n",
    "    \n",
    "    for index, row in key_df.iterrows():\n",
    "        if index % 100 == 0:\n",
    "            print(f'loaded {index} data points')\n",
    "        \n",
    "        # Append image to X_image\n",
    "        if row['target'] == 0:\n",
    "            image_path = os.path.join(legit_imagedir_path, f\"{row['num_of_picture']}.png\")\n",
    "            np_legit_image = imread(image_path)[:, :, :3] # slice off the alpha channel\n",
    "            np_legit_image = tf.image.resize(np_legit_image, (300, 400))\n",
    "            X_image.append(np_legit_image)\n",
    "            \n",
    "        elif row['target'] == 1:\n",
    "            image_path = os.path.join(scam_imagedir_path, f\"{row['num_of_picture']}.png\")\n",
    "            np_legit_image = imread(image_path)[:, :, :3] # slice off the alpha channel\n",
    "            np_legit_image = tf.image.resize(np_legit_image, (300, 400))\n",
    "            X_image.append(np_legit_image)\n",
    "        \n",
    "        # Load text\n",
    "        X_text.append(row['text'])\n",
    "        \n",
    "        y.append(row['target'])\n",
    "    \n",
    "    print('\\nFinished loading data!')\n",
    "    # print(X_image)\n",
    "    return np.array(X_image), X_text, np.array(y)"
   ]
  },
  {
   "cell_type": "code",
   "execution_count": 60,
   "id": "02620c5d-b6db-4c6c-9d89-392b095934dd",
   "metadata": {},
   "outputs": [
    {
     "data": {
      "text/html": [
       "<div>\n",
       "<style scoped>\n",
       "    .dataframe tbody tr th:only-of-type {\n",
       "        vertical-align: middle;\n",
       "    }\n",
       "\n",
       "    .dataframe tbody tr th {\n",
       "        vertical-align: top;\n",
       "    }\n",
       "\n",
       "    .dataframe thead th {\n",
       "        text-align: right;\n",
       "    }\n",
       "</style>\n",
       "<table border=\"1\" class=\"dataframe\">\n",
       "  <thead>\n",
       "    <tr style=\"text-align: right;\">\n",
       "      <th></th>\n",
       "      <th>url</th>\n",
       "      <th>num_of_picture</th>\n",
       "      <th>text</th>\n",
       "      <th>target</th>\n",
       "    </tr>\n",
       "  </thead>\n",
       "  <tbody>\n",
       "    <tr>\n",
       "      <th>0</th>\n",
       "      <td>http://www.theaccessbankukltd.co.uk</td>\n",
       "      <td>0</td>\n",
       "      <td>menuaboutpersonalbusinessprivatedubainewsconta...</td>\n",
       "      <td>0</td>\n",
       "    </tr>\n",
       "    <tr>\n",
       "      <th>1</th>\n",
       "      <td>http://www.adambank.com</td>\n",
       "      <td>1</td>\n",
       "      <td>transfer contact usloginon 3 september 2022 we...</td>\n",
       "      <td>0</td>\n",
       "    </tr>\n",
       "    <tr>\n",
       "      <th>2</th>\n",
       "      <td>http://www.adib.co.uk</td>\n",
       "      <td>2</td>\n",
       "      <td>sign in​homeabout adibour brandmission   objec...</td>\n",
       "      <td>0</td>\n",
       "    </tr>\n",
       "    <tr>\n",
       "      <th>3</th>\n",
       "      <td>http://www.aldermore.co.uk</td>\n",
       "      <td>3</td>\n",
       "      <td>log inpersonalbusinessintermediariesabout usco...</td>\n",
       "      <td>0</td>\n",
       "    </tr>\n",
       "    <tr>\n",
       "      <th>4</th>\n",
       "      <td>http://www.allfunds.com/en</td>\n",
       "      <td>4</td>\n",
       "      <td>cookie configurationallfunds bank s a u   allf...</td>\n",
       "      <td>0</td>\n",
       "    </tr>\n",
       "    <tr>\n",
       "      <th>...</th>\n",
       "      <td>...</td>\n",
       "      <td>...</td>\n",
       "      <td>...</td>\n",
       "      <td>...</td>\n",
       "    </tr>\n",
       "    <tr>\n",
       "      <th>4028</th>\n",
       "      <td>https://www.reynoldsfinance.com</td>\n",
       "      <td>2175</td>\n",
       "      <td>reynoldsfinance comhomecontact usprivacy polic...</td>\n",
       "      <td>1</td>\n",
       "    </tr>\n",
       "    <tr>\n",
       "      <th>4029</th>\n",
       "      <td>https://www.heartfordcapital.com</td>\n",
       "      <td>2176</td>\n",
       "      <td>live chat 1 614 655 7713trade shares and forex...</td>\n",
       "      <td>1</td>\n",
       "    </tr>\n",
       "    <tr>\n",
       "      <th>4030</th>\n",
       "      <td>https://www.e1am.com</td>\n",
       "      <td>2177</td>\n",
       "      <td>skip to main contentlogin  by your side for m...</td>\n",
       "      <td>1</td>\n",
       "    </tr>\n",
       "    <tr>\n",
       "      <th>4031</th>\n",
       "      <td>https://www.blackwellcapital.com</td>\n",
       "      <td>2178</td>\n",
       "      <td>blackwell capital   800 917 7155homelendinginv...</td>\n",
       "      <td>1</td>\n",
       "    </tr>\n",
       "    <tr>\n",
       "      <th>4032</th>\n",
       "      <td>https://www.hanover-associates.com</td>\n",
       "      <td>2179</td>\n",
       "      <td>finance solutionsrecent closingsapply nowabout...</td>\n",
       "      <td>1</td>\n",
       "    </tr>\n",
       "  </tbody>\n",
       "</table>\n",
       "<p>4033 rows × 4 columns</p>\n",
       "</div>"
      ],
      "text/plain": [
       "                                      url  num_of_picture  \\\n",
       "0     http://www.theaccessbankukltd.co.uk               0   \n",
       "1                 http://www.adambank.com               1   \n",
       "2                   http://www.adib.co.uk               2   \n",
       "3              http://www.aldermore.co.uk               3   \n",
       "4              http://www.allfunds.com/en               4   \n",
       "...                                   ...             ...   \n",
       "4028      https://www.reynoldsfinance.com            2175   \n",
       "4029     https://www.heartfordcapital.com            2176   \n",
       "4030                 https://www.e1am.com            2177   \n",
       "4031     https://www.blackwellcapital.com            2178   \n",
       "4032   https://www.hanover-associates.com            2179   \n",
       "\n",
       "                                                   text  target  \n",
       "0     menuaboutpersonalbusinessprivatedubainewsconta...       0  \n",
       "1     transfer contact usloginon 3 september 2022 we...       0  \n",
       "2     sign in​homeabout adibour brandmission   objec...       0  \n",
       "3     log inpersonalbusinessintermediariesabout usco...       0  \n",
       "4     cookie configurationallfunds bank s a u   allf...       0  \n",
       "...                                                 ...     ...  \n",
       "4028  reynoldsfinance comhomecontact usprivacy polic...       1  \n",
       "4029  live chat 1 614 655 7713trade shares and forex...       1  \n",
       "4030   skip to main contentlogin  by your side for m...       1  \n",
       "4031  blackwell capital   800 917 7155homelendinginv...       1  \n",
       "4032  finance solutionsrecent closingsapply nowabout...       1  \n",
       "\n",
       "[4033 rows x 4 columns]"
      ]
     },
     "execution_count": 60,
     "metadata": {},
     "output_type": "execute_result"
    }
   ],
   "source": [
    "merged_key_df"
   ]
  },
  {
   "cell_type": "code",
   "execution_count": 51,
   "id": "d89a87e1-031a-422e-a60f-169c524bce11",
   "metadata": {
    "collapsed": true,
    "jupyter": {
     "outputs_hidden": true
    },
    "tags": []
   },
   "outputs": [
    {
     "name": "stdout",
     "output_type": "stream",
     "text": [
      "loaded 0 data points\n",
      "loaded 100 data points\n",
      "loaded 200 data points\n",
      "loaded 300 data points\n",
      "loaded 400 data points\n",
      "loaded 500 data points\n",
      "loaded 600 data points\n",
      "loaded 700 data points\n",
      "loaded 800 data points\n",
      "loaded 900 data points\n",
      "loaded 1000 data points\n",
      "loaded 1100 data points\n",
      "loaded 1200 data points\n",
      "loaded 1300 data points\n",
      "loaded 1400 data points\n",
      "loaded 1500 data points\n",
      "loaded 1600 data points\n",
      "loaded 1700 data points\n",
      "loaded 1800 data points\n",
      "loaded 1900 data points\n",
      "loaded 2000 data points\n",
      "loaded 2100 data points\n",
      "loaded 2200 data points\n",
      "loaded 2300 data points\n",
      "loaded 2400 data points\n",
      "loaded 2500 data points\n",
      "loaded 2600 data points\n",
      "loaded 2700 data points\n",
      "loaded 2800 data points\n",
      "loaded 2900 data points\n",
      "loaded 3000 data points\n",
      "loaded 3100 data points\n",
      "loaded 3200 data points\n",
      "loaded 3300 data points\n",
      "loaded 3400 data points\n",
      "loaded 3500 data points\n",
      "loaded 3600 data points\n",
      "loaded 3700 data points\n",
      "loaded 3800 data points\n",
      "loaded 3900 data points\n",
      "loaded 4000 data points\n"
     ]
    }
   ],
   "source": [
    "X_image, X_text, y = load_data(merged_key_df, legit_image_path, scam_image_path)"
   ]
  },
  {
   "cell_type": "code",
   "execution_count": 63,
   "id": "1c363325-7bf4-4c05-baf0-26133ac3837b",
   "metadata": {},
   "outputs": [
    {
     "data": {
      "text/plain": [
       "url                                       http://www.jmsmucker.com/\n",
       "num_of_picture                                                 2053\n",
       "text              skip to main contenttype site search term here...\n",
       "target                                                            0\n",
       "Name: 1947, dtype: object"
      ]
     },
     "execution_count": 63,
     "metadata": {},
     "output_type": "execute_result"
    }
   ],
   "source": [
    "merged_key_df.iloc[1947]"
   ]
  },
  {
   "cell_type": "code",
   "execution_count": 64,
   "id": "984e0074-e428-4df4-a12f-bffcc370e755",
   "metadata": {},
   "outputs": [
    {
     "data": {
      "text/plain": [
       "(<matplotlib.image.AxesImage at 0x7f1b24bbbca0>,\n",
       " 'skip to main contenttype site search term herepreviousmark smucker to assume expanded role of chair of the board\\xa0learn morefy23 q2 results reflect continued momentum of our brands  focus on execution\\xa0learn moresmucker releases 2022 corporate impact reportreview the reportmark smucker to assume expanded role of chair of the board\\xa0learn morefy23 q2 results reflect continued momentum of our brands  focus on execution\\xa0learn moresmucker releases 2022 corporate impact reportreview the reportmark smucker to assume expanded role of chair of the board\\xa0learn more123nextcoffeesee brandsconsumer foodssee brandspet foods   snackssee brandsa portfolio of brands you know and loveour brands are an essential part of everyday life for families everywhere  from their first cup of coffee to their favorite snacks to their pet’s nutritious food and treats  we make the products they want and trust newsstoriesdeja brew  the secret to consistent coffee taste starts with a slurp\\xa0\\xa0\\xa0 partners in food solutions  meeting a significant challenge with passion and purpose establishing the next generation finance department at smucker supporting education one cup at a time milk bone® launches new more dog campaign why smucker is the place for youyou deserve a positive  encouraging work environment  one where every employee is appreciated and supported  that is exactly what you will find at smucker \\xa0learn morelearn moregrowing our business and the impact we have on all those it toucheswhile our namesake jams and jellies are what many know us for  today we are a fortune 500 company with leading brands across several cpg categories  what has not changed is our commitment to leverage the success we achieve to support all those who touch our business aboutbrands you loveinvestorscareersnews   storiesour impactfaqscontactabout our adssmuckers comsmucker s online storesmucker café and store privacy policydo not sell my personal informationtermscalifornia transparency in supply chains actsitemap© 2022 the j m  smucker company all rights reserved ',\n",
       " 0)"
      ]
     },
     "execution_count": 64,
     "metadata": {},
     "output_type": "execute_result"
    },
    {
     "data": {
      "image/png": "[encoded data removed]",
      "text/plain": [
       "<Figure size 432x288 with 1 Axes>"
      ]
     },
     "metadata": {
      "needs_background": "light"
     },
     "output_type": "display_data"
    }
   ],
   "source": [
    "plt.imshow(X_image[1947]), X_text[1947], y[1947]"
   ]
  },
  {
   "cell_type": "markdown",
   "id": "212d8d44-f75c-4dc3-b356-a6cb0aaf1134",
   "metadata": {},
   "source": [
    "# Proproccess Text"
   ]
  },
  {
   "cell_type": "code",
   "execution_count": 66,
   "id": "e181040b-268f-45c5-8c41-506efa6e60e6",
   "metadata": {},
   "outputs": [],
   "source": [
    "sample_merged_key_df = merged_key_df.sample(frac=0.1)"
   ]
  },
  {
   "cell_type": "code",
   "execution_count": 67,
   "id": "fba4a339-1462-4145-a0b6-ec6361675ca3",
   "metadata": {},
   "outputs": [
    {
     "data": {
      "text/html": [
       "<div>\n",
       "<style scoped>\n",
       "    .dataframe tbody tr th:only-of-type {\n",
       "        vertical-align: middle;\n",
       "    }\n",
       "\n",
       "    .dataframe tbody tr th {\n",
       "        vertical-align: top;\n",
       "    }\n",
       "\n",
       "    .dataframe thead th {\n",
       "        text-align: right;\n",
       "    }\n",
       "</style>\n",
       "<table border=\"1\" class=\"dataframe\">\n",
       "  <thead>\n",
       "    <tr style=\"text-align: right;\">\n",
       "      <th></th>\n",
       "      <th>url</th>\n",
       "      <th>num_of_picture</th>\n",
       "      <th>text</th>\n",
       "      <th>target</th>\n",
       "    </tr>\n",
       "  </thead>\n",
       "  <tbody>\n",
       "    <tr>\n",
       "      <th>334</th>\n",
       "      <td>http://www.farmersnationalbank.com/</td>\n",
       "      <td>363</td>\n",
       "      <td>skip to contentrouting   071108423searchmenupe...</td>\n",
       "      <td>0</td>\n",
       "    </tr>\n",
       "    <tr>\n",
       "      <th>2623</th>\n",
       "      <td>https://www.taylorlivestockfarm.co.za</td>\n",
       "      <td>683</td>\n",
       "      <td>skip to contentmain menuwelcome totaylor lives...</td>\n",
       "      <td>1</td>\n",
       "    </tr>\n",
       "    <tr>\n",
       "      <th>502</th>\n",
       "      <td>http://www.peoples.com/peoples</td>\n",
       "      <td>556</td>\n",
       "      <td>skip to main contentpersonal customers\\tperson...</td>\n",
       "      <td>0</td>\n",
       "    </tr>\n",
       "    <tr>\n",
       "      <th>960</th>\n",
       "      <td>http://www.ca-cib.com/</td>\n",
       "      <td>1049</td>\n",
       "      <td>skip to main contentslide de la home page en n...</td>\n",
       "      <td>0</td>\n",
       "    </tr>\n",
       "    <tr>\n",
       "      <th>2903</th>\n",
       "      <td>https://cavoodlepuppiesforsale.business.site</td>\n",
       "      <td>970</td>\n",
       "      <td>cavoodle puppies for saleget quotecall nowg...</td>\n",
       "      <td>1</td>\n",
       "    </tr>\n",
       "    <tr>\n",
       "      <th>...</th>\n",
       "      <td>...</td>\n",
       "      <td>...</td>\n",
       "      <td>...</td>\n",
       "      <td>...</td>\n",
       "    </tr>\n",
       "    <tr>\n",
       "      <th>3142</th>\n",
       "      <td>http://www.profitableearnings.com</td>\n",
       "      <td>1213</td>\n",
       "      <td>16965 9 0 3   1269 57 0 3   0 99818 0 3   0 ...</td>\n",
       "      <td>1</td>\n",
       "    </tr>\n",
       "    <tr>\n",
       "      <th>3704</th>\n",
       "      <td>https://cryptopreco.com/</td>\n",
       "      <td>1814</td>\n",
       "      <td>server time  thursday  december 1 6 22 pm e ma...</td>\n",
       "      <td>1</td>\n",
       "    </tr>\n",
       "    <tr>\n",
       "      <th>2103</th>\n",
       "      <td>https://www.asahaldistribution.com</td>\n",
       "      <td>130</td>\n",
       "      <td>menucategorieshomelatest productsall productsf...</td>\n",
       "      <td>1</td>\n",
       "    </tr>\n",
       "    <tr>\n",
       "      <th>1912</th>\n",
       "      <td>http://www.americantower.com/</td>\n",
       "      <td>2017</td>\n",
       "      <td>about cookies on this sitewe use cookies to co...</td>\n",
       "      <td>0</td>\n",
       "    </tr>\n",
       "    <tr>\n",
       "      <th>2088</th>\n",
       "      <td>https://www.intlbankofengland.com</td>\n",
       "      <td>115</td>\n",
       "      <td>get free financial suggestion here email us   ...</td>\n",
       "      <td>1</td>\n",
       "    </tr>\n",
       "  </tbody>\n",
       "</table>\n",
       "<p>403 rows × 4 columns</p>\n",
       "</div>"
      ],
      "text/plain": [
       "                                               url  num_of_picture  \\\n",
       "334            http://www.farmersnationalbank.com/             363   \n",
       "2623         https://www.taylorlivestockfarm.co.za             683   \n",
       "502                 http://www.peoples.com/peoples             556   \n",
       "960                         http://www.ca-cib.com/            1049   \n",
       "2903  https://cavoodlepuppiesforsale.business.site             970   \n",
       "...                                            ...             ...   \n",
       "3142             http://www.profitableearnings.com            1213   \n",
       "3704                      https://cryptopreco.com/            1814   \n",
       "2103            https://www.asahaldistribution.com             130   \n",
       "1912                 http://www.americantower.com/            2017   \n",
       "2088             https://www.intlbankofengland.com             115   \n",
       "\n",
       "                                                   text  target  \n",
       "334   skip to contentrouting   071108423searchmenupe...       0  \n",
       "2623  skip to contentmain menuwelcome totaylor lives...       1  \n",
       "502   skip to main contentpersonal customers\\tperson...       0  \n",
       "960   skip to main contentslide de la home page en n...       0  \n",
       "2903  cavoodle puppies for saleget quotecall nowg...       1  \n",
       "...                                                 ...     ...  \n",
       "3142    16965 9 0 3   1269 57 0 3   0 99818 0 3   0 ...       1  \n",
       "3704  server time  thursday  december 1 6 22 pm e ma...       1  \n",
       "2103  menucategorieshomelatest productsall productsf...       1  \n",
       "1912  about cookies on this sitewe use cookies to co...       0  \n",
       "2088  get free financial suggestion here email us   ...       1  \n",
       "\n",
       "[403 rows x 4 columns]"
      ]
     },
     "execution_count": 67,
     "metadata": {},
     "output_type": "execute_result"
    }
   ],
   "source": [
    "sample_merged_key_df"
   ]
  },
  {
   "cell_type": "code",
   "execution_count": null,
   "id": "0b1551aa-b538-40db-a6bd-bb89c8795873",
   "metadata": {},
   "outputs": [],
   "source": []
  },
  {
   "cell_type": "code",
   "execution_count": null,
   "id": "61653d15-1e66-4915-b652-b749102a8d3a",
   "metadata": {},
   "outputs": [],
   "source": []
  },
  {
   "cell_type": "code",
   "execution_count": null,
   "id": "30c3fc80-4fe8-4068-89de-f417e8b72fdd",
   "metadata": {},
   "outputs": [],
   "source": []
  },
  {
   "cell_type": "code",
   "execution_count": null,
   "id": "72bbc842-bcfd-4a3b-926f-c7a64183e3b7",
   "metadata": {},
   "outputs": [],
   "source": []
  },
  {
   "cell_type": "code",
   "execution_count": null,
   "id": "05557688-8d18-4c5d-b2e0-48e84c6734f6",
   "metadata": {},
   "outputs": [],
   "source": []
  },
  {
   "cell_type": "code",
   "execution_count": null,
   "id": "6e529f94-f0fe-4913-9a8b-01d941f0c38d",
   "metadata": {},
   "outputs": [],
   "source": []
  },
  {
   "cell_type": "code",
   "execution_count": null,
   "id": "b8e4f80c-be92-420d-af4a-fa64f82198e2",
   "metadata": {},
   "outputs": [],
   "source": []
  },
  {
   "cell_type": "markdown",
   "id": "6270c47a-f183-415f-bc54-ea857c75843e",
   "metadata": {},
   "source": [
    "# Sequential Model"
   ]
  },
  {
   "cell_type": "code",
   "execution_count": 14,
   "id": "dc2dcf4d-55b7-4f1b-be3e-d33da7987b9f",
   "metadata": {},
   "outputs": [],
   "source": [
    "# Architecture\n",
    "\n",
    "def create_model(use_vgg=False):\n",
    "    if not use_vgg:\n",
    "        model = models.Sequential([\n",
    "            layers.Conv2D(16, (4, 4), activation='relu', input_shape=X.shape[1:]),\n",
    "            layers.MaxPool2D(2, 2),\n",
    "            layers.BatchNormalization(),\n",
    "\n",
    "            layers.Conv2D(16, (4, 4), activation='relu'),\n",
    "            layers.MaxPool2D(2, 2),\n",
    "            layers.BatchNormalization(),\n",
    "\n",
    "            layers.Conv2D(16, (4, 4), activation='relu'),\n",
    "            layers.MaxPool2D(2, 2),\n",
    "            layers.BatchNormalization(),\n",
    "\n",
    "            # layers.Conv2D(64, (2, 2), activation='relu'),\n",
    "            # layers.MaxPool2D(2, 2),\n",
    "            # layers.BatchNormalization(),\n",
    "\n",
    "            layers.Flatten(),\n",
    "\n",
    "            layers.Dense(64, activation='relu'),\n",
    "            # layers.Dropout(0.7),\n",
    "            layers.Dense(32, activation='relu'),\n",
    "            # layers.Dropout(0.7),\n",
    "            layers.Dense(16, activation='relu'),\n",
    "            # layers.Dropout(0.7),\n",
    "\n",
    "            layers.Dense(1, activation='sigmoid')\n",
    "        ])\n",
    "    else:\n",
    "        vgg_model = vgg19.VGG19(include_top=False, input_shape=X.shape[1:])\n",
    "        vgg_model.trainable = False\n",
    "        \n",
    "        model = models.Sequential([\n",
    "            vgg_model,\n",
    "            layers.Flatten(),\n",
    "            layers.Dense(128, activation='relu'),\n",
    "            layers.Dense(64, activation='relu'),\n",
    "            layers.Dense(1, activation='sigmoid')\n",
    "        ])\n",
    "    \n",
    "    return model\n",
    "\n",
    "def compile_model(model):\n",
    "    model.compile(\n",
    "        optimizer='adam',\n",
    "        loss='binary_crossentropy',\n",
    "        metrics=['accuracy']\n",
    "    )\n",
    "    \n",
    "    return model"
   ]
  },
  {
   "cell_type": "code",
   "execution_count": 15,
   "id": "95a2c6fd-a5b7-406c-8713-664bede8658c",
   "metadata": {},
   "outputs": [],
   "source": [
    "model = create_model()\n",
    "model = compile_model(model)"
   ]
  },
  {
   "cell_type": "code",
   "execution_count": 16,
   "id": "480cd37d-2dc1-4f7b-be78-f9a2b2579dde",
   "metadata": {},
   "outputs": [
    {
     "name": "stdout",
     "output_type": "stream",
     "text": [
      "Model: \"sequential\"\n",
      "_________________________________________________________________\n",
      " Layer (type)                Output Shape              Param #   \n",
      "=================================================================\n",
      " conv2d (Conv2D)             (None, 297, 397, 16)      784       \n",
      "                                                                 \n",
      " max_pooling2d (MaxPooling2D  (None, 148, 198, 16)     0         \n",
      " )                                                               \n",
      "                                                                 \n",
      " batch_normalization (BatchN  (None, 148, 198, 16)     64        \n",
      " ormalization)                                                   \n",
      "                                                                 \n",
      " conv2d_1 (Conv2D)           (None, 145, 195, 16)      4112      \n",
      "                                                                 \n",
      " max_pooling2d_1 (MaxPooling  (None, 72, 97, 16)       0         \n",
      " 2D)                                                             \n",
      "                                                                 \n",
      " batch_normalization_1 (Batc  (None, 72, 97, 16)       64        \n",
      " hNormalization)                                                 \n",
      "                                                                 \n",
      " conv2d_2 (Conv2D)           (None, 69, 94, 16)        4112      \n",
      "                                                                 \n",
      " max_pooling2d_2 (MaxPooling  (None, 34, 47, 16)       0         \n",
      " 2D)                                                             \n",
      "                                                                 \n",
      " batch_normalization_2 (Batc  (None, 34, 47, 16)       64        \n",
      " hNormalization)                                                 \n",
      "                                                                 \n",
      " flatten (Flatten)           (None, 25568)             0         \n",
      "                                                                 \n",
      " dense (Dense)               (None, 64)                1636416   \n",
      "                                                                 \n",
      " dense_1 (Dense)             (None, 32)                2080      \n",
      "                                                                 \n",
      " dense_2 (Dense)             (None, 16)                528       \n",
      "                                                                 \n",
      " dense_3 (Dense)             (None, 1)                 17        \n",
      "                                                                 \n",
      "=================================================================\n",
      "Total params: 1,648,241\n",
      "Trainable params: 1,648,145\n",
      "Non-trainable params: 96\n",
      "_________________________________________________________________\n"
     ]
    }
   ],
   "source": [
    "model.summary()"
   ]
  },
  {
   "cell_type": "code",
   "execution_count": null,
   "id": "ee2f1c51-9248-4d29-bd22-2d647fa8b906",
   "metadata": {},
   "outputs": [
    {
     "name": "stderr",
     "output_type": "stream",
     "text": [
      "2022-12-05 12:47:16.921506: W tensorflow/core/framework/cpu_allocator_impl.cc:82] Allocation of 4273920000 exceeds 10% of free system memory.\n"
     ]
    },
    {
     "name": "stdout",
     "output_type": "stream",
     "text": [
      "Epoch 1/50\n",
      "186/186 [==============================] - ETA: 0s - loss: 0.8968 - accuracy: 0.5482"
     ]
    },
    {
     "name": "stderr",
     "output_type": "stream",
     "text": [
      "2022-12-05 12:49:02.181115: W tensorflow/core/framework/cpu_allocator_impl.cc:82] Allocation of 1833120000 exceeds 10% of free system memory.\n"
     ]
    },
    {
     "name": "stdout",
     "output_type": "stream",
     "text": [
      "186/186 [==============================] - 106s 564ms/step - loss: 0.8968 - accuracy: 0.5482 - val_loss: 0.7610 - val_accuracy: 0.5255\n",
      "Epoch 2/50\n",
      "186/186 [==============================] - 95s 512ms/step - loss: 0.7089 - accuracy: 0.6034 - val_loss: 0.7109 - val_accuracy: 0.5232\n",
      "Epoch 3/50\n",
      "186/186 [==============================] - 98s 529ms/step - loss: 0.6822 - accuracy: 0.6001 - val_loss: 1.0548 - val_accuracy: 0.5302\n",
      "Epoch 4/50\n",
      "186/186 [==============================] - 97s 524ms/step - loss: 0.6714 - accuracy: 0.6223 - val_loss: 0.6841 - val_accuracy: 0.6017\n",
      "Epoch 5/50\n",
      "186/186 [==============================] - 99s 534ms/step - loss: 0.6236 - accuracy: 0.6594 - val_loss: 0.6689 - val_accuracy: 0.5719\n",
      "Epoch 6/50\n",
      "186/186 [==============================] - 100s 539ms/step - loss: 0.5674 - accuracy: 0.7072 - val_loss: 0.8909 - val_accuracy: 0.5271\n",
      "Epoch 7/50\n",
      "186/186 [==============================] - 99s 531ms/step - loss: 0.4957 - accuracy: 0.7672 - val_loss: 0.7175 - val_accuracy: 0.6025\n",
      "Epoch 8/50\n",
      "186/186 [==============================] - 101s 541ms/step - loss: 0.3908 - accuracy: 0.8258 - val_loss: 0.7124 - val_accuracy: 0.6693\n",
      "Epoch 9/50\n",
      "186/186 [==============================] - 93s 501ms/step - loss: 0.3294 - accuracy: 0.8598 - val_loss: 0.7349 - val_accuracy: 0.6630\n",
      "Epoch 10/50\n",
      "186/186 [==============================] - 101s 545ms/step - loss: 0.2450 - accuracy: 0.9060 - val_loss: 0.8444 - val_accuracy: 0.6709\n",
      "Epoch 11/50\n",
      "186/186 [==============================] - 3940s 21s/step - loss: 0.1760 - accuracy: 0.9353 - val_loss: 0.9500 - val_accuracy: 0.6881\n",
      "Epoch 12/50\n",
      "186/186 [==============================] - 83s 445ms/step - loss: 0.1265 - accuracy: 0.9532 - val_loss: 1.1120 - val_accuracy: 0.6748\n",
      "Epoch 13/50\n",
      "186/186 [==============================] - 100s 537ms/step - loss: 0.1090 - accuracy: 0.9646 - val_loss: 1.1142 - val_accuracy: 0.7038\n",
      "Epoch 14/50\n",
      "116/186 [=================>............] - ETA: 38s - loss: 0.0907 - accuracy: 0.9747"
     ]
    }
   ],
   "source": [
    "es = callbacks.EarlyStopping(patience=10, restore_best_weights=True)\n",
    "\n",
    "history = model.fit(\n",
    "    X,\n",
    "    y,\n",
    "    epochs=50,\n",
    "    validation_split=0.3,\n",
    "    batch_size=16,\n",
    "    callbacks=[es]\n",
    ")"
   ]
  },
  {
   "cell_type": "markdown",
   "id": "d74a9902-113f-4886-9ad6-84482e9d2005",
   "metadata": {},
   "source": [
    "# Functional Model"
   ]
  },
  {
   "cell_type": "code",
   "execution_count": null,
   "id": "b2f27d34-2f01-4b2c-87f0-f5eadfee312f",
   "metadata": {},
   "outputs": [],
   "source": [
    "from tensorflow.keras import layers, models, callbacks, Model\n",
    "\n",
    "# CNN Architecture\n",
    "cnn_input = layers.Input(shape=X.shape[1:])\n",
    "\n",
    "x = layers.Conv2D(16, (4, 4), activation='relu')(cnn_input)\n",
    "x = layers.MaxPool2D(2, 2)(x)\n",
    "x = layers.BatchNormalization()(x)\n",
    "\n",
    "x = layers.Conv2D(16, (4, 4), activation='relu')(x)\n",
    "x = layers.MaxPool2D(2, 2)(x)\n",
    "x = layers.BatchNormalization()(x)\n",
    "\n",
    "x = layers.Conv2D(16, (4, 4), activation='relu')(x)\n",
    "x = layers.MaxPool2D(2, 2)(x)\n",
    "x = layers.BatchNormalization()(x)\n",
    "\n",
    "cnn_output = layers.Flatten()(x)"
   ]
  },
  {
   "cell_type": "code",
   "execution_count": null,
   "id": "6d8af75d-fadf-4bff-b260-50960a75d201",
   "metadata": {},
   "outputs": [],
   "source": [
    "# Define NLP Architecture here"
   ]
  },
  {
   "cell_type": "code",
   "execution_count": null,
   "id": "8f2ca51c-5e45-4ad0-8c60-a3e9f7a9ecdc",
   "metadata": {},
   "outputs": [],
   "source": [
    "# Define NLP model and concatenate output\n",
    "combined = layers.concatenate([cnn_output, nlp_output])\n",
    "\n",
    "z = layers.Dense(64, activation='relu')(combined)\n",
    "z = layers.Dense(32, activation='relu')(z)\n",
    "\n",
    "final_output = layers.Dense(1, activation='sigmoid')(z)\n",
    "\n",
    "model = Model(cnn_input, output)"
   ]
  },
  {
   "cell_type": "code",
   "execution_count": null,
   "id": "2dfaaf7d-eb4a-4171-b9d9-f79f6e9a83aa",
   "metadata": {
    "tags": []
   },
   "outputs": [],
   "source": [
    "model.summary()"
   ]
  },
  {
   "cell_type": "code",
   "execution_count": null,
   "id": "1e20fe34-584b-4f29-9ed5-5c480b83f79a",
   "metadata": {},
   "outputs": [],
   "source": [
    "model = compile_model(model)\n",
    "\n",
    "history = model.fit(\n",
    "    X,\n",
    "    y,\n",
    "    epochs=25,\n",
    "    batch_size=16,\n",
    "    validation_split=0.3,\n",
    "    callbacks=callbacks.EarlyStopping(patience=10, restore_best_weights=True)\n",
    ")"
   ]
  },
  {
   "cell_type": "code",
   "execution_count": null,
   "id": "1678cd2e-b921-47a7-96a5-5aec3a4d7183",
   "metadata": {},
   "outputs": [],
   "source": []
  }
 ],
 "metadata": {
  "kernelspec": {
   "display_name": "Python 3 (ipykernel)",
   "language": "python",
   "name": "python3"
  },
  "language_info": {
   "codemirror_mode": {
    "name": "ipython",
    "version": 3
   },
   "file_extension": ".py",
   "mimetype": "text/x-python",
   "name": "python",
   "nbconvert_exporter": "python",
   "pygments_lexer": "ipython3",
   "version": "3.8.12"
  }
 },
 "nbformat": 4,
 "nbformat_minor": 5
}
