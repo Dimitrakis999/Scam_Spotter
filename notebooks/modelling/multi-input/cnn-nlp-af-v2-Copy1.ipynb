{
 "cells": [
  {
   "cell_type": "markdown",
   "id": "3346f433-04e7-4550-aa04-37cfbd9d936b",
   "metadata": {},
   "source": [
    "# Imports"
   ]
  },
  {
   "cell_type": "code",
   "execution_count": 1,
   "id": "af4b637c-e6b3-49f9-b0dd-83a95813b80c",
   "metadata": {},
   "outputs": [],
   "source": [
    "# Imports\n",
    "import os\n",
    "\n",
    "import numpy as np\n",
    "import pandas as pd\n",
    "import matplotlib.pyplot as plt\n",
    "from matplotlib.pyplot import imread\n",
    "from PIL import Image\n",
    "\n",
    "import tensorflow as tf\n",
    "from tensorflow.keras import layers, models, callbacks, Model"
   ]
  },
  {
   "cell_type": "code",
   "execution_count": 2,
   "id": "fd7730bd-880e-4d70-a73c-d7d3e10e3e76",
   "metadata": {},
   "outputs": [
    {
     "name": "stderr",
     "output_type": "stream",
     "text": [
      "[nltk_data] Downloading package stopwords to\n",
      "[nltk_data]     /home/jupyter/nltk_data...\n",
      "[nltk_data]   Package stopwords is already up-to-date!\n"
     ]
    },
    {
     "data": {
      "text/plain": [
       "True"
      ]
     },
     "execution_count": 2,
     "metadata": {},
     "output_type": "execute_result"
    }
   ],
   "source": [
    "from nltk.corpus import stopwords \n",
    "import string\n",
    "from nltk import word_tokenize \n",
    "import nltk\n",
    "from gensim.models import Word2Vec\n",
    "from sklearn.model_selection import train_test_split\n",
    "import gensim.downloader as api\n",
    "from keras.preprocessing.sequence import pad_sequences\n",
    "nltk.download('stopwords')"
   ]
  },
  {
   "cell_type": "markdown",
   "id": "86f2bd3b-c0c4-4ec7-a5c4-4f35b8d00364",
   "metadata": {},
   "source": [
    "# Paths and key frames"
   ]
  },
  {
   "cell_type": "code",
   "execution_count": 3,
   "id": "382f87c8-b317-42ab-b1de-21338d7975a5",
   "metadata": {},
   "outputs": [],
   "source": [
    "# Paths\n",
    "\n",
    "rel_imagedir_path = '../screen_scam/photo_all'\n",
    "legit_image_path = os.path.join(rel_imagedir_path, 'photo_legim_pic')\n",
    "scam_image_path = os.path.join(rel_imagedir_path, 'photo_scam_pic')"
   ]
  },
  {
   "cell_type": "code",
   "execution_count": 4,
   "id": "dec97193-5158-42d3-a573-c7be2a7d6ab9",
   "metadata": {},
   "outputs": [
    {
     "data": {
      "text/plain": [
       "('../screen_scam/photo_all/photo_legim_pic',\n",
       " '../screen_scam/photo_all/photo_scam_pic')"
      ]
     },
     "execution_count": 4,
     "metadata": {},
     "output_type": "execute_result"
    }
   ],
   "source": [
    "legit_image_path, scam_image_path"
   ]
  },
  {
   "cell_type": "code",
   "execution_count": 5,
   "id": "72ee92c5-0b2a-4cdd-a795-048d10a30807",
   "metadata": {},
   "outputs": [
    {
     "name": "stdout",
     "output_type": "stream",
     "text": [
      "(2189, 5)\n"
     ]
    }
   ],
   "source": [
    "# Legit websites\n",
    "\n",
    "legit_key_df = pd.read_csv('../data/legim_text_screenshots_key (1).csv')\n",
    "print(legit_key_df.shape)"
   ]
  },
  {
   "cell_type": "code",
   "execution_count": 6,
   "id": "76aab9a3-f34c-483b-b7ed-52584f26b739",
   "metadata": {},
   "outputs": [
    {
     "data": {
      "text/html": [
       "<div>\n",
       "<style scoped>\n",
       "    .dataframe tbody tr th:only-of-type {\n",
       "        vertical-align: middle;\n",
       "    }\n",
       "\n",
       "    .dataframe tbody tr th {\n",
       "        vertical-align: top;\n",
       "    }\n",
       "\n",
       "    .dataframe thead th {\n",
       "        text-align: right;\n",
       "    }\n",
       "</style>\n",
       "<table border=\"1\" class=\"dataframe\">\n",
       "  <thead>\n",
       "    <tr style=\"text-align: right;\">\n",
       "      <th></th>\n",
       "      <th>url</th>\n",
       "      <th>num_of_picture</th>\n",
       "      <th>text</th>\n",
       "      <th>target</th>\n",
       "    </tr>\n",
       "  </thead>\n",
       "  <tbody>\n",
       "    <tr>\n",
       "      <th>0</th>\n",
       "      <td>http://www.theaccessbankukltd.co.uk</td>\n",
       "      <td>0</td>\n",
       "      <td>menuaboutpersonalbusinessprivatedubainewsconta...</td>\n",
       "      <td>0</td>\n",
       "    </tr>\n",
       "    <tr>\n",
       "      <th>1</th>\n",
       "      <td>http://www.adambank.com</td>\n",
       "      <td>1</td>\n",
       "      <td>transfer contact usloginon 3 september 2022 we...</td>\n",
       "      <td>0</td>\n",
       "    </tr>\n",
       "    <tr>\n",
       "      <th>2</th>\n",
       "      <td>http://www.adib.co.uk</td>\n",
       "      <td>2</td>\n",
       "      <td>sign in​homeabout adibour brandmission   objec...</td>\n",
       "      <td>0</td>\n",
       "    </tr>\n",
       "    <tr>\n",
       "      <th>3</th>\n",
       "      <td>http://www.aldermore.co.uk</td>\n",
       "      <td>3</td>\n",
       "      <td>log inpersonalbusinessintermediariesabout usco...</td>\n",
       "      <td>0</td>\n",
       "    </tr>\n",
       "    <tr>\n",
       "      <th>4</th>\n",
       "      <td>http://www.allfunds.com/en</td>\n",
       "      <td>4</td>\n",
       "      <td>cookie configurationallfunds bank s a u   allf...</td>\n",
       "      <td>0</td>\n",
       "    </tr>\n",
       "    <tr>\n",
       "      <th>...</th>\n",
       "      <td>...</td>\n",
       "      <td>...</td>\n",
       "      <td>...</td>\n",
       "      <td>...</td>\n",
       "    </tr>\n",
       "    <tr>\n",
       "      <th>2184</th>\n",
       "      <td>http://www.roberthalf.com/</td>\n",
       "      <td>2104</td>\n",
       "      <td>this website uses cookies to improve user expe...</td>\n",
       "      <td>0</td>\n",
       "    </tr>\n",
       "    <tr>\n",
       "      <th>2185</th>\n",
       "      <td>http://www.compass-group.com/</td>\n",
       "      <td>2105</td>\n",
       "      <td>our use of cookieswe use necessary cookies to ...</td>\n",
       "      <td>0</td>\n",
       "    </tr>\n",
       "    <tr>\n",
       "      <th>2186</th>\n",
       "      <td>http://shop.hasbro.com/</td>\n",
       "      <td>2106</td>\n",
       "      <td>skip to main contentnl   nederlandsontdek spee...</td>\n",
       "      <td>0</td>\n",
       "    </tr>\n",
       "    <tr>\n",
       "      <th>2187</th>\n",
       "      <td>http://www.ropertech.com/</td>\n",
       "      <td>2107</td>\n",
       "      <td>skip to content↵enterskip to contentsimple ide...</td>\n",
       "      <td>0</td>\n",
       "    </tr>\n",
       "    <tr>\n",
       "      <th>2188</th>\n",
       "      <td>http://www.arkocorp.com/</td>\n",
       "      <td>2108</td>\n",
       "      <td>investorsoverviewnews   eventsoverviewpress re...</td>\n",
       "      <td>0</td>\n",
       "    </tr>\n",
       "  </tbody>\n",
       "</table>\n",
       "<p>1999 rows × 4 columns</p>\n",
       "</div>"
      ],
      "text/plain": [
       "                                      url  num_of_picture  \\\n",
       "0     http://www.theaccessbankukltd.co.uk               0   \n",
       "1                 http://www.adambank.com               1   \n",
       "2                   http://www.adib.co.uk               2   \n",
       "3              http://www.aldermore.co.uk               3   \n",
       "4              http://www.allfunds.com/en               4   \n",
       "...                                   ...             ...   \n",
       "2184           http://www.roberthalf.com/            2104   \n",
       "2185        http://www.compass-group.com/            2105   \n",
       "2186              http://shop.hasbro.com/            2106   \n",
       "2187            http://www.ropertech.com/            2107   \n",
       "2188             http://www.arkocorp.com/            2108   \n",
       "\n",
       "                                                   text  target  \n",
       "0     menuaboutpersonalbusinessprivatedubainewsconta...       0  \n",
       "1     transfer contact usloginon 3 september 2022 we...       0  \n",
       "2     sign in​homeabout adibour brandmission   objec...       0  \n",
       "3     log inpersonalbusinessintermediariesabout usco...       0  \n",
       "4     cookie configurationallfunds bank s a u   allf...       0  \n",
       "...                                                 ...     ...  \n",
       "2184  this website uses cookies to improve user expe...       0  \n",
       "2185  our use of cookieswe use necessary cookies to ...       0  \n",
       "2186  skip to main contentnl   nederlandsontdek spee...       0  \n",
       "2187  skip to content↵enterskip to contentsimple ide...       0  \n",
       "2188  investorsoverviewnews   eventsoverviewpress re...       0  \n",
       "\n",
       "[1999 rows x 4 columns]"
      ]
     },
     "execution_count": 6,
     "metadata": {},
     "output_type": "execute_result"
    }
   ],
   "source": [
    "legit_key_df = legit_key_df.drop(columns=['Unnamed: 0', 'index'])\n",
    "legit_key_df['target'] = 0\n",
    "legit_key_df = legit_key_df.drop_duplicates(subset='url')\n",
    "legit_key_df"
   ]
  },
  {
   "cell_type": "code",
   "execution_count": 7,
   "id": "e2fddd7c-2116-4c0f-b4ca-d5df8e12da62",
   "metadata": {},
   "outputs": [
    {
     "data": {
      "text/html": [
       "<div>\n",
       "<style scoped>\n",
       "    .dataframe tbody tr th:only-of-type {\n",
       "        vertical-align: middle;\n",
       "    }\n",
       "\n",
       "    .dataframe tbody tr th {\n",
       "        vertical-align: top;\n",
       "    }\n",
       "\n",
       "    .dataframe thead th {\n",
       "        text-align: right;\n",
       "    }\n",
       "</style>\n",
       "<table border=\"1\" class=\"dataframe\">\n",
       "  <thead>\n",
       "    <tr style=\"text-align: right;\">\n",
       "      <th></th>\n",
       "      <th>url</th>\n",
       "      <th>num_of_picture</th>\n",
       "      <th>text</th>\n",
       "      <th>target</th>\n",
       "    </tr>\n",
       "  </thead>\n",
       "  <tbody>\n",
       "    <tr>\n",
       "      <th>0</th>\n",
       "      <td>https://www.awesomeaussieshepherd.com</td>\n",
       "      <td>0</td>\n",
       "      <td>australian shepherd  homeabout usavailable pup...</td>\n",
       "      <td>1</td>\n",
       "    </tr>\n",
       "    <tr>\n",
       "      <th>1</th>\n",
       "      <td>http://www.gclservice.co.za</td>\n",
       "      <td>1</td>\n",
       "      <td>index of   \\tname\\tlast modified\\tsize\\tdescri...</td>\n",
       "      <td>1</td>\n",
       "    </tr>\n",
       "    <tr>\n",
       "      <th>2</th>\n",
       "      <td>https://www.gcloanservice.com</td>\n",
       "      <td>2</td>\n",
       "      <td>menuhomeloan applicationcontact usfaqsterms of...</td>\n",
       "      <td>1</td>\n",
       "    </tr>\n",
       "    <tr>\n",
       "      <th>3</th>\n",
       "      <td>http://www.authenicbiodocs.com</td>\n",
       "      <td>3</td>\n",
       "      <td>skip to contentpay with bitcoin25  discount fo...</td>\n",
       "      <td>1</td>\n",
       "    </tr>\n",
       "    <tr>\n",
       "      <th>4</th>\n",
       "      <td>https://www.thaiproductsllc.com</td>\n",
       "      <td>4</td>\n",
       "      <td>skip to content 61 3 9028 2716world wide shipp...</td>\n",
       "      <td>1</td>\n",
       "    </tr>\n",
       "    <tr>\n",
       "      <th>...</th>\n",
       "      <td>...</td>\n",
       "      <td>...</td>\n",
       "      <td>...</td>\n",
       "      <td>...</td>\n",
       "    </tr>\n",
       "    <tr>\n",
       "      <th>2029</th>\n",
       "      <td>https://www.reynoldsfinance.com</td>\n",
       "      <td>2175</td>\n",
       "      <td>reynoldsfinance comhomecontact usprivacy polic...</td>\n",
       "      <td>1</td>\n",
       "    </tr>\n",
       "    <tr>\n",
       "      <th>2030</th>\n",
       "      <td>https://www.heartfordcapital.com</td>\n",
       "      <td>2176</td>\n",
       "      <td>live chat 1 614 655 7713trade shares and forex...</td>\n",
       "      <td>1</td>\n",
       "    </tr>\n",
       "    <tr>\n",
       "      <th>2031</th>\n",
       "      <td>https://www.e1am.com</td>\n",
       "      <td>2177</td>\n",
       "      <td>skip to main contentlogin  by your side for m...</td>\n",
       "      <td>1</td>\n",
       "    </tr>\n",
       "    <tr>\n",
       "      <th>2032</th>\n",
       "      <td>https://www.blackwellcapital.com</td>\n",
       "      <td>2178</td>\n",
       "      <td>blackwell capital   800 917 7155homelendinginv...</td>\n",
       "      <td>1</td>\n",
       "    </tr>\n",
       "    <tr>\n",
       "      <th>2033</th>\n",
       "      <td>https://www.hanover-associates.com</td>\n",
       "      <td>2179</td>\n",
       "      <td>finance solutionsrecent closingsapply nowabout...</td>\n",
       "      <td>1</td>\n",
       "    </tr>\n",
       "  </tbody>\n",
       "</table>\n",
       "<p>2034 rows × 4 columns</p>\n",
       "</div>"
      ],
      "text/plain": [
       "                                        url  num_of_picture  \\\n",
       "0     https://www.awesomeaussieshepherd.com               0   \n",
       "1               http://www.gclservice.co.za               1   \n",
       "2             https://www.gcloanservice.com               2   \n",
       "3            http://www.authenicbiodocs.com               3   \n",
       "4           https://www.thaiproductsllc.com               4   \n",
       "...                                     ...             ...   \n",
       "2029        https://www.reynoldsfinance.com            2175   \n",
       "2030       https://www.heartfordcapital.com            2176   \n",
       "2031                   https://www.e1am.com            2177   \n",
       "2032       https://www.blackwellcapital.com            2178   \n",
       "2033     https://www.hanover-associates.com            2179   \n",
       "\n",
       "                                                   text  target  \n",
       "0     australian shepherd  homeabout usavailable pup...       1  \n",
       "1     index of   \\tname\\tlast modified\\tsize\\tdescri...       1  \n",
       "2     menuhomeloan applicationcontact usfaqsterms of...       1  \n",
       "3     skip to contentpay with bitcoin25  discount fo...       1  \n",
       "4     skip to content 61 3 9028 2716world wide shipp...       1  \n",
       "...                                                 ...     ...  \n",
       "2029  reynoldsfinance comhomecontact usprivacy polic...       1  \n",
       "2030  live chat 1 614 655 7713trade shares and forex...       1  \n",
       "2031   skip to main contentlogin  by your side for m...       1  \n",
       "2032  blackwell capital   800 917 7155homelendinginv...       1  \n",
       "2033  finance solutionsrecent closingsapply nowabout...       1  \n",
       "\n",
       "[2034 rows x 4 columns]"
      ]
     },
     "execution_count": 7,
     "metadata": {},
     "output_type": "execute_result"
    }
   ],
   "source": [
    "# Scam websites\n",
    "\n",
    "scam_key_df = pd.read_csv('../data/scam_text_screenshots_key (2).csv')\n",
    "scam_key_df = scam_key_df.drop(columns=['Unnamed: 0'])\n",
    "scam_key_df['target'] = 1\n",
    "scam_key_df"
   ]
  },
  {
   "cell_type": "code",
   "execution_count": 8,
   "id": "bebafb81-026a-4056-bb20-b37ffdcd5664",
   "metadata": {},
   "outputs": [],
   "source": [
    "merged_key_df = pd.concat([legit_key_df, scam_key_df], ignore_index=True).reset_index(drop=True)\n",
    "# merged_key_df = merged_key_df.sample(frac=1)"
   ]
  },
  {
   "cell_type": "code",
   "execution_count": 9,
   "id": "b6d47f9f-e72a-4a89-8a20-1f2e197e55e9",
   "metadata": {},
   "outputs": [
    {
     "data": {
      "text/html": [
       "<div>\n",
       "<style scoped>\n",
       "    .dataframe tbody tr th:only-of-type {\n",
       "        vertical-align: middle;\n",
       "    }\n",
       "\n",
       "    .dataframe tbody tr th {\n",
       "        vertical-align: top;\n",
       "    }\n",
       "\n",
       "    .dataframe thead th {\n",
       "        text-align: right;\n",
       "    }\n",
       "</style>\n",
       "<table border=\"1\" class=\"dataframe\">\n",
       "  <thead>\n",
       "    <tr style=\"text-align: right;\">\n",
       "      <th></th>\n",
       "      <th>url</th>\n",
       "      <th>num_of_picture</th>\n",
       "      <th>text</th>\n",
       "      <th>target</th>\n",
       "    </tr>\n",
       "  </thead>\n",
       "  <tbody>\n",
       "    <tr>\n",
       "      <th>0</th>\n",
       "      <td>http://www.theaccessbankukltd.co.uk</td>\n",
       "      <td>0</td>\n",
       "      <td>menuaboutpersonalbusinessprivatedubainewsconta...</td>\n",
       "      <td>0</td>\n",
       "    </tr>\n",
       "    <tr>\n",
       "      <th>1</th>\n",
       "      <td>http://www.adambank.com</td>\n",
       "      <td>1</td>\n",
       "      <td>transfer contact usloginon 3 september 2022 we...</td>\n",
       "      <td>0</td>\n",
       "    </tr>\n",
       "    <tr>\n",
       "      <th>2</th>\n",
       "      <td>http://www.adib.co.uk</td>\n",
       "      <td>2</td>\n",
       "      <td>sign in​homeabout adibour brandmission   objec...</td>\n",
       "      <td>0</td>\n",
       "    </tr>\n",
       "    <tr>\n",
       "      <th>3</th>\n",
       "      <td>http://www.aldermore.co.uk</td>\n",
       "      <td>3</td>\n",
       "      <td>log inpersonalbusinessintermediariesabout usco...</td>\n",
       "      <td>0</td>\n",
       "    </tr>\n",
       "    <tr>\n",
       "      <th>4</th>\n",
       "      <td>http://www.allfunds.com/en</td>\n",
       "      <td>4</td>\n",
       "      <td>cookie configurationallfunds bank s a u   allf...</td>\n",
       "      <td>0</td>\n",
       "    </tr>\n",
       "    <tr>\n",
       "      <th>...</th>\n",
       "      <td>...</td>\n",
       "      <td>...</td>\n",
       "      <td>...</td>\n",
       "      <td>...</td>\n",
       "    </tr>\n",
       "    <tr>\n",
       "      <th>4028</th>\n",
       "      <td>https://www.reynoldsfinance.com</td>\n",
       "      <td>2175</td>\n",
       "      <td>reynoldsfinance comhomecontact usprivacy polic...</td>\n",
       "      <td>1</td>\n",
       "    </tr>\n",
       "    <tr>\n",
       "      <th>4029</th>\n",
       "      <td>https://www.heartfordcapital.com</td>\n",
       "      <td>2176</td>\n",
       "      <td>live chat 1 614 655 7713trade shares and forex...</td>\n",
       "      <td>1</td>\n",
       "    </tr>\n",
       "    <tr>\n",
       "      <th>4030</th>\n",
       "      <td>https://www.e1am.com</td>\n",
       "      <td>2177</td>\n",
       "      <td>skip to main contentlogin  by your side for m...</td>\n",
       "      <td>1</td>\n",
       "    </tr>\n",
       "    <tr>\n",
       "      <th>4031</th>\n",
       "      <td>https://www.blackwellcapital.com</td>\n",
       "      <td>2178</td>\n",
       "      <td>blackwell capital   800 917 7155homelendinginv...</td>\n",
       "      <td>1</td>\n",
       "    </tr>\n",
       "    <tr>\n",
       "      <th>4032</th>\n",
       "      <td>https://www.hanover-associates.com</td>\n",
       "      <td>2179</td>\n",
       "      <td>finance solutionsrecent closingsapply nowabout...</td>\n",
       "      <td>1</td>\n",
       "    </tr>\n",
       "  </tbody>\n",
       "</table>\n",
       "<p>4033 rows × 4 columns</p>\n",
       "</div>"
      ],
      "text/plain": [
       "                                      url  num_of_picture  \\\n",
       "0     http://www.theaccessbankukltd.co.uk               0   \n",
       "1                 http://www.adambank.com               1   \n",
       "2                   http://www.adib.co.uk               2   \n",
       "3              http://www.aldermore.co.uk               3   \n",
       "4              http://www.allfunds.com/en               4   \n",
       "...                                   ...             ...   \n",
       "4028      https://www.reynoldsfinance.com            2175   \n",
       "4029     https://www.heartfordcapital.com            2176   \n",
       "4030                 https://www.e1am.com            2177   \n",
       "4031     https://www.blackwellcapital.com            2178   \n",
       "4032   https://www.hanover-associates.com            2179   \n",
       "\n",
       "                                                   text  target  \n",
       "0     menuaboutpersonalbusinessprivatedubainewsconta...       0  \n",
       "1     transfer contact usloginon 3 september 2022 we...       0  \n",
       "2     sign in​homeabout adibour brandmission   objec...       0  \n",
       "3     log inpersonalbusinessintermediariesabout usco...       0  \n",
       "4     cookie configurationallfunds bank s a u   allf...       0  \n",
       "...                                                 ...     ...  \n",
       "4028  reynoldsfinance comhomecontact usprivacy polic...       1  \n",
       "4029  live chat 1 614 655 7713trade shares and forex...       1  \n",
       "4030   skip to main contentlogin  by your side for m...       1  \n",
       "4031  blackwell capital   800 917 7155homelendinginv...       1  \n",
       "4032  finance solutionsrecent closingsapply nowabout...       1  \n",
       "\n",
       "[4033 rows x 4 columns]"
      ]
     },
     "execution_count": 9,
     "metadata": {},
     "output_type": "execute_result"
    }
   ],
   "source": [
    "merged_key_df"
   ]
  },
  {
   "cell_type": "markdown",
   "id": "87edcf5f-6dde-4002-8a47-194c6ed4e971",
   "metadata": {},
   "source": [
    "# Checking image shape"
   ]
  },
  {
   "cell_type": "code",
   "execution_count": 10,
   "id": "dfbcd2cc-a601-4922-a2e0-20d78ce00f32",
   "metadata": {},
   "outputs": [],
   "source": [
    "def image_shape_check(image_dir):\n",
    "    \n",
    "    print('Generating Paths')\n",
    "    image_paths = []\n",
    "    for image in os.listdir(image_dir):\n",
    "        if image.endswith('.png'):\n",
    "            # print(image)\n",
    "            image_paths.append(os.path.join(image_dir, image))\n",
    "    # print(image_paths)\n",
    "    \n",
    "    print('Checking Shapes')\n",
    "    image_shapes = []\n",
    "    for image in image_paths:\n",
    "        np_image = imread(image)\n",
    "        image_shapes.append(np_image.shape)\n",
    "    \n",
    "    print(f'Shapes found: {list(set(image_shapes))}')"
   ]
  },
  {
   "cell_type": "code",
   "execution_count": 11,
   "id": "a5265f7d-e6d3-4bb9-83d8-8a98dd90a03e",
   "metadata": {},
   "outputs": [],
   "source": [
    "# Takes a while to run and will use a lot of memory\n",
    "# image_shape_check(legit_image_path)"
   ]
  },
  {
   "cell_type": "code",
   "execution_count": 12,
   "id": "053107b5-e460-4d0a-88c9-e1a2f5a67268",
   "metadata": {},
   "outputs": [],
   "source": [
    "# Takes a while to run and will use a lot of memory\n",
    "# image_shape_check(scam_image_path)"
   ]
  },
  {
   "cell_type": "code",
   "execution_count": 13,
   "id": "f32854fe-40a9-4f29-9a90-91554eb7ab18",
   "metadata": {},
   "outputs": [],
   "source": [
    "def pillow_check(path_, img='3.png'):\n",
    "    image = Image.open(os.path.join(path_, img))\n",
    "    print(f'Image format: {image.format}')\n",
    "    print(f'Image size: {image.size}')\n",
    "    print(f'Image channels: {image.mode}')"
   ]
  },
  {
   "cell_type": "code",
   "execution_count": 14,
   "id": "98a6eaf5-af77-44d2-802e-931e59415f18",
   "metadata": {},
   "outputs": [
    {
     "name": "stdout",
     "output_type": "stream",
     "text": [
      "Image format: PNG\n",
      "Image size: (800, 600)\n",
      "Image channels: RGBA\n"
     ]
    }
   ],
   "source": [
    "pillow_check(legit_image_path, '5.png')"
   ]
  },
  {
   "cell_type": "code",
   "execution_count": 15,
   "id": "5e53d36f-ee7e-41ec-af01-ca312abca925",
   "metadata": {},
   "outputs": [
    {
     "name": "stdout",
     "output_type": "stream",
     "text": [
      "Image format: PNG\n",
      "Image size: (800, 600)\n",
      "Image channels: RGBA\n"
     ]
    }
   ],
   "source": [
    "pillow_check(scam_image_path, '5.png')"
   ]
  },
  {
   "cell_type": "code",
   "execution_count": 16,
   "id": "08da8926-f283-40dd-bb05-3656e4230cec",
   "metadata": {},
   "outputs": [],
   "source": [
    "# we don't need the alpha channel of the image"
   ]
  },
  {
   "cell_type": "markdown",
   "id": "1e682583-386b-4add-ac33-0ae9cd1e784c",
   "metadata": {},
   "source": [
    "# Loading Data"
   ]
  },
  {
   "cell_type": "code",
   "execution_count": 17,
   "id": "d49d1371-f1a5-498d-936f-c1d7234ead13",
   "metadata": {},
   "outputs": [],
   "source": [
    "def load_data(key_df, legit_imagedir_path, scam_imagedir_path):\n",
    "    \n",
    "    X_image = []\n",
    "    X_text = []\n",
    "    y = []\n",
    "    \n",
    "    for index, row in key_df.iterrows():\n",
    "        if index % 100 == 0:\n",
    "            print(f'loaded {index} data points')\n",
    "        \n",
    "        # Append image to X_image\n",
    "        if row['target'] == 0:\n",
    "            image_path = os.path.join(legit_imagedir_path, f\"{row['num_of_picture']}.png\")\n",
    "            np_legit_image = imread(image_path)[:, :, :3] # slice off the alpha channel\n",
    "            np_legit_image = tf.image.resize(np_legit_image, (300, 400))\n",
    "            X_image.append(np_legit_image)\n",
    "            \n",
    "        elif row['target'] == 1:\n",
    "            image_path = os.path.join(scam_imagedir_path, f\"{row['num_of_picture']}.png\")\n",
    "            np_legit_image = imread(image_path)[:, :, :3] # slice off the alpha channel\n",
    "            np_legit_image = tf.image.resize(np_legit_image, (300, 400))\n",
    "            X_image.append(np_legit_image)\n",
    "        \n",
    "        # Load text\n",
    "        X_text.append(row['text'])\n",
    "        \n",
    "        y.append(row['target'])\n",
    "    \n",
    "    print('\\nFinished loading data!')\n",
    "    # print(X_image)\n",
    "    return np.array(X_image), X_text, np.array(y)"
   ]
  },
  {
   "cell_type": "code",
   "execution_count": 18,
   "id": "02620c5d-b6db-4c6c-9d89-392b095934dd",
   "metadata": {},
   "outputs": [
    {
     "data": {
      "text/html": [
       "<div>\n",
       "<style scoped>\n",
       "    .dataframe tbody tr th:only-of-type {\n",
       "        vertical-align: middle;\n",
       "    }\n",
       "\n",
       "    .dataframe tbody tr th {\n",
       "        vertical-align: top;\n",
       "    }\n",
       "\n",
       "    .dataframe thead th {\n",
       "        text-align: right;\n",
       "    }\n",
       "</style>\n",
       "<table border=\"1\" class=\"dataframe\">\n",
       "  <thead>\n",
       "    <tr style=\"text-align: right;\">\n",
       "      <th></th>\n",
       "      <th>url</th>\n",
       "      <th>num_of_picture</th>\n",
       "      <th>text</th>\n",
       "      <th>target</th>\n",
       "    </tr>\n",
       "  </thead>\n",
       "  <tbody>\n",
       "    <tr>\n",
       "      <th>0</th>\n",
       "      <td>http://www.theaccessbankukltd.co.uk</td>\n",
       "      <td>0</td>\n",
       "      <td>menuaboutpersonalbusinessprivatedubainewsconta...</td>\n",
       "      <td>0</td>\n",
       "    </tr>\n",
       "    <tr>\n",
       "      <th>1</th>\n",
       "      <td>http://www.adambank.com</td>\n",
       "      <td>1</td>\n",
       "      <td>transfer contact usloginon 3 september 2022 we...</td>\n",
       "      <td>0</td>\n",
       "    </tr>\n",
       "    <tr>\n",
       "      <th>2</th>\n",
       "      <td>http://www.adib.co.uk</td>\n",
       "      <td>2</td>\n",
       "      <td>sign in​homeabout adibour brandmission   objec...</td>\n",
       "      <td>0</td>\n",
       "    </tr>\n",
       "    <tr>\n",
       "      <th>3</th>\n",
       "      <td>http://www.aldermore.co.uk</td>\n",
       "      <td>3</td>\n",
       "      <td>log inpersonalbusinessintermediariesabout usco...</td>\n",
       "      <td>0</td>\n",
       "    </tr>\n",
       "    <tr>\n",
       "      <th>4</th>\n",
       "      <td>http://www.allfunds.com/en</td>\n",
       "      <td>4</td>\n",
       "      <td>cookie configurationallfunds bank s a u   allf...</td>\n",
       "      <td>0</td>\n",
       "    </tr>\n",
       "    <tr>\n",
       "      <th>...</th>\n",
       "      <td>...</td>\n",
       "      <td>...</td>\n",
       "      <td>...</td>\n",
       "      <td>...</td>\n",
       "    </tr>\n",
       "    <tr>\n",
       "      <th>4028</th>\n",
       "      <td>https://www.reynoldsfinance.com</td>\n",
       "      <td>2175</td>\n",
       "      <td>reynoldsfinance comhomecontact usprivacy polic...</td>\n",
       "      <td>1</td>\n",
       "    </tr>\n",
       "    <tr>\n",
       "      <th>4029</th>\n",
       "      <td>https://www.heartfordcapital.com</td>\n",
       "      <td>2176</td>\n",
       "      <td>live chat 1 614 655 7713trade shares and forex...</td>\n",
       "      <td>1</td>\n",
       "    </tr>\n",
       "    <tr>\n",
       "      <th>4030</th>\n",
       "      <td>https://www.e1am.com</td>\n",
       "      <td>2177</td>\n",
       "      <td>skip to main contentlogin  by your side for m...</td>\n",
       "      <td>1</td>\n",
       "    </tr>\n",
       "    <tr>\n",
       "      <th>4031</th>\n",
       "      <td>https://www.blackwellcapital.com</td>\n",
       "      <td>2178</td>\n",
       "      <td>blackwell capital   800 917 7155homelendinginv...</td>\n",
       "      <td>1</td>\n",
       "    </tr>\n",
       "    <tr>\n",
       "      <th>4032</th>\n",
       "      <td>https://www.hanover-associates.com</td>\n",
       "      <td>2179</td>\n",
       "      <td>finance solutionsrecent closingsapply nowabout...</td>\n",
       "      <td>1</td>\n",
       "    </tr>\n",
       "  </tbody>\n",
       "</table>\n",
       "<p>4033 rows × 4 columns</p>\n",
       "</div>"
      ],
      "text/plain": [
       "                                      url  num_of_picture  \\\n",
       "0     http://www.theaccessbankukltd.co.uk               0   \n",
       "1                 http://www.adambank.com               1   \n",
       "2                   http://www.adib.co.uk               2   \n",
       "3              http://www.aldermore.co.uk               3   \n",
       "4              http://www.allfunds.com/en               4   \n",
       "...                                   ...             ...   \n",
       "4028      https://www.reynoldsfinance.com            2175   \n",
       "4029     https://www.heartfordcapital.com            2176   \n",
       "4030                 https://www.e1am.com            2177   \n",
       "4031     https://www.blackwellcapital.com            2178   \n",
       "4032   https://www.hanover-associates.com            2179   \n",
       "\n",
       "                                                   text  target  \n",
       "0     menuaboutpersonalbusinessprivatedubainewsconta...       0  \n",
       "1     transfer contact usloginon 3 september 2022 we...       0  \n",
       "2     sign in​homeabout adibour brandmission   objec...       0  \n",
       "3     log inpersonalbusinessintermediariesabout usco...       0  \n",
       "4     cookie configurationallfunds bank s a u   allf...       0  \n",
       "...                                                 ...     ...  \n",
       "4028  reynoldsfinance comhomecontact usprivacy polic...       1  \n",
       "4029  live chat 1 614 655 7713trade shares and forex...       1  \n",
       "4030   skip to main contentlogin  by your side for m...       1  \n",
       "4031  blackwell capital   800 917 7155homelendinginv...       1  \n",
       "4032  finance solutionsrecent closingsapply nowabout...       1  \n",
       "\n",
       "[4033 rows x 4 columns]"
      ]
     },
     "execution_count": 18,
     "metadata": {},
     "output_type": "execute_result"
    }
   ],
   "source": [
    "merged_key_df"
   ]
  },
  {
   "cell_type": "code",
   "execution_count": 19,
   "id": "d89a87e1-031a-422e-a60f-169c524bce11",
   "metadata": {
    "tags": []
   },
   "outputs": [
    {
     "name": "stderr",
     "output_type": "stream",
     "text": [
      "2022-12-06 14:32:29.954264: I tensorflow/stream_executor/cuda/cuda_gpu_executor.cc:936] successful NUMA node read from SysFS had negative value (-1), but there must be at least one NUMA node, so returning NUMA node zero\n",
      "2022-12-06 14:32:29.967132: I tensorflow/stream_executor/cuda/cuda_gpu_executor.cc:936] successful NUMA node read from SysFS had negative value (-1), but there must be at least one NUMA node, so returning NUMA node zero\n",
      "2022-12-06 14:32:29.968966: I tensorflow/stream_executor/cuda/cuda_gpu_executor.cc:936] successful NUMA node read from SysFS had negative value (-1), but there must be at least one NUMA node, so returning NUMA node zero\n",
      "2022-12-06 14:32:29.971547: I tensorflow/core/platform/cpu_feature_guard.cc:151] This TensorFlow binary is optimized with oneAPI Deep Neural Network Library (oneDNN) to use the following CPU instructions in performance-critical operations:  AVX2 AVX512F FMA\n",
      "To enable them in other operations, rebuild TensorFlow with the appropriate compiler flags.\n",
      "2022-12-06 14:32:29.972028: I tensorflow/stream_executor/cuda/cuda_gpu_executor.cc:936] successful NUMA node read from SysFS had negative value (-1), but there must be at least one NUMA node, so returning NUMA node zero\n",
      "2022-12-06 14:32:29.973793: I tensorflow/stream_executor/cuda/cuda_gpu_executor.cc:936] successful NUMA node read from SysFS had negative value (-1), but there must be at least one NUMA node, so returning NUMA node zero\n",
      "2022-12-06 14:32:29.975516: I tensorflow/stream_executor/cuda/cuda_gpu_executor.cc:936] successful NUMA node read from SysFS had negative value (-1), but there must be at least one NUMA node, so returning NUMA node zero\n",
      "2022-12-06 14:32:30.620514: I tensorflow/stream_executor/cuda/cuda_gpu_executor.cc:936] successful NUMA node read from SysFS had negative value (-1), but there must be at least one NUMA node, so returning NUMA node zero\n",
      "2022-12-06 14:32:30.622570: I tensorflow/stream_executor/cuda/cuda_gpu_executor.cc:936] successful NUMA node read from SysFS had negative value (-1), but there must be at least one NUMA node, so returning NUMA node zero\n",
      "2022-12-06 14:32:30.624277: I tensorflow/stream_executor/cuda/cuda_gpu_executor.cc:936] successful NUMA node read from SysFS had negative value (-1), but there must be at least one NUMA node, so returning NUMA node zero\n",
      "2022-12-06 14:32:30.625943: I tensorflow/core/common_runtime/gpu/gpu_device.cc:1525] Created device /job:localhost/replica:0/task:0/device:GPU:0 with 13598 MB memory:  -> device: 0, name: Tesla T4, pci bus id: 0000:00:04.0, compute capability: 7.5\n"
     ]
    },
    {
     "name": "stdout",
     "output_type": "stream",
     "text": [
      "loaded 2100 data points\n",
      "loaded 1300 data points\n",
      "loaded 3900 data points\n",
      "loaded 3600 data points\n",
      "\n",
      "Finished loading data!\n"
     ]
    }
   ],
   "source": [
    "X_image, X_text, y = load_data(merged_key_df.sample(frac=0.1), legit_image_path, scam_image_path)"
   ]
  },
  {
   "cell_type": "code",
   "execution_count": null,
   "id": "792a5da6-3cb1-4c4c-8728-c50860201f22",
   "metadata": {},
   "outputs": [],
   "source": []
  },
  {
   "cell_type": "markdown",
   "id": "212d8d44-f75c-4dc3-b356-a6cb0aaf1134",
   "metadata": {},
   "source": [
    "# Proproccess Text"
   ]
  },
  {
   "cell_type": "code",
   "execution_count": 20,
   "id": "e181040b-268f-45c5-8c41-506efa6e60e6",
   "metadata": {},
   "outputs": [],
   "source": [
    "def clean(text):\n",
    "    text = text.split()\n",
    "    words_only = [word for word in text if word.isalpha()]\n",
    "    for punctuation in string.punctuation:\n",
    "        words_only = [word.replace(punctuation, ' ').lower() for word in words_only] # Remove Punctuation\n",
    "    stop_words = set(stopwords.words('english')) # Make stopword list\n",
    "    without_stopwords = [word for word in words_only if not word in stop_words] # Remove Stop Words\n",
    "    return without_stopwords"
   ]
  },
  {
   "cell_type": "code",
   "execution_count": 21,
   "id": "fba4a339-1462-4145-a0b6-ec6361675ca3",
   "metadata": {
    "tags": []
   },
   "outputs": [],
   "source": [
    "def text_cleaner(list_text,list_target):\n",
    "    list_clean_text=[]\n",
    "    for text in list_text:\n",
    "        #print(text)\n",
    "        cleen_txt=clean(text)#[0]\n",
    "        list_clean_text.append(cleen_txt)\n",
    "        \n",
    "    df=pd.DataFrame()\n",
    "    df['clean_text']=np.array(list_clean_text)\n",
    "    df['Target']=np.array(list_target)\n",
    "    return df\n",
    "        "
   ]
  },
  {
   "cell_type": "code",
   "execution_count": 22,
   "id": "0b1551aa-b538-40db-a6bd-bb89c8795873",
   "metadata": {},
   "outputs": [
    {
     "name": "stderr",
     "output_type": "stream",
     "text": [
      "/opt/conda/lib/python3.7/site-packages/ipykernel_launcher.py:9: VisibleDeprecationWarning: Creating an ndarray from ragged nested sequences (which is a list-or-tuple of lists-or-tuples-or ndarrays with different lengths or shapes) is deprecated. If you meant to do this, you must specify 'dtype=object' when creating the ndarray.\n",
      "  if __name__ == \"__main__\":\n"
     ]
    }
   ],
   "source": [
    "df_clean=text_cleaner(X_text,y)\n",
    "df_clean.reset_index(drop = True, inplace=True)"
   ]
  },
  {
   "cell_type": "code",
   "execution_count": 23,
   "id": "61653d15-1e66-4915-b652-b749102a8d3a",
   "metadata": {
    "tags": []
   },
   "outputs": [
    {
     "data": {
      "text/html": [
       "<div>\n",
       "<style scoped>\n",
       "    .dataframe tbody tr th:only-of-type {\n",
       "        vertical-align: middle;\n",
       "    }\n",
       "\n",
       "    .dataframe tbody tr th {\n",
       "        vertical-align: top;\n",
       "    }\n",
       "\n",
       "    .dataframe thead th {\n",
       "        text-align: right;\n",
       "    }\n",
       "</style>\n",
       "<table border=\"1\" class=\"dataframe\">\n",
       "  <thead>\n",
       "    <tr style=\"text-align: right;\">\n",
       "      <th></th>\n",
       "      <th>clean_text</th>\n",
       "      <th>Target</th>\n",
       "    </tr>\n",
       "  </thead>\n",
       "  <tbody>\n",
       "    <tr>\n",
       "      <th>0</th>\n",
       "      <td>[skip, contentmenulevelsplatformsinstrumentsdi...</td>\n",
       "      <td>1</td>\n",
       "    </tr>\n",
       "    <tr>\n",
       "      <th>1</th>\n",
       "      <td>[skip, contentphatastic, toyssample, pagehello...</td>\n",
       "      <td>1</td>\n",
       "    </tr>\n",
       "    <tr>\n",
       "      <th>2</th>\n",
       "      <td>[website, stores, data, cookies, enable, essen...</td>\n",
       "      <td>0</td>\n",
       "    </tr>\n",
       "    <tr>\n",
       "      <th>3</th>\n",
       "      <td>[skip, contentlangenhoven, straat, dan, pienaa...</td>\n",
       "      <td>1</td>\n",
       "    </tr>\n",
       "    <tr>\n",
       "      <th>4</th>\n",
       "      <td>[hip, systemrosa, hip, personalized, robotic, ...</td>\n",
       "      <td>0</td>\n",
       "    </tr>\n",
       "    <tr>\n",
       "      <th>...</th>\n",
       "      <td>...</td>\n",
       "      <td>...</td>\n",
       "    </tr>\n",
       "    <tr>\n",
       "      <th>398</th>\n",
       "      <td>[coss, crypto, one, stop, solutionbuy, trade, ...</td>\n",
       "      <td>0</td>\n",
       "    </tr>\n",
       "    <tr>\n",
       "      <th>399</th>\n",
       "      <td>[skip, main, contenttoday, leader, legal, tech...</td>\n",
       "      <td>0</td>\n",
       "    </tr>\n",
       "    <tr>\n",
       "      <th>400</th>\n",
       "      <td>[skip, content, menudoes, bankshare, heartfor,...</td>\n",
       "      <td>0</td>\n",
       "    </tr>\n",
       "    <tr>\n",
       "      <th>401</th>\n",
       "      <td>[bankers, bank, kansaslog, bank, kansasprovidi...</td>\n",
       "      <td>0</td>\n",
       "    </tr>\n",
       "    <tr>\n",
       "      <th>402</th>\n",
       "      <td>[skip, main, contentinvestor, relationsinvesto...</td>\n",
       "      <td>0</td>\n",
       "    </tr>\n",
       "  </tbody>\n",
       "</table>\n",
       "<p>403 rows × 2 columns</p>\n",
       "</div>"
      ],
      "text/plain": [
       "                                            clean_text  Target\n",
       "0    [skip, contentmenulevelsplatformsinstrumentsdi...       1\n",
       "1    [skip, contentphatastic, toyssample, pagehello...       1\n",
       "2    [website, stores, data, cookies, enable, essen...       0\n",
       "3    [skip, contentlangenhoven, straat, dan, pienaa...       1\n",
       "4    [hip, systemrosa, hip, personalized, robotic, ...       0\n",
       "..                                                 ...     ...\n",
       "398  [coss, crypto, one, stop, solutionbuy, trade, ...       0\n",
       "399  [skip, main, contenttoday, leader, legal, tech...       0\n",
       "400  [skip, content, menudoes, bankshare, heartfor,...       0\n",
       "401  [bankers, bank, kansaslog, bank, kansasprovidi...       0\n",
       "402  [skip, main, contentinvestor, relationsinvesto...       0\n",
       "\n",
       "[403 rows x 2 columns]"
      ]
     },
     "execution_count": 23,
     "metadata": {},
     "output_type": "execute_result"
    }
   ],
   "source": [
    "df_clean"
   ]
  },
  {
   "cell_type": "code",
   "execution_count": 24,
   "id": "30c3fc80-4fe8-4068-89de-f417e8b72fdd",
   "metadata": {
    "tags": []
   },
   "outputs": [],
   "source": [
    "#X_train, X_test, y_train, y_test = train_test_split(df_clean['clean_text'], df_clean['Target'], shuffle = True, test_size = 0.2)\n"
   ]
  },
  {
   "cell_type": "code",
   "execution_count": 25,
   "id": "72bbc842-bcfd-4a3b-926f-c7a64183e3b7",
   "metadata": {},
   "outputs": [],
   "source": [
    "word2vec_transfer = api.load('glove-wiki-gigaword-100')"
   ]
  },
  {
   "cell_type": "code",
   "execution_count": 26,
   "id": "05557688-8d18-4c5d-b2e0-48e84c6734f6",
   "metadata": {
    "tags": []
   },
   "outputs": [
    {
     "data": {
      "text/plain": [
       "array([ 0.30817  ,  0.30938  ,  0.52803  , -0.92543  , -0.73671  ,\n",
       "        0.63475  ,  0.44197  ,  0.10262  , -0.09142  , -0.56607  ,\n",
       "       -0.5327   ,  0.2013   ,  0.7704   , -0.13983  ,  0.13727  ,\n",
       "        1.1128   ,  0.89301  , -0.17869  , -0.0019722,  0.57289  ,\n",
       "        0.59479  ,  0.50428  , -0.28991  , -1.3491   ,  0.42756  ,\n",
       "        1.2748   , -1.1613   , -0.41084  ,  0.042804 ,  0.54866  ,\n",
       "        0.18897  ,  0.3759   ,  0.58035  ,  0.66975  ,  0.81156  ,\n",
       "        0.93864  , -0.51005  , -0.070079 ,  0.82819  , -0.35346  ,\n",
       "        0.21086  , -0.24412  , -0.16554  , -0.78358  , -0.48482  ,\n",
       "        0.38968  , -0.86356  , -0.016391 ,  0.31984  , -0.49246  ,\n",
       "       -0.069363 ,  0.018869 , -0.098286 ,  1.3126   , -0.12116  ,\n",
       "       -1.2399   , -0.091429 ,  0.35294  ,  0.64645  ,  0.089642 ,\n",
       "        0.70294  ,  1.1244   ,  0.38639  ,  0.52084  ,  0.98787  ,\n",
       "        0.79952  , -0.34625  ,  0.14095  ,  0.80167  ,  0.20987  ,\n",
       "       -0.86007  , -0.15308  ,  0.074523 ,  0.40816  ,  0.019208 ,\n",
       "        0.51587  , -0.34428  , -0.24525  , -0.77984  ,  0.27425  ,\n",
       "        0.22418  ,  0.20164  ,  0.017431 , -0.014697 , -1.0235   ,\n",
       "       -0.39695  , -0.0056188,  0.30569  ,  0.31748  ,  0.021404 ,\n",
       "        0.11837  , -0.11319  ,  0.42456  ,  0.53405  , -0.16717  ,\n",
       "       -0.27185  , -0.6255   ,  0.12883  ,  0.62529  , -0.52086  ],\n",
       "      dtype=float32)"
      ]
     },
     "execution_count": 26,
     "metadata": {},
     "output_type": "execute_result"
    }
   ],
   "source": [
    "word2vec_transfer['dog']"
   ]
  },
  {
   "cell_type": "code",
   "execution_count": 27,
   "id": "6e529f94-f0fe-4913-9a8b-01d941f0c38d",
   "metadata": {},
   "outputs": [],
   "source": [
    "def embed_sentence_with_TF(word2vec, sentence):\n",
    "    embedded_sentence = []\n",
    "    for word in sentence:\n",
    "        if word in word2vec:\n",
    "            embedded_sentence.append(word2vec[word])\n",
    "        \n",
    "    return np.array(embedded_sentence)\n",
    "\n",
    "# Function that converts a list of sentences into a list of matrices\n",
    "def embedding(word2vec, sentences):\n",
    "    embed = []\n",
    "    \n",
    "    for sentence in sentences:\n",
    "        embedded_sentence = embed_sentence_with_TF(word2vec, sentence)\n",
    "        embed.append(embedded_sentence)\n",
    "        \n",
    "    return embed\n",
    "\n",
    "# Embed the training and test sentences\n",
    "X_train_embed_2 = embedding(word2vec_transfer, df_clean['clean_text'])\n",
    "#X_test_embed_2 = embedding(word2vec_transfer, X_test)"
   ]
  },
  {
   "cell_type": "code",
   "execution_count": 28,
   "id": "b8e4f80c-be92-420d-af4a-fa64f82198e2",
   "metadata": {
    "tags": []
   },
   "outputs": [],
   "source": [
    "X_train_pad = pad_sequences(X_train_embed_2, dtype='float32', padding='post', maxlen=200)\n",
    "#X_test_pad = pad_sequences(X_test_embed_2, dtype='float32', padding='post', maxlen=200)"
   ]
  },
  {
   "cell_type": "code",
   "execution_count": 33,
   "id": "904a6509-059d-4bd5-a49e-2b12df9e2a33",
   "metadata": {},
   "outputs": [],
   "source": [
    "y_train=df_clean['Target']"
   ]
  },
  {
   "cell_type": "code",
   "execution_count": null,
   "id": "e1cfa39e-1d83-4b7f-8c14-6fbc275b4fdf",
   "metadata": {
    "tags": []
   },
   "outputs": [],
   "source": []
  },
  {
   "cell_type": "code",
   "execution_count": 34,
   "id": "dc2dcf4d-55b7-4f1b-be3e-d33da7987b9f",
   "metadata": {},
   "outputs": [],
   "source": [
    "# Architecture\n",
    "\n",
    "def create_model(use_vgg=False):\n",
    "    if not use_vgg:\n",
    "        model = models.Sequential([\n",
    "            layers.Conv2D(16, (4, 4), activation='relu', input_shape=X.shape[1:]),\n",
    "            layers.MaxPool2D(2, 2),\n",
    "            layers.BatchNormalization(),\n",
    "\n",
    "            layers.Conv2D(16, (4, 4), activation='relu'),\n",
    "            layers.MaxPool2D(2, 2),\n",
    "            layers.BatchNormalization(),\n",
    "\n",
    "            layers.Conv2D(16, (4, 4), activation='relu'),\n",
    "            layers.MaxPool2D(2, 2),\n",
    "            layers.BatchNormalization(),\n",
    "\n",
    "            # layers.Conv2D(64, (2, 2), activation='relu'),\n",
    "            # layers.MaxPool2D(2, 2),\n",
    "            # layers.BatchNormalization(),\n",
    "\n",
    "            layers.Flatten(),\n",
    "\n",
    "            layers.Dense(64, activation='relu'),\n",
    "            # layers.Dropout(0.7),\n",
    "            layers.Dense(32, activation='relu'),\n",
    "            # layers.Dropout(0.7),\n",
    "            layers.Dense(16, activation='relu'),\n",
    "            # layers.Dropout(0.7),\n",
    "\n",
    "            layers.Dense(1, activation='sigmoid')\n",
    "        ])\n",
    "    else:\n",
    "        vgg_model = vgg19.VGG19(include_top=False, input_shape=X.shape[1:])\n",
    "        vgg_model.trainable = False\n",
    "        \n",
    "        model = models.Sequential([\n",
    "            vgg_model,\n",
    "            layers.Flatten(),\n",
    "            layers.Dense(128, activation='relu'),\n",
    "            layers.Dense(64, activation='relu'),\n",
    "            layers.Dense(1, activation='sigmoid')\n",
    "        ])\n",
    "    \n",
    "    return model\n",
    "\n",
    "def compile_model(model):\n",
    "    model.compile(\n",
    "        optimizer='adam',\n",
    "        loss='binary_crossentropy',\n",
    "        metrics=['accuracy']\n",
    "    )\n",
    "    \n",
    "    return model"
   ]
  },
  {
   "cell_type": "code",
   "execution_count": 35,
   "id": "95a2c6fd-a5b7-406c-8713-664bede8658c",
   "metadata": {},
   "outputs": [
    {
     "ename": "NameError",
     "evalue": "name 'X' is not defined",
     "output_type": "error",
     "traceback": [
      "\u001b[0;31m---------------------------------------------------------------------------\u001b[0m",
      "\u001b[0;31mNameError\u001b[0m                                 Traceback (most recent call last)",
      "\u001b[0;32m/tmp/ipykernel_21334/2818743624.py\u001b[0m in \u001b[0;36m<module>\u001b[0;34m\u001b[0m\n\u001b[0;32m----> 1\u001b[0;31m \u001b[0mmodel\u001b[0m \u001b[0;34m=\u001b[0m \u001b[0mcreate_model\u001b[0m\u001b[0;34m(\u001b[0m\u001b[0;34m)\u001b[0m\u001b[0;34m\u001b[0m\u001b[0;34m\u001b[0m\u001b[0m\n\u001b[0m\u001b[1;32m      2\u001b[0m \u001b[0mmodel\u001b[0m \u001b[0;34m=\u001b[0m \u001b[0mcompile_model\u001b[0m\u001b[0;34m(\u001b[0m\u001b[0mmodel\u001b[0m\u001b[0;34m)\u001b[0m\u001b[0;34m\u001b[0m\u001b[0;34m\u001b[0m\u001b[0m\n",
      "\u001b[0;32m/tmp/ipykernel_21334/868167427.py\u001b[0m in \u001b[0;36mcreate_model\u001b[0;34m(use_vgg)\u001b[0m\n\u001b[1;32m      4\u001b[0m     \u001b[0;32mif\u001b[0m \u001b[0;32mnot\u001b[0m \u001b[0muse_vgg\u001b[0m\u001b[0;34m:\u001b[0m\u001b[0;34m\u001b[0m\u001b[0;34m\u001b[0m\u001b[0m\n\u001b[1;32m      5\u001b[0m         model = models.Sequential([\n\u001b[0;32m----> 6\u001b[0;31m             \u001b[0mlayers\u001b[0m\u001b[0;34m.\u001b[0m\u001b[0mConv2D\u001b[0m\u001b[0;34m(\u001b[0m\u001b[0;36m16\u001b[0m\u001b[0;34m,\u001b[0m \u001b[0;34m(\u001b[0m\u001b[0;36m4\u001b[0m\u001b[0;34m,\u001b[0m \u001b[0;36m4\u001b[0m\u001b[0;34m)\u001b[0m\u001b[0;34m,\u001b[0m \u001b[0mactivation\u001b[0m\u001b[0;34m=\u001b[0m\u001b[0;34m'relu'\u001b[0m\u001b[0;34m,\u001b[0m \u001b[0minput_shape\u001b[0m\u001b[0;34m=\u001b[0m\u001b[0mX\u001b[0m\u001b[0;34m.\u001b[0m\u001b[0mshape\u001b[0m\u001b[0;34m[\u001b[0m\u001b[0;36m1\u001b[0m\u001b[0;34m:\u001b[0m\u001b[0;34m]\u001b[0m\u001b[0;34m)\u001b[0m\u001b[0;34m,\u001b[0m\u001b[0;34m\u001b[0m\u001b[0;34m\u001b[0m\u001b[0m\n\u001b[0m\u001b[1;32m      7\u001b[0m             \u001b[0mlayers\u001b[0m\u001b[0;34m.\u001b[0m\u001b[0mMaxPool2D\u001b[0m\u001b[0;34m(\u001b[0m\u001b[0;36m2\u001b[0m\u001b[0;34m,\u001b[0m \u001b[0;36m2\u001b[0m\u001b[0;34m)\u001b[0m\u001b[0;34m,\u001b[0m\u001b[0;34m\u001b[0m\u001b[0;34m\u001b[0m\u001b[0m\n\u001b[1;32m      8\u001b[0m             \u001b[0mlayers\u001b[0m\u001b[0;34m.\u001b[0m\u001b[0mBatchNormalization\u001b[0m\u001b[0;34m(\u001b[0m\u001b[0;34m)\u001b[0m\u001b[0;34m,\u001b[0m\u001b[0;34m\u001b[0m\u001b[0;34m\u001b[0m\u001b[0m\n",
      "\u001b[0;31mNameError\u001b[0m: name 'X' is not defined"
     ]
    }
   ],
   "source": [
    "model = create_model()\n",
    "model = compile_model(model)"
   ]
  },
  {
   "cell_type": "code",
   "execution_count": 36,
   "id": "480cd37d-2dc1-4f7b-be78-f9a2b2579dde",
   "metadata": {
    "tags": []
   },
   "outputs": [
    {
     "ename": "NameError",
     "evalue": "name 'model' is not defined",
     "output_type": "error",
     "traceback": [
      "\u001b[0;31m---------------------------------------------------------------------------\u001b[0m",
      "\u001b[0;31mNameError\u001b[0m                                 Traceback (most recent call last)",
      "\u001b[0;32m/tmp/ipykernel_21334/3470139634.py\u001b[0m in \u001b[0;36m<module>\u001b[0;34m\u001b[0m\n\u001b[0;32m----> 1\u001b[0;31m \u001b[0mmodel\u001b[0m\u001b[0;34m.\u001b[0m\u001b[0msummary\u001b[0m\u001b[0;34m(\u001b[0m\u001b[0;34m)\u001b[0m\u001b[0;34m\u001b[0m\u001b[0;34m\u001b[0m\u001b[0m\n\u001b[0m",
      "\u001b[0;31mNameError\u001b[0m: name 'model' is not defined"
     ]
    }
   ],
   "source": [
    "model.summary()"
   ]
  },
  {
   "cell_type": "code",
   "execution_count": 37,
   "id": "ee2f1c51-9248-4d29-bd22-2d647fa8b906",
   "metadata": {
    "tags": []
   },
   "outputs": [
    {
     "ename": "NameError",
     "evalue": "name 'model' is not defined",
     "output_type": "error",
     "traceback": [
      "\u001b[0;31m---------------------------------------------------------------------------\u001b[0m",
      "\u001b[0;31mNameError\u001b[0m                                 Traceback (most recent call last)",
      "\u001b[0;32m/tmp/ipykernel_21334/3955502929.py\u001b[0m in \u001b[0;36m<module>\u001b[0;34m\u001b[0m\n\u001b[1;32m      1\u001b[0m \u001b[0mes\u001b[0m \u001b[0;34m=\u001b[0m \u001b[0mcallbacks\u001b[0m\u001b[0;34m.\u001b[0m\u001b[0mEarlyStopping\u001b[0m\u001b[0;34m(\u001b[0m\u001b[0mpatience\u001b[0m\u001b[0;34m=\u001b[0m\u001b[0;36m10\u001b[0m\u001b[0;34m,\u001b[0m \u001b[0mrestore_best_weights\u001b[0m\u001b[0;34m=\u001b[0m\u001b[0;32mTrue\u001b[0m\u001b[0;34m)\u001b[0m\u001b[0;34m\u001b[0m\u001b[0;34m\u001b[0m\u001b[0m\n\u001b[1;32m      2\u001b[0m \u001b[0;34m\u001b[0m\u001b[0m\n\u001b[0;32m----> 3\u001b[0;31m history = model.fit(\n\u001b[0m\u001b[1;32m      4\u001b[0m     \u001b[0mX\u001b[0m\u001b[0;34m,\u001b[0m\u001b[0;34m\u001b[0m\u001b[0;34m\u001b[0m\u001b[0m\n\u001b[1;32m      5\u001b[0m     \u001b[0my\u001b[0m\u001b[0;34m,\u001b[0m\u001b[0;34m\u001b[0m\u001b[0;34m\u001b[0m\u001b[0m\n",
      "\u001b[0;31mNameError\u001b[0m: name 'model' is not defined"
     ]
    }
   ],
   "source": [
    "es = callbacks.EarlyStopping(patience=10, restore_best_weights=True)\n",
    "\n",
    "history = model.fit(\n",
    "    X,\n",
    "    y,\n",
    "    epochs=50,\n",
    "    validation_split=0.3,\n",
    "    batch_size=16,\n",
    "    callbacks=[es]\n",
    ")"
   ]
  },
  {
   "cell_type": "markdown",
   "id": "d74a9902-113f-4886-9ad6-84482e9d2005",
   "metadata": {},
   "source": [
    "# Functional Model"
   ]
  },
  {
   "cell_type": "code",
   "execution_count": 97,
   "id": "a558714a-01b2-41ed-a11e-cd215877745f",
   "metadata": {},
   "outputs": [],
   "source": [
    "def compile_model(model):\n",
    "    model.compile(loss='binary_crossentropy',\n",
    "                  optimizer='adam',\n",
    "                  metrics=['accuracy'],\n",
    "                 )\n",
    "    return model"
   ]
  },
  {
   "cell_type": "code",
   "execution_count": 106,
   "id": "b2f27d34-2f01-4b2c-87f0-f5eadfee312f",
   "metadata": {},
   "outputs": [],
   "source": [
    "from tensorflow.keras import layers, models, callbacks, Model\n",
    "\n",
    "# CNN Architecture\n",
    "cnn_input = layers.Input(shape=X_image.shape[1:])\n",
    "\n",
    "x = layers.Conv2D(16, (4, 4), activation='relu')(cnn_input)\n",
    "x = layers.MaxPool2D(2, 2)(x)\n",
    "x = layers.BatchNormalization()(x)\n",
    "\n",
    "x = layers.Conv2D(16, (4, 4), activation='relu')(x)\n",
    "x = layers.MaxPool2D(2, 2)(x)\n",
    "x = layers.BatchNormalization()(x)\n",
    "\n",
    "x = layers.Conv2D(16, (4, 4), activation='relu')(x)\n",
    "x = layers.MaxPool2D(2, 2)(x)\n",
    "x = layers.BatchNormalization()(x)\n",
    "x = layers.Flatten()(x)\n",
    "cnn_output = layers.Dense(32, activation='relu')(x)"
   ]
  },
  {
   "cell_type": "code",
   "execution_count": 107,
   "id": "3661bac9-5355-4ad5-8e8a-dd849be07977",
   "metadata": {},
   "outputs": [
    {
     "data": {
      "text/plain": [
       "(403, 200, 100)"
      ]
     },
     "execution_count": 107,
     "metadata": {},
     "output_type": "execute_result"
    }
   ],
   "source": [
    "X_train_pad.shape"
   ]
  },
  {
   "cell_type": "code",
   "execution_count": 113,
   "id": "b28f1235-7804-4904-b505-f304885a54a8",
   "metadata": {},
   "outputs": [],
   "source": [
    "nlp_input =layers.Input(shape=(200,100))\n",
    "y = layers.Masking()(nlp_input)\n",
    "y = layers.BatchNormalization()(y)\n",
    "\n",
    "y = layers.LSTM(32, activation='tanh', return_sequences=True)(y)\n",
    "y = layers.Dropout(0.5)(y)\n",
    "\n",
    "y = layers.LSTM(32, activation='tanh', return_sequences=True)(y)\n",
    "y = layers.Dropout(0.5)(y)\n",
    "\n",
    "y = layers.LSTM(32, activation='tanh', return_sequences=False)(y)\n",
    "y = layers.Flatten()(y)\n",
    "nlp_output = layers.Dense(32, activation='relu')(y)\n",
    "#nlp_output = layers.Flatten()(y)"
   ]
  },
  {
   "cell_type": "code",
   "execution_count": 118,
   "id": "8f2ca51c-5e45-4ad0-8c60-a3e9f7a9ecdc",
   "metadata": {},
   "outputs": [],
   "source": [
    "# Define NLP model and concatenate output\n",
    "combined = layers.concatenate([cnn_output, nlp_output])\n",
    "z=layers.Flatten()(combined)\n",
    "z = layers.Dense(64, activation='relu')(z)\n",
    "z = layers.Dense(32, activation='relu')(z)\n",
    "\n",
    "final_output = layers.Dense(1, activation='sigmoid')(z)\n",
    "\n",
    "model = Model(inputs=[cnn_input, nlp_input],outputs=final_output)"
   ]
  },
  {
   "cell_type": "code",
   "execution_count": 119,
   "id": "2dfaaf7d-eb4a-4171-b9d9-f79f6e9a83aa",
   "metadata": {
    "tags": []
   },
   "outputs": [
    {
     "name": "stdout",
     "output_type": "stream",
     "text": [
      "Model: \"model_12\"\n",
      "__________________________________________________________________________________________________\n",
      " Layer (type)                   Output Shape         Param #     Connected to                     \n",
      "==================================================================================================\n",
      " input_25 (InputLayer)          [(None, 300, 400, 3  0           []                               \n",
      "                                )]                                                                \n",
      "                                                                                                  \n",
      " conv2d_6 (Conv2D)              (None, 297, 397, 16  784         ['input_25[0][0]']               \n",
      "                                )                                                                 \n",
      "                                                                                                  \n",
      " max_pooling2d_6 (MaxPooling2D)  (None, 148, 198, 16  0          ['conv2d_6[0][0]']               \n",
      "                                )                                                                 \n",
      "                                                                                                  \n",
      " input_28 (InputLayer)          [(None, 200, 100)]   0           []                               \n",
      "                                                                                                  \n",
      " batch_normalization_18 (BatchN  (None, 148, 198, 16  64         ['max_pooling2d_6[0][0]']        \n",
      " ormalization)                  )                                                                 \n",
      "                                                                                                  \n",
      " masking_13 (Masking)           (None, 200, 100)     0           ['input_28[0][0]']               \n",
      "                                                                                                  \n",
      " conv2d_7 (Conv2D)              (None, 145, 195, 16  4112        ['batch_normalization_18[0][0]'] \n",
      "                                )                                                                 \n",
      "                                                                                                  \n",
      " batch_normalization_22 (BatchN  (None, 200, 100)    400         ['masking_13[0][0]']             \n",
      " ormalization)                                                                                    \n",
      "                                                                                                  \n",
      " max_pooling2d_7 (MaxPooling2D)  (None, 72, 97, 16)  0           ['conv2d_7[0][0]']               \n",
      "                                                                                                  \n",
      " lstm_35 (LSTM)                 (None, 200, 32)      17024       ['batch_normalization_22[0][0]'] \n",
      "                                                                                                  \n",
      " batch_normalization_19 (BatchN  (None, 72, 97, 16)  64          ['max_pooling2d_7[0][0]']        \n",
      " ormalization)                                                                                    \n",
      "                                                                                                  \n",
      " dropout_26 (Dropout)           (None, 200, 32)      0           ['lstm_35[0][0]']                \n",
      "                                                                                                  \n",
      " conv2d_8 (Conv2D)              (None, 69, 94, 16)   4112        ['batch_normalization_19[0][0]'] \n",
      "                                                                                                  \n",
      " lstm_36 (LSTM)                 (None, 200, 32)      8320        ['dropout_26[0][0]']             \n",
      "                                                                                                  \n",
      " max_pooling2d_8 (MaxPooling2D)  (None, 34, 47, 16)  0           ['conv2d_8[0][0]']               \n",
      "                                                                                                  \n",
      " dropout_27 (Dropout)           (None, 200, 32)      0           ['lstm_36[0][0]']                \n",
      "                                                                                                  \n",
      " batch_normalization_20 (BatchN  (None, 34, 47, 16)  64          ['max_pooling2d_8[0][0]']        \n",
      " ormalization)                                                                                    \n",
      "                                                                                                  \n",
      " lstm_37 (LSTM)                 (None, 32)           8320        ['dropout_27[0][0]']             \n",
      "                                                                                                  \n",
      " flatten_15 (Flatten)           (None, 25568)        0           ['batch_normalization_20[0][0]'] \n",
      "                                                                                                  \n",
      " flatten_18 (Flatten)           (None, 32)           0           ['lstm_37[0][0]']                \n",
      "                                                                                                  \n",
      " dense_34 (Dense)               (None, 32)           818208      ['flatten_15[0][0]']             \n",
      "                                                                                                  \n",
      " dense_39 (Dense)               (None, 32)           1056        ['flatten_18[0][0]']             \n",
      "                                                                                                  \n",
      " concatenate_12 (Concatenate)   (None, 64)           0           ['dense_34[0][0]',               \n",
      "                                                                  'dense_39[0][0]']               \n",
      "                                                                                                  \n",
      " flatten_20 (Flatten)           (None, 64)           0           ['concatenate_12[0][0]']         \n",
      "                                                                                                  \n",
      " dense_43 (Dense)               (None, 64)           4160        ['flatten_20[0][0]']             \n",
      "                                                                                                  \n",
      " dense_44 (Dense)               (None, 32)           2080        ['dense_43[0][0]']               \n",
      "                                                                                                  \n",
      " dense_45 (Dense)               (None, 1)            33          ['dense_44[0][0]']               \n",
      "                                                                                                  \n",
      "==================================================================================================\n",
      "Total params: 868,801\n",
      "Trainable params: 868,505\n",
      "Non-trainable params: 296\n",
      "__________________________________________________________________________________________________\n"
     ]
    }
   ],
   "source": [
    "model.summary()"
   ]
  },
  {
   "cell_type": "code",
   "execution_count": null,
   "id": "b87d480c-bf1c-4f10-b8a2-fd14a9588346",
   "metadata": {},
   "outputs": [],
   "source": []
  },
  {
   "cell_type": "code",
   "execution_count": 120,
   "id": "1e20fe34-584b-4f29-9ed5-5c480b83f79a",
   "metadata": {},
   "outputs": [],
   "source": [
    "model = compile_model(model)\n"
   ]
  },
  {
   "cell_type": "code",
   "execution_count": 121,
   "id": "1678cd2e-b921-47a7-96a5-5aec3a4d7183",
   "metadata": {},
   "outputs": [
    {
     "name": "stdout",
     "output_type": "stream",
     "text": [
      "Epoch 1/25\n"
     ]
    },
    {
     "name": "stderr",
     "output_type": "stream",
     "text": [
      "2022-12-06 15:09:51.165330: I tensorflow/stream_executor/cuda/cuda_dnn.cc:368] Loaded cuDNN version 8200\n"
     ]
    },
    {
     "name": "stdout",
     "output_type": "stream",
     "text": [
      "18/18 [==============================] - 22s 310ms/step - loss: 0.9198 - accuracy: 0.5142 - val_loss: 0.6865 - val_accuracy: 0.5702\n",
      "Epoch 2/25\n",
      "18/18 [==============================] - 1s 66ms/step - loss: 0.5351 - accuracy: 0.7340 - val_loss: 0.6803 - val_accuracy: 0.5207\n",
      "Epoch 3/25\n",
      "18/18 [==============================] - 1s 65ms/step - loss: 0.2770 - accuracy: 0.8901 - val_loss: 0.7495 - val_accuracy: 0.5620\n",
      "Epoch 4/25\n",
      "18/18 [==============================] - 1s 66ms/step - loss: 0.1409 - accuracy: 0.9610 - val_loss: 0.7452 - val_accuracy: 0.5041\n",
      "Epoch 5/25\n",
      "18/18 [==============================] - 1s 64ms/step - loss: 0.0520 - accuracy: 0.9858 - val_loss: 0.8815 - val_accuracy: 0.4545\n",
      "Epoch 6/25\n",
      "18/18 [==============================] - 1s 65ms/step - loss: 0.0462 - accuracy: 0.9929 - val_loss: 0.7704 - val_accuracy: 0.5124\n",
      "Epoch 7/25\n",
      "18/18 [==============================] - 1s 64ms/step - loss: 0.0272 - accuracy: 0.9894 - val_loss: 0.8894 - val_accuracy: 0.4876\n",
      "Epoch 8/25\n",
      "18/18 [==============================] - 1s 65ms/step - loss: 0.0277 - accuracy: 0.9929 - val_loss: 0.9096 - val_accuracy: 0.5124\n",
      "Epoch 9/25\n",
      "18/18 [==============================] - 1s 65ms/step - loss: 0.0290 - accuracy: 0.9858 - val_loss: 1.1001 - val_accuracy: 0.5372\n",
      "Epoch 10/25\n",
      "18/18 [==============================] - 1s 64ms/step - loss: 0.0280 - accuracy: 0.9965 - val_loss: 0.9114 - val_accuracy: 0.5124\n",
      "Epoch 11/25\n",
      "18/18 [==============================] - 1s 64ms/step - loss: 0.0221 - accuracy: 0.9929 - val_loss: 1.0399 - val_accuracy: 0.4959\n",
      "Epoch 12/25\n",
      "18/18 [==============================] - 1s 65ms/step - loss: 0.0051 - accuracy: 1.0000 - val_loss: 2.3930 - val_accuracy: 0.5041\n",
      "Epoch 13/25\n",
      "18/18 [==============================] - 1s 64ms/step - loss: 0.0160 - accuracy: 0.9894 - val_loss: 1.3446 - val_accuracy: 0.4463\n",
      "Epoch 14/25\n",
      "18/18 [==============================] - 1s 63ms/step - loss: 0.0285 - accuracy: 0.9894 - val_loss: 1.1821 - val_accuracy: 0.4959\n",
      "Epoch 15/25\n",
      "18/18 [==============================] - 1s 65ms/step - loss: 0.0049 - accuracy: 1.0000 - val_loss: 1.6952 - val_accuracy: 0.5041\n",
      "Epoch 16/25\n",
      "18/18 [==============================] - 1s 64ms/step - loss: 0.0031 - accuracy: 1.0000 - val_loss: 1.4737 - val_accuracy: 0.5537\n",
      "Epoch 17/25\n",
      "18/18 [==============================] - 1s 64ms/step - loss: 0.0029 - accuracy: 1.0000 - val_loss: 1.4536 - val_accuracy: 0.5455\n",
      "Epoch 18/25\n",
      "18/18 [==============================] - 1s 64ms/step - loss: 0.0012 - accuracy: 1.0000 - val_loss: 1.3903 - val_accuracy: 0.5537\n",
      "Epoch 19/25\n",
      "18/18 [==============================] - 1s 63ms/step - loss: 9.4889e-04 - accuracy: 1.0000 - val_loss: 1.3200 - val_accuracy: 0.5785\n",
      "Epoch 20/25\n",
      "18/18 [==============================] - 1s 65ms/step - loss: 6.9416e-04 - accuracy: 1.0000 - val_loss: 1.2775 - val_accuracy: 0.6198\n",
      "Epoch 21/25\n",
      "18/18 [==============================] - 1s 64ms/step - loss: 6.8994e-04 - accuracy: 1.0000 - val_loss: 1.2227 - val_accuracy: 0.6281\n",
      "Epoch 22/25\n",
      "18/18 [==============================] - 1s 63ms/step - loss: 4.8454e-04 - accuracy: 1.0000 - val_loss: 1.1596 - val_accuracy: 0.6364\n",
      "Epoch 23/25\n",
      "18/18 [==============================] - 1s 64ms/step - loss: 3.9006e-04 - accuracy: 1.0000 - val_loss: 1.1100 - val_accuracy: 0.6446\n",
      "Epoch 24/25\n",
      "18/18 [==============================] - 1s 64ms/step - loss: 5.1767e-04 - accuracy: 1.0000 - val_loss: 1.0913 - val_accuracy: 0.6529\n",
      "Epoch 25/25\n",
      "18/18 [==============================] - 1s 64ms/step - loss: 3.4239e-04 - accuracy: 1.0000 - val_loss: 1.0656 - val_accuracy: 0.6281\n"
     ]
    }
   ],
   "source": [
    "history = model.fit(\n",
    "    (X_image, X_train_pad),\n",
    "    y_train,\n",
    "    epochs=25,\n",
    "    batch_size=16,\n",
    "    validation_split=0.3,\n",
    "    #callbacks=callbacks.EarlyStopping(patience=10, restore_best_weights=True)\n",
    ")"
   ]
  },
  {
   "cell_type": "code",
   "execution_count": null,
   "id": "3be82d33-9c92-44fe-9d64-1d53bd052797",
   "metadata": {},
   "outputs": [],
   "source": []
  }
 ],
 "metadata": {
  "environment": {
   "kernel": "python3",
   "name": "tf2-gpu.2-8.m100",
   "type": "gcloud",
   "uri": "gcr.io/deeplearning-platform-release/tf2-gpu.2-8:m100"
  },
  "kernelspec": {
   "display_name": "Python 3 (ipykernel)",
   "language": "python",
   "name": "python3"
  },
  "language_info": {
   "codemirror_mode": {
    "name": "ipython",
    "version": 3
   },
   "file_extension": ".py",
   "mimetype": "text/x-python",
   "name": "python",
   "nbconvert_exporter": "python",
   "pygments_lexer": "ipython3",
   "version": "3.10.6"
  },
  "toc": {
   "base_numbering": 1,
   "nav_menu": {},
   "number_sections": true,
   "sideBar": true,
   "skip_h1_title": false,
   "title_cell": "Table of Contents",
   "title_sidebar": "Contents",
   "toc_cell": false,
   "toc_position": {},
   "toc_section_display": true,
   "toc_window_display": false
  }
 },
 "nbformat": 4,
 "nbformat_minor": 5
}
