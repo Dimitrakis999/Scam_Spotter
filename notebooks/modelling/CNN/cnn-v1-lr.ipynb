{
 "cells": [
  {
   "cell_type": "markdown",
   "id": "3346f433-04e7-4550-aa04-37cfbd9d936b",
   "metadata": {},
   "source": [
    "# Imports"
   ]
  },
  {
   "cell_type": "code",
   "execution_count": 1,
   "id": "af4b637c-e6b3-49f9-b0dd-83a95813b80c",
   "metadata": {},
   "outputs": [
    {
     "name": "stderr",
     "output_type": "stream",
     "text": [
      "2022-12-05 14:12:07.862776: W tensorflow/stream_executor/platform/default/dso_loader.cc:64] Could not load dynamic library 'libcudart.so.11.0'; dlerror: libcudart.so.11.0: cannot open shared object file: No such file or directory\n",
      "2022-12-05 14:12:07.862798: I tensorflow/stream_executor/cuda/cudart_stub.cc:29] Ignore above cudart dlerror if you do not have a GPU set up on your machine.\n"
     ]
    }
   ],
   "source": [
    "# Imports\n",
    "import os\n",
    "\n",
    "import numpy as np\n",
    "import pandas as pd\n",
    "import matplotlib.pyplot as plt\n",
    "from matplotlib.pyplot import imread\n",
    "from PIL import Image\n",
    "\n",
    "import tensorflow as tf\n",
    "from tensorflow.keras import layers, models, callbacks\n",
    "from tensorflow.keras.applications import vgg19"
   ]
  },
  {
   "cell_type": "markdown",
   "id": "86f2bd3b-c0c4-4ec7-a5c4-4f35b8d00364",
   "metadata": {},
   "source": [
    "# Testing size, channels, and format of images"
   ]
  },
  {
   "cell_type": "code",
   "execution_count": 2,
   "id": "382f87c8-b317-42ab-b1de-21338d7975a5",
   "metadata": {},
   "outputs": [],
   "source": [
    "rel_path = '../../../data/screenshots/'\n",
    "legit_path = os.path.join(rel_path, 'legit_screenshots')\n",
    "scam_path = os.path.join(rel_path, 'scam_screenshots')"
   ]
  },
  {
   "cell_type": "code",
   "execution_count": 3,
   "id": "dfbcd2cc-a601-4922-a2e0-20d78ce00f32",
   "metadata": {},
   "outputs": [],
   "source": [
    "def image_shape_check(image_dir):\n",
    "    \n",
    "    print('Generating Paths')\n",
    "    image_paths = []\n",
    "    for image in os.listdir(image_dir):\n",
    "        if image.endswith('.png'):\n",
    "            image_paths.append(os.path.join(image_dir, image))\n",
    "    \n",
    "    print('Checking Shapes')\n",
    "    image_shapes = []\n",
    "    for image in image_paths:\n",
    "        np_image = imread(image)\n",
    "        image_shapes.append(np_image.shape)\n",
    "    \n",
    "    print(f'Shapes found: {list(set(image_shapes))}')"
   ]
  },
  {
   "cell_type": "code",
   "execution_count": 4,
   "id": "909609cc-1644-478a-9e9c-4a7935e4f0f8",
   "metadata": {},
   "outputs": [],
   "source": [
    "# Takes a while to run and will use a lot of memory\n",
    "# image_shape_check(legit_path)"
   ]
  },
  {
   "cell_type": "code",
   "execution_count": 5,
   "id": "053107b5-e460-4d0a-88c9-e1a2f5a67268",
   "metadata": {},
   "outputs": [],
   "source": [
    "# Takes a while to run and will use a lot of memory\n",
    "# image_shape_check(scam_path)"
   ]
  },
  {
   "cell_type": "code",
   "execution_count": 6,
   "id": "f32854fe-40a9-4f29-9a90-91554eb7ab18",
   "metadata": {},
   "outputs": [],
   "source": [
    "def pillow_check(path, img='3.png'):\n",
    "    image = Image.open(os.path.join(scam_path, img))\n",
    "    print(f'Image format: {image.format}')\n",
    "    print(f'Image size: {image.size}')\n",
    "    print(f'Image channels: {image.mode}')"
   ]
  },
  {
   "cell_type": "code",
   "execution_count": 7,
   "id": "98a6eaf5-af77-44d2-802e-931e59415f18",
   "metadata": {},
   "outputs": [
    {
     "name": "stdout",
     "output_type": "stream",
     "text": [
      "Image format: PNG\n",
      "Image size: (800, 600)\n",
      "Image channels: RGBA\n"
     ]
    }
   ],
   "source": [
    "pillow_check(legit_path, '5.png')"
   ]
  },
  {
   "cell_type": "code",
   "execution_count": 8,
   "id": "5e53d36f-ee7e-41ec-af01-ca312abca925",
   "metadata": {},
   "outputs": [
    {
     "name": "stdout",
     "output_type": "stream",
     "text": [
      "Image format: PNG\n",
      "Image size: (800, 600)\n",
      "Image channels: RGBA\n"
     ]
    }
   ],
   "source": [
    "pillow_check(scam_path, '5.png')"
   ]
  },
  {
   "cell_type": "code",
   "execution_count": null,
   "id": "08da8926-f283-40dd-bb05-3656e4230cec",
   "metadata": {},
   "outputs": [],
   "source": [
    "# we don't need the alpha channel of the image"
   ]
  },
  {
   "cell_type": "markdown",
   "id": "1e682583-386b-4add-ac33-0ae9cd1e784c",
   "metadata": {},
   "source": [
    "# Loading Data"
   ]
  },
  {
   "cell_type": "code",
   "execution_count": 4,
   "id": "02b31458-2b88-4475-969d-22d893e741a8",
   "metadata": {},
   "outputs": [],
   "source": [
    "# Adapted from W6-D3-C2\n",
    "# Memory intensive - may not work locally\n",
    "\n",
    "def load_data():\n",
    "    \n",
    "    rel_path = '../../../data/screenshots'\n",
    "    legit_dir_path = os.path.join(rel_path, 'legit_screenshots')\n",
    "    scam_dir_path = os.path.join(rel_path, 'scam_screenshots')\n",
    "    \n",
    "    # Legit paths\n",
    "    legit_image_paths = []\n",
    "    for im_file in os.listdir(legit_dir_path):\n",
    "        if im_file.endswith('.png'):\n",
    "            legit_image_paths.append(os.path.join(legit_dir_path, im_file))\n",
    "    \n",
    "    # Scam paths\n",
    "    scam_image_paths = []\n",
    "    for im_file in os.listdir(scam_dir_path):\n",
    "        if im_file.endswith('.png'):\n",
    "            scam_image_paths.append(os.path.join(scam_dir_path, im_file))\n",
    "    \n",
    "    X, y = [], []\n",
    "    print('Importing legit images')\n",
    "    for legit_image in legit_image_paths:\n",
    "        np_legit_image = imread(legit_image)[:, :, :3] # slice off the alpha channel\n",
    "        resized_image = tf.image.resize(np_legit_image, (300, 400))\n",
    "        X.append(resized_image)\n",
    "        y.append(0)\n",
    "    \n",
    "    print('Importing scam images')\n",
    "    for scam_image in scam_image_paths:\n",
    "        np_scam_image = imread(scam_image)[:, :, :3] # slice off the alpha channel\n",
    "        resized_image = tf.image.resize(np_scam_image, (300, 400))\n",
    "        X.append(resized_image)\n",
    "        y.append(1)\n",
    "    \n",
    "    print('Finished importing')\n",
    "    \n",
    "    print('\\nShuffling Data')\n",
    "    c = list(zip(X, y))\n",
    "    np.random.shuffle(c)\n",
    "    X, y = zip(*c)\n",
    "    \n",
    "    return np.array(X), np.array(y)"
   ]
  },
  {
   "cell_type": "code",
   "execution_count": 5,
   "id": "5ee42b24-e67b-45ad-b398-5dbd53608b3c",
   "metadata": {
    "tags": []
   },
   "outputs": [
    {
     "name": "stdout",
     "output_type": "stream",
     "text": [
      "Importing legit images\n"
     ]
    },
    {
     "name": "stderr",
     "output_type": "stream",
     "text": [
      "2022-12-05 14:12:18.391758: W tensorflow/stream_executor/platform/default/dso_loader.cc:64] Could not load dynamic library 'libcuda.so.1'; dlerror: libcuda.so.1: cannot open shared object file: No such file or directory\n",
      "2022-12-05 14:12:18.391783: W tensorflow/stream_executor/cuda/cuda_driver.cc:269] failed call to cuInit: UNKNOWN ERROR (303)\n",
      "2022-12-05 14:12:18.391803: I tensorflow/stream_executor/cuda/cuda_diagnostics.cc:156] kernel driver does not appear to be running on this host (lscr): /proc/driver/nvidia/version does not exist\n",
      "2022-12-05 14:12:18.392331: I tensorflow/core/platform/cpu_feature_guard.cc:151] This TensorFlow binary is optimized with oneAPI Deep Neural Network Library (oneDNN) to use the following CPU instructions in performance-critical operations:  AVX2 AVX512F FMA\n",
      "To enable them in other operations, rebuild TensorFlow with the appropriate compiler flags.\n"
     ]
    },
    {
     "name": "stdout",
     "output_type": "stream",
     "text": [
      "Importing scam images\n",
      "Finished importing\n",
      "\n",
      "Shuffling Data\n"
     ]
    }
   ],
   "source": [
    "X, y = load_data()"
   ]
  },
  {
   "cell_type": "code",
   "execution_count": 8,
   "id": "31c562ac-a2c4-4672-8e14-60025e419a03",
   "metadata": {},
   "outputs": [
    {
     "data": {
      "text/plain": [
       "(4241, 300, 400, 3)"
      ]
     },
     "execution_count": 8,
     "metadata": {},
     "output_type": "execute_result"
    }
   ],
   "source": [
    "X.shape"
   ]
  },
  {
   "cell_type": "code",
   "execution_count": 9,
   "id": "257225fe-9728-448a-a1a5-f494046fe747",
   "metadata": {},
   "outputs": [
    {
     "data": {
      "text/plain": [
       "<matplotlib.image.AxesImage at 0x7f884d7fab20>"
      ]
     },
     "execution_count": 9,
     "metadata": {},
     "output_type": "execute_result"
    },
    {
     "data": {
      "image/png": "[encoded data removed]",
      "text/plain": [
       "<Figure size 432x288 with 1 Axes>"
      ]
     },
     "metadata": {
      "needs_background": "light"
     },
     "output_type": "display_data"
    }
   ],
   "source": [
    "plt.imshow(X[1])"
   ]
  },
  {
   "cell_type": "markdown",
   "id": "6270c47a-f183-415f-bc54-ea857c75843e",
   "metadata": {},
   "source": [
    "# Model"
   ]
  },
  {
   "cell_type": "code",
   "execution_count": 10,
   "id": "dc2dcf4d-55b7-4f1b-be3e-d33da7987b9f",
   "metadata": {},
   "outputs": [],
   "source": [
    "# Architecture\n",
    "\n",
    "def create_model(use_vgg=False):\n",
    "    if not use_vgg:\n",
    "        model = models.Sequential([\n",
    "            layers.Conv2D(16, (4, 4), activation='relu', input_shape=X.shape[1:]),\n",
    "            layers.MaxPool2D(2, 2),\n",
    "            layers.BatchNormalization(),\n",
    "\n",
    "            layers.Conv2D(16, (4, 4), activation='relu'),\n",
    "            layers.MaxPool2D(2, 2),\n",
    "            layers.BatchNormalization(),\n",
    "\n",
    "            layers.Conv2D(16, (4, 4), activation='relu'),\n",
    "            layers.MaxPool2D(2, 2),\n",
    "            layers.BatchNormalization(),\n",
    "\n",
    "            # layers.Conv2D(64, (2, 2), activation='relu'),\n",
    "            # layers.MaxPool2D(2, 2),\n",
    "            # layers.BatchNormalization(),\n",
    "\n",
    "            layers.Flatten(),\n",
    "\n",
    "            layers.Dense(64, activation='relu'),\n",
    "            layers.Dropout(0.2),\n",
    "            layers.Dense(32, activation='relu'),\n",
    "            layers.Dropout(0.2),\n",
    "            layers.Dense(16, activation='relu'),\n",
    "            # layers.Dropout(0.2),\n",
    "\n",
    "            layers.Dense(1, activation='sigmoid')\n",
    "        ])\n",
    "    else:\n",
    "        vgg_model = vgg19.VGG19(include_top=False, input_shape=X.shape[1:])\n",
    "        vgg_model.trainable = False\n",
    "        \n",
    "        model = models.Sequential([\n",
    "            vgg_model,\n",
    "            layers.Flatten(),\n",
    "            layers.Dense(128, activation='relu'),\n",
    "            layers.Dense(64, activation='relu'),\n",
    "            layers.Dense(1, activation='sigmoid')\n",
    "        ])\n",
    "    \n",
    "    return model\n",
    "\n",
    "def compile_model(model):\n",
    "    model.compile(\n",
    "        optimizer='adam',\n",
    "        loss='binary_crossentropy',\n",
    "        metrics=['accuracy']\n",
    "    )\n",
    "    \n",
    "    return model"
   ]
  },
  {
   "cell_type": "code",
   "execution_count": 11,
   "id": "95a2c6fd-a5b7-406c-8713-664bede8658c",
   "metadata": {},
   "outputs": [],
   "source": [
    "model = create_model()\n",
    "model = compile_model(model)"
   ]
  },
  {
   "cell_type": "code",
   "execution_count": 12,
   "id": "480cd37d-2dc1-4f7b-be78-f9a2b2579dde",
   "metadata": {},
   "outputs": [
    {
     "name": "stdout",
     "output_type": "stream",
     "text": [
      "Model: \"sequential\"\n",
      "_________________________________________________________________\n",
      " Layer (type)                Output Shape              Param #   \n",
      "=================================================================\n",
      " conv2d (Conv2D)             (None, 297, 397, 16)      784       \n",
      "                                                                 \n",
      " max_pooling2d (MaxPooling2D  (None, 148, 198, 16)     0         \n",
      " )                                                               \n",
      "                                                                 \n",
      " batch_normalization (BatchN  (None, 148, 198, 16)     64        \n",
      " ormalization)                                                   \n",
      "                                                                 \n",
      " conv2d_1 (Conv2D)           (None, 145, 195, 16)      4112      \n",
      "                                                                 \n",
      " max_pooling2d_1 (MaxPooling  (None, 72, 97, 16)       0         \n",
      " 2D)                                                             \n",
      "                                                                 \n",
      " batch_normalization_1 (Batc  (None, 72, 97, 16)       64        \n",
      " hNormalization)                                                 \n",
      "                                                                 \n",
      " conv2d_2 (Conv2D)           (None, 69, 94, 16)        4112      \n",
      "                                                                 \n",
      " max_pooling2d_2 (MaxPooling  (None, 34, 47, 16)       0         \n",
      " 2D)                                                             \n",
      "                                                                 \n",
      " batch_normalization_2 (Batc  (None, 34, 47, 16)       64        \n",
      " hNormalization)                                                 \n",
      "                                                                 \n",
      " flatten (Flatten)           (None, 25568)             0         \n",
      "                                                                 \n",
      " dense (Dense)               (None, 64)                1636416   \n",
      "                                                                 \n",
      " dropout (Dropout)           (None, 64)                0         \n",
      "                                                                 \n",
      " dense_1 (Dense)             (None, 32)                2080      \n",
      "                                                                 \n",
      " dropout_1 (Dropout)         (None, 32)                0         \n",
      "                                                                 \n",
      " dense_2 (Dense)             (None, 16)                528       \n",
      "                                                                 \n",
      " dense_3 (Dense)             (None, 1)                 17        \n",
      "                                                                 \n",
      "=================================================================\n",
      "Total params: 1,648,241\n",
      "Trainable params: 1,648,145\n",
      "Non-trainable params: 96\n",
      "_________________________________________________________________\n"
     ]
    }
   ],
   "source": [
    "model.summary()"
   ]
  },
  {
   "cell_type": "code",
   "execution_count": 13,
   "id": "ee2f1c51-9248-4d29-bd22-2d647fa8b906",
   "metadata": {},
   "outputs": [
    {
     "name": "stderr",
     "output_type": "stream",
     "text": [
      "2022-12-05 14:18:11.577283: W tensorflow/core/framework/cpu_allocator_impl.cc:82] Allocation of 4273920000 exceeds 10% of free system memory.\n"
     ]
    },
    {
     "name": "stdout",
     "output_type": "stream",
     "text": [
      "Epoch 1/50\n"
     ]
    },
    {
     "name": "stderr",
     "output_type": "stream",
     "text": [
      "2022-12-05 14:18:35.373578: W tensorflow/core/framework/cpu_allocator_impl.cc:82] Allocation of 120738816 exceeds 10% of free system memory.\n",
      "2022-12-05 14:18:35.630515: W tensorflow/core/framework/cpu_allocator_impl.cc:82] Allocation of 30007296 exceeds 10% of free system memory.\n",
      "2022-12-05 14:18:35.687942: W tensorflow/core/framework/cpu_allocator_impl.cc:82] Allocation of 30007296 exceeds 10% of free system memory.\n",
      "2022-12-05 14:18:35.775634: W tensorflow/core/framework/cpu_allocator_impl.cc:82] Allocation of 33208320 exceeds 10% of free system memory.\n"
     ]
    },
    {
     "name": "stdout",
     "output_type": "stream",
     "text": [
      "186/186 [==============================] - 101s 527ms/step - loss: 0.9552 - accuracy: 0.5404 - val_loss: 0.7083 - val_accuracy: 0.4713\n",
      "Epoch 2/50\n",
      "186/186 [==============================] - 95s 509ms/step - loss: 0.7282 - accuracy: 0.5718 - val_loss: 0.6921 - val_accuracy: 0.5310\n",
      "Epoch 3/50\n",
      "186/186 [==============================] - 91s 489ms/step - loss: 0.6694 - accuracy: 0.6001 - val_loss: 0.6751 - val_accuracy: 0.5412\n",
      "Epoch 4/50\n",
      "186/186 [==============================] - 91s 491ms/step - loss: 0.6311 - accuracy: 0.6506 - val_loss: 0.6488 - val_accuracy: 0.6072\n",
      "Epoch 5/50\n",
      "186/186 [==============================] - 92s 494ms/step - loss: 0.5944 - accuracy: 0.6840 - val_loss: 0.6219 - val_accuracy: 0.6528\n",
      "Epoch 6/50\n",
      "186/186 [==============================] - 90s 485ms/step - loss: 0.5194 - accuracy: 0.7396 - val_loss: 0.6382 - val_accuracy: 0.6449\n",
      "Epoch 7/50\n",
      "186/186 [==============================] - 93s 500ms/step - loss: 0.4581 - accuracy: 0.7783 - val_loss: 0.6377 - val_accuracy: 0.6748\n",
      "Epoch 8/50\n",
      "186/186 [==============================] - 92s 492ms/step - loss: 0.3660 - accuracy: 0.8309 - val_loss: 0.6624 - val_accuracy: 0.7062\n",
      "Epoch 9/50\n",
      "186/186 [==============================] - 91s 492ms/step - loss: 0.3210 - accuracy: 0.8686 - val_loss: 0.6400 - val_accuracy: 0.7109\n",
      "Epoch 10/50\n",
      "186/186 [==============================] - 94s 503ms/step - loss: 0.2439 - accuracy: 0.9084 - val_loss: 0.6998 - val_accuracy: 0.7141\n",
      "Epoch 11/50\n",
      "186/186 [==============================] - 93s 498ms/step - loss: 0.1830 - accuracy: 0.9303 - val_loss: 0.8683 - val_accuracy: 0.6984\n",
      "Epoch 12/50\n",
      "186/186 [==============================] - 91s 487ms/step - loss: 0.1733 - accuracy: 0.9383 - val_loss: 0.9244 - val_accuracy: 0.6944\n",
      "Epoch 13/50\n",
      "186/186 [==============================] - 90s 485ms/step - loss: 0.1353 - accuracy: 0.9491 - val_loss: 0.9467 - val_accuracy: 0.6968\n",
      "Epoch 14/50\n",
      "186/186 [==============================] - 94s 504ms/step - loss: 0.1307 - accuracy: 0.9569 - val_loss: 0.9122 - val_accuracy: 0.7078\n",
      "Epoch 15/50\n",
      "186/186 [==============================] - 91s 488ms/step - loss: 0.1093 - accuracy: 0.9602 - val_loss: 0.9627 - val_accuracy: 0.7258\n"
     ]
    }
   ],
   "source": [
    "es = callbacks.EarlyStopping(patience=10, restore_best_weights=True)\n",
    "\n",
    "history = model.fit(\n",
    "    X,\n",
    "    y,\n",
    "    epochs=50,\n",
    "    validation_split=0.3,\n",
    "    batch_size=16,\n",
    "    callbacks=[es]\n",
    ")"
   ]
  },
  {
   "cell_type": "code",
   "execution_count": null,
   "id": "3b72b7e5-1711-42b6-ae27-ee829f8fb72d",
   "metadata": {},
   "outputs": [],
   "source": []
  }
 ],
 "metadata": {
  "kernelspec": {
   "display_name": "Python 3 (ipykernel)",
   "language": "python",
   "name": "python3"
  },
  "language_info": {
   "codemirror_mode": {
    "name": "ipython",
    "version": 3
   },
   "file_extension": ".py",
   "mimetype": "text/x-python",
   "name": "python",
   "nbconvert_exporter": "python",
   "pygments_lexer": "ipython3",
   "version": "3.8.12"
  }
 },
 "nbformat": 4,
 "nbformat_minor": 5
}
