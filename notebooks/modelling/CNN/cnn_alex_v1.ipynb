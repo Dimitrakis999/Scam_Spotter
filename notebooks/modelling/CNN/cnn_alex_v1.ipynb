{
 "cells": [
  {
   "cell_type": "code",
   "execution_count": 1,
   "id": "30cd4057-3f43-4ce4-a34c-ed23f7e4e01b",
   "metadata": {},
   "outputs": [],
   "source": [
    "import numpy as np\n",
    "import os\n",
    "import PIL\n",
    "import PIL.Image\n",
    "import tensorflow as tf\n",
    "import tensorflow_datasets as tfds\n",
    "import keras\n",
    "from keras.datasets import mnist\n",
    "#from keras.models import Sequential\n",
    "#from keras.layers import Dense, Dropout, Flatten\n",
    "#from keras.layers import Conv2D, MaxPooling2D\n",
    "from tensorflow.keras.models import Sequential\n",
    "from tensorflow.keras import models, layers, callbacks"
   ]
  },
  {
   "cell_type": "code",
   "execution_count": 2,
   "id": "7a96f932-fa1a-4c61-b10b-fc5a46e0bc37",
   "metadata": {},
   "outputs": [],
   "source": [
    "dataset_url = '../screen_scam/photo_all'"
   ]
  },
  {
   "cell_type": "code",
   "execution_count": 22,
   "id": "530a76cd-7a6d-49a2-9b0c-da57ab102942",
   "metadata": {},
   "outputs": [
    {
     "name": "stdout",
     "output_type": "stream",
     "text": [
      "Found 4259 files belonging to 2 classes.\n",
      "Using 2982 files for training.\n",
      "Found 4259 files belonging to 2 classes.\n",
      "Using 1277 files for validation.\n"
     ]
    }
   ],
   "source": [
    "seed_train_validation = 1 # Must be same for train_ds and val_ds\n",
    "shuffle_value = True\n",
    "validation_split = 0.3\n",
    "\n",
    "train_ds = tf.keras.utils.image_dataset_from_directory(\n",
    "directory =dataset_url,\n",
    "validation_split = validation_split,\n",
    "subset = \"training\",\n",
    "seed = seed_train_validation,\n",
    "shuffle = shuffle_value)\n",
    "\n",
    "val_ds = tf.keras.utils.image_dataset_from_directory(\n",
    "directory =dataset_url,\n",
    "validation_split = validation_split,\n",
    "subset = \"validation\",\n",
    "seed = seed_train_validation,\n",
    "shuffle = shuffle_value)"
   ]
  },
  {
   "cell_type": "code",
   "execution_count": 23,
   "id": "7e9b8f9b-d43b-480a-b6d6-6c0d49c810c3",
   "metadata": {},
   "outputs": [],
   "source": [
    "val_batches = tf.data.experimental.cardinality(val_ds)\n",
    "test_ds = val_ds.take((2*val_batches) // 3)\n",
    "val_ds = val_ds.skip((2*val_batches) // 3)"
   ]
  },
  {
   "cell_type": "code",
   "execution_count": null,
   "id": "5972e266-7028-4e24-bdd6-5b1239311284",
   "metadata": {},
   "outputs": [],
   "source": []
  },
  {
   "cell_type": "code",
   "execution_count": null,
   "id": "aaa222a1-5a5b-4f59-ae52-1612b340d321",
   "metadata": {},
   "outputs": [],
   "source": []
  },
  {
   "cell_type": "code",
   "execution_count": 26,
   "id": "2edac50f-8d5d-4684-9dd8-44bd1f1e4dc4",
   "metadata": {},
   "outputs": [],
   "source": [
    "from tensorflow.keras import optimizers"
   ]
  },
  {
   "cell_type": "code",
   "execution_count": 27,
   "id": "c5b6aae0-e37c-4beb-9fba-473b36dca526",
   "metadata": {},
   "outputs": [],
   "source": [
    "def load_own_model():\n",
    "    # Model Architecture\n",
    "    model = Sequential([\n",
    "        # Conv + Pool\n",
    "        layers.Rescaling(scale=1./255, input_shape=(256,256,3)),\n",
    "        layers.Conv2D(32, (8, 8), activation='relu'),\n",
    "        layers.MaxPool2D(3, 3),\n",
    "        layers.Conv2D(64, (6, 6), activation='relu'),\n",
    "        layers.MaxPool2D(3, 3),\n",
    "        layers.Conv2D(64, (4, 4), activation='relu'),\n",
    "        layers.MaxPool2D(3, 3),\n",
    "        # Flatten + Dense\n",
    "        layers.Flatten(),\n",
    "        layers.Dense(16, activation='relu'),\n",
    "        # Output\n",
    "        layers.Dense(1, activation='sigmoid')\n",
    "    ])\n",
    "    \n",
    "    # Compile\n",
    "    adam_opt = optimizers.Adam(learning_rate=0.01, beta_1=0.9, beta_2=0.999)\n",
    "    model.compile(\n",
    "        loss='binary_crossentropy',\n",
    "        optimizer='adam',\n",
    "        metrics=['accuracy']\n",
    "    )\n",
    "    \n",
    "    return model"
   ]
  },
  {
   "cell_type": "code",
   "execution_count": 28,
   "id": "feea643d-11b6-4755-a9d6-ade818db6ba7",
   "metadata": {},
   "outputs": [],
   "source": [
    "from tensorflow.keras import callbacks\n",
    "\n"
   ]
  },
  {
   "cell_type": "code",
   "execution_count": 30,
   "id": "cfb118c8-5d73-42e3-b3ee-334a91ef90d4",
   "metadata": {
    "collapsed": true,
    "jupyter": {
     "outputs_hidden": true
    },
    "tags": []
   },
   "outputs": [
    {
     "name": "stdout",
     "output_type": "stream",
     "text": [
      "Epoch 1/50\n",
      "94/94 [==============================] - 24s 232ms/step - loss: 0.6953 - accuracy: 0.5181 - val_loss: 0.6922 - val_accuracy: 0.5236\n",
      "Epoch 2/50\n",
      "94/94 [==============================] - 22s 223ms/step - loss: 0.6823 - accuracy: 0.5503 - val_loss: 0.6598 - val_accuracy: 0.6000\n",
      "Epoch 3/50\n",
      "94/94 [==============================] - 23s 226ms/step - loss: 0.6618 - accuracy: 0.5929 - val_loss: 0.6546 - val_accuracy: 0.6112\n",
      "Epoch 4/50\n",
      "94/94 [==============================] - 22s 222ms/step - loss: 0.6418 - accuracy: 0.6244 - val_loss: 0.6557 - val_accuracy: 0.6157\n",
      "Epoch 5/50\n",
      "94/94 [==============================] - 22s 223ms/step - loss: 0.6276 - accuracy: 0.6429 - val_loss: 0.6839 - val_accuracy: 0.5933\n",
      "Epoch 6/50\n",
      "94/94 [==============================] - 22s 224ms/step - loss: 0.6111 - accuracy: 0.6539 - val_loss: 0.6464 - val_accuracy: 0.6787\n",
      "Epoch 7/50\n",
      "94/94 [==============================] - 22s 224ms/step - loss: 0.5827 - accuracy: 0.6804 - val_loss: 0.6771 - val_accuracy: 0.6270\n",
      "Epoch 8/50\n",
      "94/94 [==============================] - 23s 226ms/step - loss: 0.5531 - accuracy: 0.7210 - val_loss: 0.6510 - val_accuracy: 0.6719\n",
      "Epoch 9/50\n",
      "94/94 [==============================] - 22s 224ms/step - loss: 0.5097 - accuracy: 0.7448 - val_loss: 0.6445 - val_accuracy: 0.6831\n",
      "Epoch 10/50\n",
      "94/94 [==============================] - 22s 221ms/step - loss: 0.4577 - accuracy: 0.7780 - val_loss: 0.6860 - val_accuracy: 0.6674\n",
      "Epoch 11/50\n",
      "94/94 [==============================] - 22s 222ms/step - loss: 0.4216 - accuracy: 0.7995 - val_loss: 0.7826 - val_accuracy: 0.6539\n",
      "Epoch 12/50\n",
      "94/94 [==============================] - 22s 220ms/step - loss: 0.3777 - accuracy: 0.8246 - val_loss: 0.7462 - val_accuracy: 0.6584\n",
      "Epoch 13/50\n",
      "94/94 [==============================] - 22s 221ms/step - loss: 0.3267 - accuracy: 0.8481 - val_loss: 0.8962 - val_accuracy: 0.6831\n",
      "Epoch 14/50\n",
      "94/94 [==============================] - 22s 224ms/step - loss: 0.2844 - accuracy: 0.8689 - val_loss: 0.9247 - val_accuracy: 0.6854\n",
      "Epoch 15/50\n",
      "94/94 [==============================] - 22s 223ms/step - loss: 0.2663 - accuracy: 0.8766 - val_loss: 0.9548 - val_accuracy: 0.6674\n",
      "Epoch 16/50\n",
      "94/94 [==============================] - 22s 224ms/step - loss: 0.2203 - accuracy: 0.9027 - val_loss: 0.9854 - val_accuracy: 0.6854\n",
      "Epoch 17/50\n",
      "94/94 [==============================] - 23s 228ms/step - loss: 0.1875 - accuracy: 0.9178 - val_loss: 0.9882 - val_accuracy: 0.6876\n",
      "Epoch 18/50\n",
      "94/94 [==============================] - 22s 223ms/step - loss: 0.1603 - accuracy: 0.9333 - val_loss: 1.1976 - val_accuracy: 0.7034\n",
      "Epoch 19/50\n",
      "94/94 [==============================] - 22s 224ms/step - loss: 0.1416 - accuracy: 0.9457 - val_loss: 1.1095 - val_accuracy: 0.7011\n",
      "Epoch 20/50\n",
      "94/94 [==============================] - 22s 223ms/step - loss: 0.1216 - accuracy: 0.9450 - val_loss: 1.2370 - val_accuracy: 0.7079\n",
      "Epoch 21/50\n",
      "94/94 [==============================] - 22s 221ms/step - loss: 0.1211 - accuracy: 0.9524 - val_loss: 1.3631 - val_accuracy: 0.7034\n",
      "Epoch 22/50\n",
      "94/94 [==============================] - 22s 224ms/step - loss: 0.0998 - accuracy: 0.9604 - val_loss: 1.4760 - val_accuracy: 0.6809\n",
      "Epoch 23/50\n",
      "94/94 [==============================] - 22s 220ms/step - loss: 0.1078 - accuracy: 0.9537 - val_loss: 1.5875 - val_accuracy: 0.6787\n",
      "Epoch 24/50\n",
      "94/94 [==============================] - 22s 224ms/step - loss: 0.0777 - accuracy: 0.9655 - val_loss: 1.9034 - val_accuracy: 0.6584\n",
      "Epoch 25/50\n",
      "94/94 [==============================] - 22s 222ms/step - loss: 0.0857 - accuracy: 0.9631 - val_loss: 1.6578 - val_accuracy: 0.6831\n",
      "Epoch 26/50\n",
      "94/94 [==============================] - 22s 219ms/step - loss: 0.0669 - accuracy: 0.9691 - val_loss: 1.5879 - val_accuracy: 0.6899\n",
      "Epoch 27/50\n",
      "94/94 [==============================] - 22s 223ms/step - loss: 0.0986 - accuracy: 0.9594 - val_loss: 1.7001 - val_accuracy: 0.6899\n",
      "Epoch 28/50\n",
      "94/94 [==============================] - 22s 222ms/step - loss: 0.0870 - accuracy: 0.9728 - val_loss: 1.9410 - val_accuracy: 0.6472\n",
      "Epoch 29/50\n",
      "94/94 [==============================] - 22s 224ms/step - loss: 0.0787 - accuracy: 0.9745 - val_loss: 1.8610 - val_accuracy: 0.6472\n",
      "Epoch 30/50\n",
      "94/94 [==============================] - 22s 225ms/step - loss: 0.0586 - accuracy: 0.9809 - val_loss: 1.9814 - val_accuracy: 0.6809\n",
      "Epoch 31/50\n",
      "94/94 [==============================] - 22s 222ms/step - loss: 0.0551 - accuracy: 0.9799 - val_loss: 1.7290 - val_accuracy: 0.6899\n",
      "Epoch 32/50\n",
      "94/94 [==============================] - 22s 223ms/step - loss: 0.0502 - accuracy: 0.9839 - val_loss: 1.9855 - val_accuracy: 0.6674\n",
      "Epoch 33/50\n",
      "94/94 [==============================] - 22s 225ms/step - loss: 0.0707 - accuracy: 0.9735 - val_loss: 2.4376 - val_accuracy: 0.6562\n",
      "Epoch 34/50\n",
      "94/94 [==============================] - 22s 221ms/step - loss: 0.1119 - accuracy: 0.9624 - val_loss: 1.6513 - val_accuracy: 0.6899\n",
      "Epoch 35/50\n",
      "94/94 [==============================] - 22s 224ms/step - loss: 0.0691 - accuracy: 0.9782 - val_loss: 1.8988 - val_accuracy: 0.7079\n",
      "Epoch 36/50\n",
      "94/94 [==============================] - 22s 222ms/step - loss: 0.0811 - accuracy: 0.9765 - val_loss: 1.7962 - val_accuracy: 0.6854\n",
      "Epoch 37/50\n",
      "94/94 [==============================] - 22s 220ms/step - loss: 0.0541 - accuracy: 0.9816 - val_loss: 2.1030 - val_accuracy: 0.6989\n",
      "Epoch 38/50\n",
      "94/94 [==============================] - 22s 221ms/step - loss: 0.0419 - accuracy: 0.9829 - val_loss: 1.9842 - val_accuracy: 0.6989\n",
      "Epoch 39/50\n",
      "94/94 [==============================] - 22s 220ms/step - loss: 0.0435 - accuracy: 0.9876 - val_loss: 2.0264 - val_accuracy: 0.6787\n"
     ]
    }
   ],
   "source": [
    "\n",
    "model = load_own_model()\n",
    "\n",
    "batch_size = 256\n",
    "epochs = 50\n",
    "es = callbacks.EarlyStopping(patience=30, restore_best_weights=True)\n",
    "\n",
    "history = model.fit(train_ds,\n",
    "                    batch_size=32,\n",
    "                    epochs=epochs,\n",
    "                    validation_data=val_ds,\n",
    "                    callbacks=[es])\n",
    "\n"
   ]
  },
  {
   "cell_type": "code",
   "execution_count": 31,
   "id": "c27b7707-8bc2-4e1a-8adb-ce239dc200ca",
   "metadata": {},
   "outputs": [
    {
     "name": "stdout",
     "output_type": "stream",
     "text": [
      "26/26 [==============================] - 5s 155ms/step - loss: 0.6304 - accuracy: 0.6707\n"
     ]
    },
    {
     "data": {
      "text/plain": [
       "[0.630433201789856, 0.6706730723381042]"
      ]
     },
     "execution_count": 31,
     "metadata": {},
     "output_type": "execute_result"
    }
   ],
   "source": [
    "model.evaluate(test_ds)"
   ]
  },
  {
   "cell_type": "code",
   "execution_count": 21,
   "id": "ee6aac5d-b00d-4fb6-8b43-bd47d07fa536",
   "metadata": {},
   "outputs": [
    {
     "data": {
      "text/plain": [
       "<bound method _NumpyIterator.next of <tensorflow.python.data.ops.dataset_ops._NumpyIterator object at 0x7f02665d6290>>"
      ]
     },
     "execution_count": 21,
     "metadata": {},
     "output_type": "execute_result"
    }
   ],
   "source": [
    "\n"
   ]
  },
  {
   "cell_type": "code",
   "execution_count": null,
   "id": "dc4fb3d3-512c-48d1-a5f5-f59849f93db4",
   "metadata": {},
   "outputs": [],
   "source": []
  }
 ],
 "metadata": {
  "environment": {
   "kernel": "python3",
   "name": "tf2-gpu.2-8.m100",
   "type": "gcloud",
   "uri": "gcr.io/deeplearning-platform-release/tf2-gpu.2-8:m100"
  },
  "kernelspec": {
   "display_name": "Python 3",
   "language": "python",
   "name": "python3"
  },
  "language_info": {
   "codemirror_mode": {
    "name": "ipython",
    "version": 3
   },
   "file_extension": ".py",
   "mimetype": "text/x-python",
   "name": "python",
   "nbconvert_exporter": "python",
   "pygments_lexer": "ipython3",
   "version": "3.7.12"
  }
 },
 "nbformat": 4,
 "nbformat_minor": 5
}
