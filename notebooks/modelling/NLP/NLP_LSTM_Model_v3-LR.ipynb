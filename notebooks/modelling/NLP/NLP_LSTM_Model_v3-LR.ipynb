{
 "cells": [
  {
   "cell_type": "code",
   "execution_count": 1,
   "id": "64267dd5-e8b6-4d8c-b24e-48a2697d27d7",
   "metadata": {
    "tags": []
   },
   "outputs": [
    {
     "name": "stderr",
     "output_type": "stream",
     "text": [
      "2022-12-08 10:31:27.069334: W tensorflow/stream_executor/platform/default/dso_loader.cc:64] Could not load dynamic library 'libcudart.so.11.0'; dlerror: libcudart.so.11.0: cannot open shared object file: No such file or directory\n",
      "2022-12-08 10:31:27.069348: I tensorflow/stream_executor/cuda/cudart_stub.cc:29] Ignore above cudart dlerror if you do not have a GPU set up on your machine.\n"
     ]
    }
   ],
   "source": [
    "import tensorflow as tf\n",
    "from tensorflow import keras\n",
    "from tensorflow.keras import layers\n",
    "import numpy as np\n",
    "from tensorflow.keras.preprocessing.sequence import pad_sequences\n",
    "from tensorflow.keras.preprocessing.text import Tokenizer\n",
    "import pandas as pd "
   ]
  },
  {
   "cell_type": "markdown",
   "id": "2bfdb67d",
   "metadata": {},
   "source": [
    "# FIX PATHS!"
   ]
  },
  {
   "cell_type": "code",
   "execution_count": 2,
   "id": "128fea1a-e52d-4385-afa2-9c0fb161d9a4",
   "metadata": {},
   "outputs": [],
   "source": [
    "##FIX PATHS TO LOAD CSVs\n",
    "legit = pd.read_csv(\"legit_text.csv\")"
   ]
  },
  {
   "cell_type": "code",
   "execution_count": 3,
   "id": "cd3389a4",
   "metadata": {},
   "outputs": [
    {
     "data": {
      "text/html": [
       "<div>\n",
       "<style scoped>\n",
       "    .dataframe tbody tr th:only-of-type {\n",
       "        vertical-align: middle;\n",
       "    }\n",
       "\n",
       "    .dataframe tbody tr th {\n",
       "        vertical-align: top;\n",
       "    }\n",
       "\n",
       "    .dataframe thead th {\n",
       "        text-align: right;\n",
       "    }\n",
       "</style>\n",
       "<table border=\"1\" class=\"dataframe\">\n",
       "  <thead>\n",
       "    <tr style=\"text-align: right;\">\n",
       "      <th></th>\n",
       "      <th>Unnamed: 0</th>\n",
       "      <th>url</th>\n",
       "      <th>text</th>\n",
       "    </tr>\n",
       "  </thead>\n",
       "  <tbody>\n",
       "    <tr>\n",
       "      <th>0</th>\n",
       "      <td>0</td>\n",
       "      <td>http://www.theaccessbankukltd.co.uk</td>\n",
       "      <td>menuaboutpersonalbusinessprivatedubainewsconta...</td>\n",
       "    </tr>\n",
       "    <tr>\n",
       "      <th>1</th>\n",
       "      <td>1</td>\n",
       "      <td>http://www.adambank.com</td>\n",
       "      <td>transfer contact usloginon 3 september 2022 we...</td>\n",
       "    </tr>\n",
       "    <tr>\n",
       "      <th>2</th>\n",
       "      <td>2</td>\n",
       "      <td>http://www.adib.co.uk</td>\n",
       "      <td>sign in​homeabout adibour brandmission   objec...</td>\n",
       "    </tr>\n",
       "    <tr>\n",
       "      <th>3</th>\n",
       "      <td>3</td>\n",
       "      <td>http://www.aldermore.co.uk</td>\n",
       "      <td>log inpersonalbusinessintermediariesabout usco...</td>\n",
       "    </tr>\n",
       "    <tr>\n",
       "      <th>4</th>\n",
       "      <td>4</td>\n",
       "      <td>http://www.allfunds.com/en</td>\n",
       "      <td>cookie configurationallfunds bank s a u   allf...</td>\n",
       "    </tr>\n",
       "    <tr>\n",
       "      <th>...</th>\n",
       "      <td>...</td>\n",
       "      <td>...</td>\n",
       "      <td>...</td>\n",
       "    </tr>\n",
       "    <tr>\n",
       "      <th>2107</th>\n",
       "      <td>2106</td>\n",
       "      <td>http://shop.hasbro.com/</td>\n",
       "      <td>skip to main contentnl   nederlandsontdek spee...</td>\n",
       "    </tr>\n",
       "    <tr>\n",
       "      <th>2108</th>\n",
       "      <td>2107</td>\n",
       "      <td>http://www.ropertech.com/</td>\n",
       "      <td>skip to content↵enterskip to contentsimple ide...</td>\n",
       "    </tr>\n",
       "    <tr>\n",
       "      <th>2109</th>\n",
       "      <td>2108</td>\n",
       "      <td>http://www.arkocorp.com/</td>\n",
       "      <td>investorsoverviewnews   eventsoverviewpress re...</td>\n",
       "    </tr>\n",
       "    <tr>\n",
       "      <th>2110</th>\n",
       "      <td>2109</td>\n",
       "      <td>http://frontier.com/</td>\n",
       "      <td>skip to contentopen menufrontier communication...</td>\n",
       "    </tr>\n",
       "    <tr>\n",
       "      <th>2111</th>\n",
       "      <td>2110</td>\n",
       "      <td>http://www.ameren.com/</td>\n",
       "      <td>skip to main contenttoggle navigationtoggle ac...</td>\n",
       "    </tr>\n",
       "  </tbody>\n",
       "</table>\n",
       "<p>2112 rows × 3 columns</p>\n",
       "</div>"
      ],
      "text/plain": [
       "     Unnamed: 0                                  url  \\\n",
       "0             0  http://www.theaccessbankukltd.co.uk   \n",
       "1             1              http://www.adambank.com   \n",
       "2             2                http://www.adib.co.uk   \n",
       "3             3           http://www.aldermore.co.uk   \n",
       "4             4           http://www.allfunds.com/en   \n",
       "...         ...                                  ...   \n",
       "2107       2106              http://shop.hasbro.com/   \n",
       "2108       2107            http://www.ropertech.com/   \n",
       "2109       2108             http://www.arkocorp.com/   \n",
       "2110       2109                 http://frontier.com/   \n",
       "2111       2110               http://www.ameren.com/   \n",
       "\n",
       "                                                   text  \n",
       "0     menuaboutpersonalbusinessprivatedubainewsconta...  \n",
       "1     transfer contact usloginon 3 september 2022 we...  \n",
       "2     sign in​homeabout adibour brandmission   objec...  \n",
       "3     log inpersonalbusinessintermediariesabout usco...  \n",
       "4     cookie configurationallfunds bank s a u   allf...  \n",
       "...                                                 ...  \n",
       "2107  skip to main contentnl   nederlandsontdek spee...  \n",
       "2108  skip to content↵enterskip to contentsimple ide...  \n",
       "2109  investorsoverviewnews   eventsoverviewpress re...  \n",
       "2110  skip to contentopen menufrontier communication...  \n",
       "2111  skip to main contenttoggle navigationtoggle ac...  \n",
       "\n",
       "[2112 rows x 3 columns]"
      ]
     },
     "execution_count": 3,
     "metadata": {},
     "output_type": "execute_result"
    }
   ],
   "source": [
    "legit"
   ]
  },
  {
   "cell_type": "code",
   "execution_count": 4,
   "id": "3889e899-4d51-4ab9-b24c-90c16c01c6f2",
   "metadata": {},
   "outputs": [],
   "source": [
    "scam = pd.read_csv(\"scam_text.csv\")"
   ]
  },
  {
   "cell_type": "code",
   "execution_count": 5,
   "id": "34c3c75c",
   "metadata": {},
   "outputs": [
    {
     "data": {
      "text/html": [
       "<div>\n",
       "<style scoped>\n",
       "    .dataframe tbody tr th:only-of-type {\n",
       "        vertical-align: middle;\n",
       "    }\n",
       "\n",
       "    .dataframe tbody tr th {\n",
       "        vertical-align: top;\n",
       "    }\n",
       "\n",
       "    .dataframe thead th {\n",
       "        text-align: right;\n",
       "    }\n",
       "</style>\n",
       "<table border=\"1\" class=\"dataframe\">\n",
       "  <thead>\n",
       "    <tr style=\"text-align: right;\">\n",
       "      <th></th>\n",
       "      <th>Unnamed: 0</th>\n",
       "      <th>url</th>\n",
       "      <th>text</th>\n",
       "    </tr>\n",
       "  </thead>\n",
       "  <tbody>\n",
       "    <tr>\n",
       "      <th>0</th>\n",
       "      <td>0</td>\n",
       "      <td>https://www.awesomeaussieshepherd.com</td>\n",
       "      <td>australian shepherd  homeabout usavailable pup...</td>\n",
       "    </tr>\n",
       "    <tr>\n",
       "      <th>1</th>\n",
       "      <td>1</td>\n",
       "      <td>http://www.gclservice.co.za</td>\n",
       "      <td>index of   \\tname\\tlast modified\\tsize\\tdescri...</td>\n",
       "    </tr>\n",
       "    <tr>\n",
       "      <th>2</th>\n",
       "      <td>2</td>\n",
       "      <td>https://www.gcloanservice.com</td>\n",
       "      <td>menuhomeloan applicationcontact usfaqsterms of...</td>\n",
       "    </tr>\n",
       "    <tr>\n",
       "      <th>3</th>\n",
       "      <td>3</td>\n",
       "      <td>http://www.authenicbiodocs.com</td>\n",
       "      <td>skip to contentpay with bitcoin25  discount fo...</td>\n",
       "    </tr>\n",
       "    <tr>\n",
       "      <th>4</th>\n",
       "      <td>4</td>\n",
       "      <td>https://www.thaiproductsllc.com</td>\n",
       "      <td>skip to content 61 3 9028 2716world wide shipp...</td>\n",
       "    </tr>\n",
       "    <tr>\n",
       "      <th>...</th>\n",
       "      <td>...</td>\n",
       "      <td>...</td>\n",
       "      <td>...</td>\n",
       "    </tr>\n",
       "    <tr>\n",
       "      <th>2090</th>\n",
       "      <td>2090</td>\n",
       "      <td>https://www.reynoldsfinance.com</td>\n",
       "      <td>reynoldsfinance comhomecontact usprivacy polic...</td>\n",
       "    </tr>\n",
       "    <tr>\n",
       "      <th>2091</th>\n",
       "      <td>2091</td>\n",
       "      <td>https://www.heartfordcapital.com</td>\n",
       "      <td>live chat 1 614 655 7713trade shares and forex...</td>\n",
       "    </tr>\n",
       "    <tr>\n",
       "      <th>2092</th>\n",
       "      <td>2092</td>\n",
       "      <td>https://www.e1am.com</td>\n",
       "      <td>skip to main contentlogin  by your side for m...</td>\n",
       "    </tr>\n",
       "    <tr>\n",
       "      <th>2093</th>\n",
       "      <td>2093</td>\n",
       "      <td>https://www.blackwellcapital.com</td>\n",
       "      <td>blackwell capital   800 917 7155homelendinginv...</td>\n",
       "    </tr>\n",
       "    <tr>\n",
       "      <th>2094</th>\n",
       "      <td>2094</td>\n",
       "      <td>https://www.hanover-associates.com</td>\n",
       "      <td>finance solutionsrecent closingsapply nowabout...</td>\n",
       "    </tr>\n",
       "  </tbody>\n",
       "</table>\n",
       "<p>2095 rows × 3 columns</p>\n",
       "</div>"
      ],
      "text/plain": [
       "      Unnamed: 0                                    url  \\\n",
       "0              0  https://www.awesomeaussieshepherd.com   \n",
       "1              1            http://www.gclservice.co.za   \n",
       "2              2          https://www.gcloanservice.com   \n",
       "3              3         http://www.authenicbiodocs.com   \n",
       "4              4        https://www.thaiproductsllc.com   \n",
       "...          ...                                    ...   \n",
       "2090        2090        https://www.reynoldsfinance.com   \n",
       "2091        2091       https://www.heartfordcapital.com   \n",
       "2092        2092                   https://www.e1am.com   \n",
       "2093        2093       https://www.blackwellcapital.com   \n",
       "2094        2094     https://www.hanover-associates.com   \n",
       "\n",
       "                                                   text  \n",
       "0     australian shepherd  homeabout usavailable pup...  \n",
       "1     index of   \\tname\\tlast modified\\tsize\\tdescri...  \n",
       "2     menuhomeloan applicationcontact usfaqsterms of...  \n",
       "3     skip to contentpay with bitcoin25  discount fo...  \n",
       "4     skip to content 61 3 9028 2716world wide shipp...  \n",
       "...                                                 ...  \n",
       "2090  reynoldsfinance comhomecontact usprivacy polic...  \n",
       "2091  live chat 1 614 655 7713trade shares and forex...  \n",
       "2092   skip to main contentlogin  by your side for m...  \n",
       "2093  blackwell capital   800 917 7155homelendinginv...  \n",
       "2094  finance solutionsrecent closingsapply nowabout...  \n",
       "\n",
       "[2095 rows x 3 columns]"
      ]
     },
     "execution_count": 5,
     "metadata": {},
     "output_type": "execute_result"
    }
   ],
   "source": [
    "scam"
   ]
  },
  {
   "cell_type": "code",
   "execution_count": 6,
   "id": "a9e04280-335c-4dbc-9a26-b3b63c2083e6",
   "metadata": {},
   "outputs": [],
   "source": [
    "legit.drop(columns='Unnamed: 0', inplace=True)"
   ]
  },
  {
   "cell_type": "code",
   "execution_count": 7,
   "id": "5e470a96-f527-42b3-aada-88d942ea3719",
   "metadata": {},
   "outputs": [],
   "source": [
    "scam.drop(columns='Unnamed: 0', inplace=True)"
   ]
  },
  {
   "cell_type": "code",
   "execution_count": 8,
   "id": "94ab50fd-c251-47d1-906d-f3b76360678d",
   "metadata": {},
   "outputs": [],
   "source": [
    "scam['Target'] = 1\n",
    "legit['Target'] = 0"
   ]
  },
  {
   "cell_type": "code",
   "execution_count": 9,
   "id": "5dad1d9b-2734-4817-a5f7-195bd9c820ed",
   "metadata": {},
   "outputs": [],
   "source": [
    "df = pd.concat([scam, legit])"
   ]
  },
  {
   "cell_type": "code",
   "execution_count": 10,
   "id": "76eb5685-5beb-476a-bf6d-4aa6019f2dc9",
   "metadata": {},
   "outputs": [],
   "source": [
    "df.to_csv('full_text_v2.csv')"
   ]
  },
  {
   "cell_type": "code",
   "execution_count": 11,
   "id": "2efb0dbf-108b-4715-aafe-4743b8a6225d",
   "metadata": {},
   "outputs": [
    {
     "name": "stderr",
     "output_type": "stream",
     "text": [
      "[nltk_data] Downloading package stopwords to /home/lscr/nltk_data...\n",
      "[nltk_data]   Package stopwords is already up-to-date!\n"
     ]
    },
    {
     "data": {
      "text/plain": [
       "True"
      ]
     },
     "execution_count": 11,
     "metadata": {},
     "output_type": "execute_result"
    }
   ],
   "source": [
    "#Clean all text data \n",
    "from nltk.corpus import stopwords \n",
    "import string\n",
    "from nltk import word_tokenize \n",
    "import nltk\n",
    "nltk.download('stopwords')"
   ]
  },
  {
   "cell_type": "code",
   "execution_count": 12,
   "id": "c6bcb568",
   "metadata": {},
   "outputs": [
    {
     "data": {
      "text/html": [
       "<div>\n",
       "<style scoped>\n",
       "    .dataframe tbody tr th:only-of-type {\n",
       "        vertical-align: middle;\n",
       "    }\n",
       "\n",
       "    .dataframe tbody tr th {\n",
       "        vertical-align: top;\n",
       "    }\n",
       "\n",
       "    .dataframe thead th {\n",
       "        text-align: right;\n",
       "    }\n",
       "</style>\n",
       "<table border=\"1\" class=\"dataframe\">\n",
       "  <thead>\n",
       "    <tr style=\"text-align: right;\">\n",
       "      <th></th>\n",
       "      <th>url</th>\n",
       "      <th>text</th>\n",
       "      <th>Target</th>\n",
       "    </tr>\n",
       "  </thead>\n",
       "  <tbody>\n",
       "    <tr>\n",
       "      <th>0</th>\n",
       "      <td>https://www.awesomeaussieshepherd.com</td>\n",
       "      <td>australian shepherd  homeabout usavailable pup...</td>\n",
       "      <td>1</td>\n",
       "    </tr>\n",
       "    <tr>\n",
       "      <th>1</th>\n",
       "      <td>http://www.gclservice.co.za</td>\n",
       "      <td>index of   \\tname\\tlast modified\\tsize\\tdescri...</td>\n",
       "      <td>1</td>\n",
       "    </tr>\n",
       "    <tr>\n",
       "      <th>2</th>\n",
       "      <td>https://www.gcloanservice.com</td>\n",
       "      <td>menuhomeloan applicationcontact usfaqsterms of...</td>\n",
       "      <td>1</td>\n",
       "    </tr>\n",
       "    <tr>\n",
       "      <th>3</th>\n",
       "      <td>http://www.authenicbiodocs.com</td>\n",
       "      <td>skip to contentpay with bitcoin25  discount fo...</td>\n",
       "      <td>1</td>\n",
       "    </tr>\n",
       "    <tr>\n",
       "      <th>4</th>\n",
       "      <td>https://www.thaiproductsllc.com</td>\n",
       "      <td>skip to content 61 3 9028 2716world wide shipp...</td>\n",
       "      <td>1</td>\n",
       "    </tr>\n",
       "    <tr>\n",
       "      <th>...</th>\n",
       "      <td>...</td>\n",
       "      <td>...</td>\n",
       "      <td>...</td>\n",
       "    </tr>\n",
       "    <tr>\n",
       "      <th>2107</th>\n",
       "      <td>http://shop.hasbro.com/</td>\n",
       "      <td>skip to main contentnl   nederlandsontdek spee...</td>\n",
       "      <td>0</td>\n",
       "    </tr>\n",
       "    <tr>\n",
       "      <th>2108</th>\n",
       "      <td>http://www.ropertech.com/</td>\n",
       "      <td>skip to content↵enterskip to contentsimple ide...</td>\n",
       "      <td>0</td>\n",
       "    </tr>\n",
       "    <tr>\n",
       "      <th>2109</th>\n",
       "      <td>http://www.arkocorp.com/</td>\n",
       "      <td>investorsoverviewnews   eventsoverviewpress re...</td>\n",
       "      <td>0</td>\n",
       "    </tr>\n",
       "    <tr>\n",
       "      <th>2110</th>\n",
       "      <td>http://frontier.com/</td>\n",
       "      <td>skip to contentopen menufrontier communication...</td>\n",
       "      <td>0</td>\n",
       "    </tr>\n",
       "    <tr>\n",
       "      <th>2111</th>\n",
       "      <td>http://www.ameren.com/</td>\n",
       "      <td>skip to main contenttoggle navigationtoggle ac...</td>\n",
       "      <td>0</td>\n",
       "    </tr>\n",
       "  </tbody>\n",
       "</table>\n",
       "<p>4207 rows × 3 columns</p>\n",
       "</div>"
      ],
      "text/plain": [
       "                                        url  \\\n",
       "0     https://www.awesomeaussieshepherd.com   \n",
       "1               http://www.gclservice.co.za   \n",
       "2             https://www.gcloanservice.com   \n",
       "3            http://www.authenicbiodocs.com   \n",
       "4           https://www.thaiproductsllc.com   \n",
       "...                                     ...   \n",
       "2107                http://shop.hasbro.com/   \n",
       "2108              http://www.ropertech.com/   \n",
       "2109               http://www.arkocorp.com/   \n",
       "2110                   http://frontier.com/   \n",
       "2111                 http://www.ameren.com/   \n",
       "\n",
       "                                                   text  Target  \n",
       "0     australian shepherd  homeabout usavailable pup...       1  \n",
       "1     index of   \\tname\\tlast modified\\tsize\\tdescri...       1  \n",
       "2     menuhomeloan applicationcontact usfaqsterms of...       1  \n",
       "3     skip to contentpay with bitcoin25  discount fo...       1  \n",
       "4     skip to content 61 3 9028 2716world wide shipp...       1  \n",
       "...                                                 ...     ...  \n",
       "2107  skip to main contentnl   nederlandsontdek spee...       0  \n",
       "2108  skip to content↵enterskip to contentsimple ide...       0  \n",
       "2109  investorsoverviewnews   eventsoverviewpress re...       0  \n",
       "2110  skip to contentopen menufrontier communication...       0  \n",
       "2111  skip to main contenttoggle navigationtoggle ac...       0  \n",
       "\n",
       "[4207 rows x 3 columns]"
      ]
     },
     "execution_count": 12,
     "metadata": {},
     "output_type": "execute_result"
    }
   ],
   "source": [
    "df"
   ]
  },
  {
   "cell_type": "code",
   "execution_count": 13,
   "id": "a77cdb45-874f-4671-a399-e1ad6d38202c",
   "metadata": {},
   "outputs": [],
   "source": [
    "def clean(text):\n",
    "    text = text.split()\n",
    "    words_only = [word for word in text if word.isalpha()]\n",
    "    for punctuation in string.punctuation:\n",
    "        words_only = [word.replace(punctuation, ' ').lower() for word in words_only] # Remove Punctuation\n",
    "    # lowercased = text.lower() # Lower Case\n",
    "    #tokenized = word_tokenize(lowercased) # Tokenize\n",
    "    # words_only = [word for word in tokenized if word.isalpha()] # Remove numbers\n",
    "    stop_words = set(stopwords.words('english')) # Make stopword list\n",
    "    without_stopwords = [word for word in words_only if not word in stop_words] # Remove Stop Words\n",
    "    # lemma=WordNetLemmatizer() # Initiate Lemmatizer\n",
    "    # lemmatized = [lemma.lemmatize(word) for word in without_stopwords] # Lemmatize\n",
    "    return without_stopwords"
   ]
  },
  {
   "cell_type": "code",
   "execution_count": 14,
   "id": "bcc4b6ab-2795-43cf-b63d-0304b80de641",
   "metadata": {
    "tags": []
   },
   "outputs": [],
   "source": [
    "df['str_text'] = df['text'].astype('str')\n",
    "df['clean_text'] = df['str_text'].apply(clean)\n",
    "#df['clean_text'] = df['clean_text'].astype('str')"
   ]
  },
  {
   "cell_type": "code",
   "execution_count": 15,
   "id": "6ce6a43e-0a07-4ec6-aae3-d917391c526c",
   "metadata": {},
   "outputs": [],
   "source": [
    "df_clean = df[['Target','clean_text']]"
   ]
  },
  {
   "cell_type": "code",
   "execution_count": 16,
   "id": "f8be75b9-1d36-4d6a-9c37-59030bc2e9e0",
   "metadata": {},
   "outputs": [],
   "source": [
    "df_clean.reset_index(drop = True, inplace=True)"
   ]
  },
  {
   "cell_type": "code",
   "execution_count": 17,
   "id": "8ccd96ee-a86c-4510-bbab-e78bcc6daf49",
   "metadata": {},
   "outputs": [],
   "source": [
    "from gensim.models import Word2Vec"
   ]
  },
  {
   "cell_type": "code",
   "execution_count": 18,
   "id": "ba63b392-9d2d-42b4-8b0d-8e5016372556",
   "metadata": {},
   "outputs": [],
   "source": [
    "from sklearn.model_selection import train_test_split"
   ]
  },
  {
   "cell_type": "code",
   "execution_count": 19,
   "id": "a4db808f-7b8f-4d28-ba6b-927155d96252",
   "metadata": {},
   "outputs": [],
   "source": [
    "X_train, X_test, y_train, y_test = train_test_split(df_clean['clean_text'], df_clean['Target'], shuffle = True, test_size = 0.2)"
   ]
  },
  {
   "cell_type": "code",
   "execution_count": 20,
   "id": "ae49a3fb-88d1-44d0-bddc-874e844f7b2d",
   "metadata": {},
   "outputs": [],
   "source": [
    "import gensim.downloader as api"
   ]
  },
  {
   "cell_type": "code",
   "execution_count": 21,
   "id": "82c1e5ee-cd93-478c-949f-4e1423875fd1",
   "metadata": {},
   "outputs": [],
   "source": [
    "word2vec_transfer = api.load('glove-wiki-gigaword-100')"
   ]
  },
  {
   "cell_type": "code",
   "execution_count": 22,
   "id": "6017c4e7-7fd2-420a-8ad8-e07f4284e78d",
   "metadata": {
    "tags": []
   },
   "outputs": [
    {
     "data": {
      "text/plain": [
       "array([ 0.30817  ,  0.30938  ,  0.52803  , -0.92543  , -0.73671  ,\n",
       "        0.63475  ,  0.44197  ,  0.10262  , -0.09142  , -0.56607  ,\n",
       "       -0.5327   ,  0.2013   ,  0.7704   , -0.13983  ,  0.13727  ,\n",
       "        1.1128   ,  0.89301  , -0.17869  , -0.0019722,  0.57289  ,\n",
       "        0.59479  ,  0.50428  , -0.28991  , -1.3491   ,  0.42756  ,\n",
       "        1.2748   , -1.1613   , -0.41084  ,  0.042804 ,  0.54866  ,\n",
       "        0.18897  ,  0.3759   ,  0.58035  ,  0.66975  ,  0.81156  ,\n",
       "        0.93864  , -0.51005  , -0.070079 ,  0.82819  , -0.35346  ,\n",
       "        0.21086  , -0.24412  , -0.16554  , -0.78358  , -0.48482  ,\n",
       "        0.38968  , -0.86356  , -0.016391 ,  0.31984  , -0.49246  ,\n",
       "       -0.069363 ,  0.018869 , -0.098286 ,  1.3126   , -0.12116  ,\n",
       "       -1.2399   , -0.091429 ,  0.35294  ,  0.64645  ,  0.089642 ,\n",
       "        0.70294  ,  1.1244   ,  0.38639  ,  0.52084  ,  0.98787  ,\n",
       "        0.79952  , -0.34625  ,  0.14095  ,  0.80167  ,  0.20987  ,\n",
       "       -0.86007  , -0.15308  ,  0.074523 ,  0.40816  ,  0.019208 ,\n",
       "        0.51587  , -0.34428  , -0.24525  , -0.77984  ,  0.27425  ,\n",
       "        0.22418  ,  0.20164  ,  0.017431 , -0.014697 , -1.0235   ,\n",
       "       -0.39695  , -0.0056188,  0.30569  ,  0.31748  ,  0.021404 ,\n",
       "        0.11837  , -0.11319  ,  0.42456  ,  0.53405  , -0.16717  ,\n",
       "       -0.27185  , -0.6255   ,  0.12883  ,  0.62529  , -0.52086  ],\n",
       "      dtype=float32)"
      ]
     },
     "execution_count": 22,
     "metadata": {},
     "output_type": "execute_result"
    }
   ],
   "source": [
    "word2vec_transfer['dog']"
   ]
  },
  {
   "cell_type": "code",
   "execution_count": 23,
   "id": "7a2df2e1-1360-491f-8748-646a456b0961",
   "metadata": {},
   "outputs": [],
   "source": [
    "# Function to convert a sentence (list of words) into a matrix representing the words in the embedding space\n",
    "def embed_sentence_with_TF(word2vec, sentence):\n",
    "    embedded_sentence = []\n",
    "    for word in sentence:\n",
    "        if word in word2vec:\n",
    "            embedded_sentence.append(word2vec[word])\n",
    "        \n",
    "    return np.array(embedded_sentence)\n",
    "\n",
    "# Function that converts a list of sentences into a list of matrices\n",
    "def embedding(word2vec, sentences):\n",
    "    embed = []\n",
    "    \n",
    "    for sentence in sentences:\n",
    "        embedded_sentence = embed_sentence_with_TF(word2vec, sentence)\n",
    "        embed.append(embedded_sentence)\n",
    "        \n",
    "    return embed\n",
    "\n",
    "# Embed the training and test sentences\n",
    "X_train_embed_2 = embedding(word2vec_transfer, X_train)\n",
    "X_test_embed_2 = embedding(word2vec_transfer, X_test)"
   ]
  },
  {
   "cell_type": "code",
   "execution_count": 24,
   "id": "803fd094-cd6e-4495-953d-0c13101dc8ce",
   "metadata": {},
   "outputs": [],
   "source": [
    "X_train_pad = pad_sequences(X_train_embed_2, dtype='float32', padding='post', maxlen=200)\n",
    "X_test_pad = pad_sequences(X_test_embed_2, dtype='float32', padding='post', maxlen=200)"
   ]
  },
  {
   "cell_type": "code",
   "execution_count": 25,
   "id": "28494e38-f517-4b21-a312-5cb61f71c748",
   "metadata": {},
   "outputs": [
    {
     "data": {
      "text/plain": [
       "(3365, 200, 100)"
      ]
     },
     "execution_count": 25,
     "metadata": {},
     "output_type": "execute_result"
    }
   ],
   "source": [
    "X_train_pad.shape"
   ]
  },
  {
   "cell_type": "code",
   "execution_count": null,
   "id": "09bf1d59-bc65-4865-8c34-1daebe8ece72",
   "metadata": {},
   "outputs": [],
   "source": []
  },
  {
   "cell_type": "code",
   "execution_count": 26,
   "id": "72fd5e95-75f5-4b61-bbb2-800ebb0fcd69",
   "metadata": {},
   "outputs": [],
   "source": [
    "from tensorflow.keras import Sequential\n",
    "from tensorflow.keras import layers"
   ]
  },
  {
   "cell_type": "code",
   "execution_count": 27,
   "id": "b290d80f-fb29-476a-aed6-9e6e9e0ae65b",
   "metadata": {},
   "outputs": [],
   "source": [
    "def init_model():\n",
    "    model = Sequential([\n",
    "        layers.Masking(),\n",
    "        layers.BatchNormalization(),\n",
    "        layers.Bidirectional(layers.LSTM(32, activation='tanh', return_sequences=True)),\n",
    "        layers.Dropout(0.5),\n",
    "        layers.Bidirectional(layers.LSTM(32, activation='tanh', return_sequences=True)),\n",
    "        layers.Dropout(0.5),\n",
    "        layers.Bidirectional(layers.LSTM(16, activation='tanh')),\n",
    "        layers.Dropout(0.5),\n",
    "        \n",
    "        layers.Dense(32, activation='relu'),\n",
    "        layers.Dropout(0.2),\n",
    "        layers.Dense(16, activation='relu'),\n",
    "        layers.Dropout(0.2),\n",
    "        layers.Dense(1, activation='sigmoid')\n",
    "    ])\n",
    "    \n",
    "    model.compile(loss='binary_crossentropy',\n",
    "                  optimizer='adam',\n",
    "                  metrics=['accuracy'])\n",
    "    \n",
    "    return model"
   ]
  },
  {
   "cell_type": "code",
   "execution_count": 28,
   "id": "5defe5a7-766f-436f-a5fd-d4725a30a706",
   "metadata": {},
   "outputs": [
    {
     "name": "stderr",
     "output_type": "stream",
     "text": [
      "2022-12-08 10:31:53.821314: W tensorflow/stream_executor/platform/default/dso_loader.cc:64] Could not load dynamic library 'libcuda.so.1'; dlerror: libcuda.so.1: cannot open shared object file: No such file or directory\n",
      "2022-12-08 10:31:53.821341: W tensorflow/stream_executor/cuda/cuda_driver.cc:269] failed call to cuInit: UNKNOWN ERROR (303)\n",
      "2022-12-08 10:31:53.821358: I tensorflow/stream_executor/cuda/cuda_diagnostics.cc:156] kernel driver does not appear to be running on this host (lscr): /proc/driver/nvidia/version does not exist\n",
      "2022-12-08 10:31:53.821606: I tensorflow/core/platform/cpu_feature_guard.cc:151] This TensorFlow binary is optimized with oneAPI Deep Neural Network Library (oneDNN) to use the following CPU instructions in performance-critical operations:  AVX2 AVX512F FMA\n",
      "To enable them in other operations, rebuild TensorFlow with the appropriate compiler flags.\n"
     ]
    }
   ],
   "source": [
    "model = init_model()"
   ]
  },
  {
   "cell_type": "code",
   "execution_count": 29,
   "id": "770bceaa-bfd6-4b9f-828e-164c73e5bb1b",
   "metadata": {},
   "outputs": [
    {
     "name": "stdout",
     "output_type": "stream",
     "text": [
      "Epoch 1/100\n"
     ]
    },
    {
     "name": "stderr",
     "output_type": "stream",
     "text": [
      "2022-12-08 10:31:53.858987: W tensorflow/core/framework/cpu_allocator_impl.cc:82] Allocation of 188400000 exceeds 10% of free system memory.\n"
     ]
    },
    {
     "name": "stdout",
     "output_type": "stream",
     "text": [
      "74/74 [==============================] - ETA: 0s - loss: 0.6680 - accuracy: 0.5703"
     ]
    },
    {
     "name": "stderr",
     "output_type": "stream",
     "text": [
      "2022-12-08 10:32:21.900079: W tensorflow/core/framework/cpu_allocator_impl.cc:82] Allocation of 80800000 exceeds 10% of free system memory.\n"
     ]
    },
    {
     "name": "stdout",
     "output_type": "stream",
     "text": [
      "74/74 [==============================] - 34s 288ms/step - loss: 0.6680 - accuracy: 0.5703 - val_loss: 0.5791 - val_accuracy: 0.7079\n",
      "Epoch 2/100\n",
      "74/74 [==============================] - 17s 229ms/step - loss: 0.5081 - accuracy: 0.7588 - val_loss: 0.4807 - val_accuracy: 0.7683\n",
      "Epoch 3/100\n",
      "74/74 [==============================] - 17s 226ms/step - loss: 0.3998 - accuracy: 0.8272 - val_loss: 0.4231 - val_accuracy: 0.8109\n",
      "Epoch 4/100\n",
      "74/74 [==============================] - 17s 225ms/step - loss: 0.3126 - accuracy: 0.8701 - val_loss: 0.4144 - val_accuracy: 0.8307\n",
      "Epoch 5/100\n",
      "74/74 [==============================] - 17s 233ms/step - loss: 0.2561 - accuracy: 0.9028 - val_loss: 0.4282 - val_accuracy: 0.8366\n",
      "Epoch 6/100\n",
      "74/74 [==============================] - 18s 239ms/step - loss: 0.2006 - accuracy: 0.9236 - val_loss: 0.4918 - val_accuracy: 0.8099\n",
      "Epoch 7/100\n",
      "74/74 [==============================] - 18s 239ms/step - loss: 0.1799 - accuracy: 0.9304 - val_loss: 0.4334 - val_accuracy: 0.8515\n",
      "Epoch 8/100\n",
      "74/74 [==============================] - 18s 238ms/step - loss: 0.1540 - accuracy: 0.9346 - val_loss: 0.4668 - val_accuracy: 0.8495\n",
      "Epoch 9/100\n",
      "74/74 [==============================] - 18s 239ms/step - loss: 0.1471 - accuracy: 0.9461 - val_loss: 0.5224 - val_accuracy: 0.8307\n",
      "Epoch 10/100\n",
      "74/74 [==============================] - 18s 238ms/step - loss: 0.1392 - accuracy: 0.9490 - val_loss: 0.5139 - val_accuracy: 0.8446\n",
      "Epoch 11/100\n",
      "74/74 [==============================] - 18s 239ms/step - loss: 0.0941 - accuracy: 0.9639 - val_loss: 0.5900 - val_accuracy: 0.8545\n",
      "Epoch 12/100\n",
      "74/74 [==============================] - 18s 239ms/step - loss: 0.1108 - accuracy: 0.9580 - val_loss: 0.5221 - val_accuracy: 0.8545\n",
      "Epoch 13/100\n",
      "74/74 [==============================] - 18s 239ms/step - loss: 0.0874 - accuracy: 0.9669 - val_loss: 0.5508 - val_accuracy: 0.8475\n",
      "Epoch 14/100\n",
      "74/74 [==============================] - 18s 238ms/step - loss: 0.0802 - accuracy: 0.9686 - val_loss: 0.5646 - val_accuracy: 0.8723\n"
     ]
    },
    {
     "data": {
      "text/plain": [
       "<keras.callbacks.History at 0x7f38766eddb0>"
      ]
     },
     "execution_count": 29,
     "metadata": {},
     "output_type": "execute_result"
    }
   ],
   "source": [
    "from tensorflow.keras.callbacks import EarlyStopping\n",
    "\n",
    "es = EarlyStopping(patience=10, restore_best_weights=True, monitor='val_loss')\n",
    "\n",
    "model.fit(X_train_pad, y_train, \n",
    "          batch_size = 32,\n",
    "          epochs=100,\n",
    "          validation_split=0.3,\n",
    "          callbacks=[es]\n",
    "         )"
   ]
  },
  {
   "cell_type": "code",
   "execution_count": 30,
   "id": "7866716d-7199-4867-a77b-7255d0757fc9",
   "metadata": {},
   "outputs": [
    {
     "name": "stdout",
     "output_type": "stream",
     "text": [
      "27/27 [==============================] - 1s 46ms/step - loss: 0.3552 - accuracy: 0.8646\n"
     ]
    },
    {
     "data": {
      "text/plain": [
       "[0.35515299439430237, 0.8646080493927002]"
      ]
     },
     "execution_count": 30,
     "metadata": {},
     "output_type": "execute_result"
    }
   ],
   "source": [
    "model.evaluate(X_test_pad, y_test)"
   ]
  },
  {
   "cell_type": "code",
   "execution_count": 31,
   "id": "fedaced7-db89-4d8e-bcfe-7e118dc1978e",
   "metadata": {},
   "outputs": [],
   "source": [
    "model.save('nlp_model.h5')"
   ]
  },
  {
   "cell_type": "code",
   "execution_count": 33,
   "id": "af60f56c-1dd0-473e-8bce-4b64cf3369c2",
   "metadata": {},
   "outputs": [
    {
     "name": "stderr",
     "output_type": "stream",
     "text": [
      "WARNING:absl:Found untraced functions such as lstm_cell_1_layer_call_fn, lstm_cell_1_layer_call_and_return_conditional_losses, lstm_cell_2_layer_call_fn, lstm_cell_2_layer_call_and_return_conditional_losses, lstm_cell_4_layer_call_fn while saving (showing 5 of 12). These functions will not be directly callable after loading.\n"
     ]
    },
    {
     "name": "stdout",
     "output_type": "stream",
     "text": [
      "INFO:tensorflow:Assets written to: ram://005d9d66-d7d0-4c4c-b2be-d33257a9eaa9/assets\n"
     ]
    },
    {
     "name": "stderr",
     "output_type": "stream",
     "text": [
      "INFO:tensorflow:Assets written to: ram://005d9d66-d7d0-4c4c-b2be-d33257a9eaa9/assets\n",
      "WARNING:absl:<keras.layers.recurrent.LSTMCell object at 0x7f38822f52a0> has the same name 'LSTMCell' as a built-in Keras object. Consider renaming <class 'keras.layers.recurrent.LSTMCell'> to avoid naming conflicts when loading with `tf.keras.models.load_model`. If renaming is not possible, pass the object in the `custom_objects` parameter of the load function.\n",
      "WARNING:absl:<keras.layers.recurrent.LSTMCell object at 0x7f38822f79d0> has the same name 'LSTMCell' as a built-in Keras object. Consider renaming <class 'keras.layers.recurrent.LSTMCell'> to avoid naming conflicts when loading with `tf.keras.models.load_model`. If renaming is not possible, pass the object in the `custom_objects` parameter of the load function.\n",
      "WARNING:absl:<keras.layers.recurrent.LSTMCell object at 0x7f3876655750> has the same name 'LSTMCell' as a built-in Keras object. Consider renaming <class 'keras.layers.recurrent.LSTMCell'> to avoid naming conflicts when loading with `tf.keras.models.load_model`. If renaming is not possible, pass the object in the `custom_objects` parameter of the load function.\n",
      "WARNING:absl:<keras.layers.recurrent.LSTMCell object at 0x7f3876656230> has the same name 'LSTMCell' as a built-in Keras object. Consider renaming <class 'keras.layers.recurrent.LSTMCell'> to avoid naming conflicts when loading with `tf.keras.models.load_model`. If renaming is not possible, pass the object in the `custom_objects` parameter of the load function.\n",
      "WARNING:absl:<keras.layers.recurrent.LSTMCell object at 0x7f3876657ee0> has the same name 'LSTMCell' as a built-in Keras object. Consider renaming <class 'keras.layers.recurrent.LSTMCell'> to avoid naming conflicts when loading with `tf.keras.models.load_model`. If renaming is not possible, pass the object in the `custom_objects` parameter of the load function.\n",
      "WARNING:absl:<keras.layers.recurrent.LSTMCell object at 0x7f387666c940> has the same name 'LSTMCell' as a built-in Keras object. Consider renaming <class 'keras.layers.recurrent.LSTMCell'> to avoid naming conflicts when loading with `tf.keras.models.load_model`. If renaming is not possible, pass the object in the `custom_objects` parameter of the load function.\n"
     ]
    }
   ],
   "source": [
    "import pickle\n",
    "\n",
    "pickle.dump(model, open('nlp_model_pickle.pickle', 'wb'))"
   ]
  },
  {
   "cell_type": "code",
   "execution_count": 31,
   "id": "dd81453a-0b68-44f6-a019-2d2ad24cfa79",
   "metadata": {},
   "outputs": [
    {
     "name": "stdout",
     "output_type": "stream",
     "text": [
      "27/27 [==============================] - 1s 46ms/step - loss: 0.3552 - accuracy: 0.8646\n"
     ]
    },
    {
     "ename": "NameError",
     "evalue": "name 'results_dict' is not defined",
     "output_type": "error",
     "traceback": [
      "\u001b[0;31m---------------------------------------------------------------------------\u001b[0m",
      "\u001b[0;31mNameError\u001b[0m                                 Traceback (most recent call last)",
      "\u001b[0;32m/tmp/ipykernel_70413/2458479376.py\u001b[0m in \u001b[0;36m<module>\u001b[0;34m\u001b[0m\n\u001b[0;32m----> 1\u001b[0;31m \u001b[0mresults_dict\u001b[0m\u001b[0;34m[\u001b[0m\u001b[0;34m'bi-directional + rmsprop + 0.5 dropout on LSTM'\u001b[0m\u001b[0;34m]\u001b[0m \u001b[0;34m=\u001b[0m \u001b[0mmodel\u001b[0m\u001b[0;34m.\u001b[0m\u001b[0mevaluate\u001b[0m\u001b[0;34m(\u001b[0m\u001b[0mX_test_pad\u001b[0m\u001b[0;34m,\u001b[0m \u001b[0my_test\u001b[0m\u001b[0;34m)\u001b[0m\u001b[0;34m\u001b[0m\u001b[0;34m\u001b[0m\u001b[0m\n\u001b[0m",
      "\u001b[0;31mNameError\u001b[0m: name 'results_dict' is not defined"
     ]
    }
   ],
   "source": [
    "results_dict['bi-directional + rmsprop + 0.5 dropout on LSTM'] = model.evaluate(X_test_pad, y_test)"
   ]
  },
  {
   "cell_type": "code",
   "execution_count": null,
   "id": "afa1f17b-1b12-458e-b2d8-d176b4b0689d",
   "metadata": {},
   "outputs": [],
   "source": [
    "results_dict"
   ]
  },
  {
   "cell_type": "code",
   "execution_count": null,
   "id": "11797ccd-7f83-43f9-a7de-b589d6001227",
   "metadata": {},
   "outputs": [],
   "source": [
    "results_dict = {}"
   ]
  },
  {
   "cell_type": "code",
   "execution_count": null,
   "id": "a29ec2d1-0243-40cf-92e4-7e1ab48f18ea",
   "metadata": {},
   "outputs": [],
   "source": []
  }
 ],
 "metadata": {
  "environment": {
   "kernel": "python3",
   "name": "tf2-gpu.2-8.m100",
   "type": "gcloud",
   "uri": "gcr.io/deeplearning-platform-release/tf2-gpu.2-8:m100"
  },
  "kernelspec": {
   "display_name": "Python 3 (ipykernel)",
   "language": "python",
   "name": "python3"
  },
  "language_info": {
   "codemirror_mode": {
    "name": "ipython",
    "version": 3
   },
   "file_extension": ".py",
   "mimetype": "text/x-python",
   "name": "python",
   "nbconvert_exporter": "python",
   "pygments_lexer": "ipython3",
   "version": "3.10.6"
  },
  "toc": {
   "base_numbering": 1,
   "nav_menu": {},
   "number_sections": true,
   "sideBar": true,
   "skip_h1_title": false,
   "title_cell": "Table of Contents",
   "title_sidebar": "Contents",
   "toc_cell": false,
   "toc_position": {},
   "toc_section_display": true,
   "toc_window_display": false
  },
  "vscode": {
   "interpreter": {
    "hash": "92bbd1214a7d39a6e5f2153b1898c10d7e7bba9203efa606f046a9e5e7a50511"
   }
  }
 },
 "nbformat": 4,
 "nbformat_minor": 5
}
