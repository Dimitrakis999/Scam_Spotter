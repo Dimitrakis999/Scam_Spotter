{
 "cells": [
  {
   "cell_type": "code",
   "execution_count": 1,
   "id": "64267dd5-e8b6-4d8c-b24e-48a2697d27d7",
   "metadata": {
    "collapsed": true,
    "jupyter": {
     "outputs_hidden": true
    }
   },
   "outputs": [
    {
     "name": "stderr",
     "output_type": "stream",
     "text": [
      "2022-12-02 11:06:04.177339: I tensorflow/core/platform/cpu_feature_guard.cc:193] This TensorFlow binary is optimized with oneAPI Deep Neural Network Library (oneDNN) to use the following CPU instructions in performance-critical operations:  AVX2 AVX512F AVX512_VNNI FMA\n",
      "To enable them in other operations, rebuild TensorFlow with the appropriate compiler flags.\n",
      "2022-12-02 11:06:05.020257: I tensorflow/core/util/port.cc:104] oneDNN custom operations are on. You may see slightly different numerical results due to floating-point round-off errors from different computation orders. To turn them off, set the environment variable `TF_ENABLE_ONEDNN_OPTS=0`.\n",
      "2022-12-02 11:06:05.227657: W tensorflow/compiler/xla/stream_executor/platform/default/dso_loader.cc:64] Could not load dynamic library 'libcudart.so.11.0'; dlerror: libcudart.so.11.0: cannot open shared object file: No such file or directory\n",
      "2022-12-02 11:06:05.227697: I tensorflow/compiler/xla/stream_executor/cuda/cudart_stub.cc:29] Ignore above cudart dlerror if you do not have a GPU set up on your machine.\n",
      "2022-12-02 11:06:09.368592: W tensorflow/compiler/xla/stream_executor/platform/default/dso_loader.cc:64] Could not load dynamic library 'libnvinfer.so.7'; dlerror: libnvinfer.so.7: cannot open shared object file: No such file or directory\n",
      "2022-12-02 11:06:09.369591: W tensorflow/compiler/xla/stream_executor/platform/default/dso_loader.cc:64] Could not load dynamic library 'libnvinfer_plugin.so.7'; dlerror: libnvinfer_plugin.so.7: cannot open shared object file: No such file or directory\n",
      "2022-12-02 11:06:09.369604: W tensorflow/compiler/tf2tensorrt/utils/py_utils.cc:38] TF-TRT Warning: Cannot dlopen some TensorRT libraries. If you would like to use Nvidia GPU with TensorRT, please make sure the missing libraries mentioned above are installed properly.\n"
     ]
    }
   ],
   "source": [
    "import tensorflow as tf\n",
    "from tensorflow import keras\n",
    "from tensorflow.keras import layers\n",
    "import numpy as np\n",
    "from tensorflow.keras.preprocessing.sequence import pad_sequences\n",
    "from tensorflow.keras.preprocessing.text import Tokenizer\n",
    "import pandas as pd "
   ]
  },
  {
   "cell_type": "markdown",
   "id": "2bfdb67d",
   "metadata": {},
   "source": [
    "# FIX PATHS!"
   ]
  },
  {
   "cell_type": "code",
   "execution_count": 2,
   "id": "128fea1a-e52d-4385-afa2-9c0fb161d9a4",
   "metadata": {},
   "outputs": [],
   "source": [
    "##FIX PATHS TO LOAD CSVs\n",
    "legit = pd.read_csv(\"legit_text.csv\")"
   ]
  },
  {
   "cell_type": "code",
   "execution_count": 3,
   "id": "3889e899-4d51-4ab9-b24c-90c16c01c6f2",
   "metadata": {},
   "outputs": [],
   "source": [
    "scam = pd.read_csv(\"scam_text.csv\")"
   ]
  },
  {
   "cell_type": "code",
   "execution_count": 4,
   "id": "a9e04280-335c-4dbc-9a26-b3b63c2083e6",
   "metadata": {},
   "outputs": [],
   "source": [
    "legit.drop(columns='Unnamed: 0', inplace=True)"
   ]
  },
  {
   "cell_type": "code",
   "execution_count": 5,
   "id": "8a4dd11e-4305-455c-8765-b7cffe671421",
   "metadata": {},
   "outputs": [
    {
     "data": {
      "text/html": [
       "<div>\n",
       "<style scoped>\n",
       "    .dataframe tbody tr th:only-of-type {\n",
       "        vertical-align: middle;\n",
       "    }\n",
       "\n",
       "    .dataframe tbody tr th {\n",
       "        vertical-align: top;\n",
       "    }\n",
       "\n",
       "    .dataframe thead th {\n",
       "        text-align: right;\n",
       "    }\n",
       "</style>\n",
       "<table border=\"1\" class=\"dataframe\">\n",
       "  <thead>\n",
       "    <tr style=\"text-align: right;\">\n",
       "      <th></th>\n",
       "      <th>url</th>\n",
       "      <th>text</th>\n",
       "    </tr>\n",
       "  </thead>\n",
       "  <tbody>\n",
       "    <tr>\n",
       "      <th>0</th>\n",
       "      <td>http://www.theaccessbankukltd.co.uk</td>\n",
       "      <td>menuaboutpersonalbusinessprivatedubainewsconta...</td>\n",
       "    </tr>\n",
       "    <tr>\n",
       "      <th>1</th>\n",
       "      <td>http://www.adambank.com</td>\n",
       "      <td>transfer contact usloginon 3 september 2022 we...</td>\n",
       "    </tr>\n",
       "    <tr>\n",
       "      <th>2</th>\n",
       "      <td>http://www.adib.co.uk</td>\n",
       "      <td>sign in​homeabout adibour brandmission   objec...</td>\n",
       "    </tr>\n",
       "    <tr>\n",
       "      <th>3</th>\n",
       "      <td>http://www.aldermore.co.uk</td>\n",
       "      <td>log inpersonalbusinessintermediariesabout usco...</td>\n",
       "    </tr>\n",
       "    <tr>\n",
       "      <th>4</th>\n",
       "      <td>http://www.allfunds.com/en</td>\n",
       "      <td>cookie configurationallfunds bank s a u   allf...</td>\n",
       "    </tr>\n",
       "  </tbody>\n",
       "</table>\n",
       "</div>"
      ],
      "text/plain": [
       "                                   url  \\\n",
       "0  http://www.theaccessbankukltd.co.uk   \n",
       "1              http://www.adambank.com   \n",
       "2                http://www.adib.co.uk   \n",
       "3           http://www.aldermore.co.uk   \n",
       "4           http://www.allfunds.com/en   \n",
       "\n",
       "                                                text  \n",
       "0  menuaboutpersonalbusinessprivatedubainewsconta...  \n",
       "1  transfer contact usloginon 3 september 2022 we...  \n",
       "2  sign in​homeabout adibour brandmission   objec...  \n",
       "3  log inpersonalbusinessintermediariesabout usco...  \n",
       "4  cookie configurationallfunds bank s a u   allf...  "
      ]
     },
     "execution_count": 5,
     "metadata": {},
     "output_type": "execute_result"
    }
   ],
   "source": [
    "legit.head()"
   ]
  },
  {
   "cell_type": "code",
   "execution_count": 6,
   "id": "5e470a96-f527-42b3-aada-88d942ea3719",
   "metadata": {},
   "outputs": [],
   "source": [
    "scam.drop(columns='Unnamed: 0', inplace=True)"
   ]
  },
  {
   "cell_type": "code",
   "execution_count": 7,
   "id": "361d3651-42dd-4d1a-9791-c17dad171ca6",
   "metadata": {},
   "outputs": [
    {
     "data": {
      "text/html": [
       "<div>\n",
       "<style scoped>\n",
       "    .dataframe tbody tr th:only-of-type {\n",
       "        vertical-align: middle;\n",
       "    }\n",
       "\n",
       "    .dataframe tbody tr th {\n",
       "        vertical-align: top;\n",
       "    }\n",
       "\n",
       "    .dataframe thead th {\n",
       "        text-align: right;\n",
       "    }\n",
       "</style>\n",
       "<table border=\"1\" class=\"dataframe\">\n",
       "  <thead>\n",
       "    <tr style=\"text-align: right;\">\n",
       "      <th></th>\n",
       "      <th>url</th>\n",
       "      <th>text</th>\n",
       "    </tr>\n",
       "  </thead>\n",
       "  <tbody>\n",
       "    <tr>\n",
       "      <th>0</th>\n",
       "      <td>https://www.awesomeaussieshepherd.com</td>\n",
       "      <td>australian shepherd  homeabout usavailable pup...</td>\n",
       "    </tr>\n",
       "    <tr>\n",
       "      <th>1</th>\n",
       "      <td>http://www.gclservice.co.za</td>\n",
       "      <td>index of   \\tname\\tlast modified\\tsize\\tdescri...</td>\n",
       "    </tr>\n",
       "    <tr>\n",
       "      <th>2</th>\n",
       "      <td>https://www.gcloanservice.com</td>\n",
       "      <td>menuhomeloan applicationcontact usfaqsterms of...</td>\n",
       "    </tr>\n",
       "    <tr>\n",
       "      <th>3</th>\n",
       "      <td>http://www.authenicbiodocs.com</td>\n",
       "      <td>skip to contentpay with bitcoin25  discount fo...</td>\n",
       "    </tr>\n",
       "    <tr>\n",
       "      <th>4</th>\n",
       "      <td>https://www.thaiproductsllc.com</td>\n",
       "      <td>skip to content 61 3 9028 2716world wide shipp...</td>\n",
       "    </tr>\n",
       "  </tbody>\n",
       "</table>\n",
       "</div>"
      ],
      "text/plain": [
       "                                     url  \\\n",
       "0  https://www.awesomeaussieshepherd.com   \n",
       "1            http://www.gclservice.co.za   \n",
       "2          https://www.gcloanservice.com   \n",
       "3         http://www.authenicbiodocs.com   \n",
       "4        https://www.thaiproductsllc.com   \n",
       "\n",
       "                                                text  \n",
       "0  australian shepherd  homeabout usavailable pup...  \n",
       "1  index of   \\tname\\tlast modified\\tsize\\tdescri...  \n",
       "2  menuhomeloan applicationcontact usfaqsterms of...  \n",
       "3  skip to contentpay with bitcoin25  discount fo...  \n",
       "4  skip to content 61 3 9028 2716world wide shipp...  "
      ]
     },
     "execution_count": 7,
     "metadata": {},
     "output_type": "execute_result"
    }
   ],
   "source": [
    "scam.head()"
   ]
  },
  {
   "cell_type": "code",
   "execution_count": 8,
   "id": "94ab50fd-c251-47d1-906d-f3b76360678d",
   "metadata": {},
   "outputs": [],
   "source": [
    "scam['Target'] = 1\n",
    "legit['Target'] = 0"
   ]
  },
  {
   "cell_type": "code",
   "execution_count": 9,
   "id": "5dad1d9b-2734-4817-a5f7-195bd9c820ed",
   "metadata": {},
   "outputs": [],
   "source": [
    "df = pd.concat([scam, legit])"
   ]
  },
  {
   "cell_type": "code",
   "execution_count": 10,
   "id": "7f95d5d7-6077-48b2-9d39-4bf08a84bc91",
   "metadata": {},
   "outputs": [
    {
     "data": {
      "text/html": [
       "<div>\n",
       "<style scoped>\n",
       "    .dataframe tbody tr th:only-of-type {\n",
       "        vertical-align: middle;\n",
       "    }\n",
       "\n",
       "    .dataframe tbody tr th {\n",
       "        vertical-align: top;\n",
       "    }\n",
       "\n",
       "    .dataframe thead th {\n",
       "        text-align: right;\n",
       "    }\n",
       "</style>\n",
       "<table border=\"1\" class=\"dataframe\">\n",
       "  <thead>\n",
       "    <tr style=\"text-align: right;\">\n",
       "      <th></th>\n",
       "      <th>url</th>\n",
       "      <th>text</th>\n",
       "      <th>Target</th>\n",
       "    </tr>\n",
       "  </thead>\n",
       "  <tbody>\n",
       "    <tr>\n",
       "      <th>2107</th>\n",
       "      <td>http://shop.hasbro.com/</td>\n",
       "      <td>skip to main contentnl   nederlandsontdek spee...</td>\n",
       "      <td>0</td>\n",
       "    </tr>\n",
       "    <tr>\n",
       "      <th>2108</th>\n",
       "      <td>http://www.ropertech.com/</td>\n",
       "      <td>skip to content↵enterskip to contentsimple ide...</td>\n",
       "      <td>0</td>\n",
       "    </tr>\n",
       "    <tr>\n",
       "      <th>2109</th>\n",
       "      <td>http://www.arkocorp.com/</td>\n",
       "      <td>investorsoverviewnews   eventsoverviewpress re...</td>\n",
       "      <td>0</td>\n",
       "    </tr>\n",
       "    <tr>\n",
       "      <th>2110</th>\n",
       "      <td>http://frontier.com/</td>\n",
       "      <td>skip to contentopen menufrontier communication...</td>\n",
       "      <td>0</td>\n",
       "    </tr>\n",
       "    <tr>\n",
       "      <th>2111</th>\n",
       "      <td>http://www.ameren.com/</td>\n",
       "      <td>skip to main contenttoggle navigationtoggle ac...</td>\n",
       "      <td>0</td>\n",
       "    </tr>\n",
       "  </tbody>\n",
       "</table>\n",
       "</div>"
      ],
      "text/plain": [
       "                            url  \\\n",
       "2107    http://shop.hasbro.com/   \n",
       "2108  http://www.ropertech.com/   \n",
       "2109   http://www.arkocorp.com/   \n",
       "2110       http://frontier.com/   \n",
       "2111     http://www.ameren.com/   \n",
       "\n",
       "                                                   text  Target  \n",
       "2107  skip to main contentnl   nederlandsontdek spee...       0  \n",
       "2108  skip to content↵enterskip to contentsimple ide...       0  \n",
       "2109  investorsoverviewnews   eventsoverviewpress re...       0  \n",
       "2110  skip to contentopen menufrontier communication...       0  \n",
       "2111  skip to main contenttoggle navigationtoggle ac...       0  "
      ]
     },
     "execution_count": 10,
     "metadata": {},
     "output_type": "execute_result"
    }
   ],
   "source": [
    "df.tail()"
   ]
  },
  {
   "cell_type": "code",
   "execution_count": 11,
   "id": "76eb5685-5beb-476a-bf6d-4aa6019f2dc9",
   "metadata": {},
   "outputs": [],
   "source": [
    "df.to_csv('full_text')"
   ]
  },
  {
   "cell_type": "code",
   "execution_count": 12,
   "id": "2efb0dbf-108b-4715-aafe-4743b8a6225d",
   "metadata": {},
   "outputs": [
    {
     "name": "stderr",
     "output_type": "stream",
     "text": [
      "[nltk_data] Downloading package stopwords to\n",
      "[nltk_data]     /home/dimitris/nltk_data...\n",
      "[nltk_data]   Package stopwords is already up-to-date!\n"
     ]
    },
    {
     "data": {
      "text/plain": [
       "True"
      ]
     },
     "execution_count": 12,
     "metadata": {},
     "output_type": "execute_result"
    }
   ],
   "source": [
    "#Clean all text data \n",
    "from nltk.corpus import stopwords \n",
    "import string\n",
    "from nltk import word_tokenize \n",
    "import nltk\n",
    "nltk.download('stopwords')"
   ]
  },
  {
   "cell_type": "code",
   "execution_count": 13,
   "id": "a77cdb45-874f-4671-a399-e1ad6d38202c",
   "metadata": {},
   "outputs": [],
   "source": [
    "def clean(text):\n",
    "    text = text.split()\n",
    "    words_only = [word for word in text if word.isalpha()]\n",
    "    for punctuation in string.punctuation:\n",
    "        words_only = [word.replace(punctuation, ' ').lower() for word in words_only] # Remove Punctuation\n",
    "    # lowercased = text.lower() # Lower Case\n",
    "    #tokenized = word_tokenize(lowercased) # Tokenize\n",
    "    # words_only = [word for word in tokenized if word.isalpha()] # Remove numbers\n",
    "    stop_words = set(stopwords.words('english')) # Make stopword list\n",
    "    without_stopwords = [word for word in words_only if not word in stop_words] # Remove Stop Words\n",
    "    # lemma=WordNetLemmatizer() # Initiate Lemmatizer\n",
    "    # lemmatized = [lemma.lemmatize(word) for word in without_stopwords] # Lemmatize\n",
    "    return without_stopwords"
   ]
  },
  {
   "cell_type": "code",
   "execution_count": 14,
   "id": "bcc4b6ab-2795-43cf-b63d-0304b80de641",
   "metadata": {
    "tags": []
   },
   "outputs": [],
   "source": [
    "df['str_text'] = df['text'].astype('str')\n",
    "df['clean_text'] = df['str_text'].apply(clean)\n",
    "#df['clean_text'] = df['clean_text'].astype('str')"
   ]
  },
  {
   "cell_type": "code",
   "execution_count": 15,
   "id": "6ce6a43e-0a07-4ec6-aae3-d917391c526c",
   "metadata": {},
   "outputs": [],
   "source": [
    "df_clean = df[['Target','clean_text']]"
   ]
  },
  {
   "cell_type": "code",
   "execution_count": 16,
   "id": "f8be75b9-1d36-4d6a-9c37-59030bc2e9e0",
   "metadata": {},
   "outputs": [],
   "source": [
    "df_clean.reset_index(drop = True, inplace=True)"
   ]
  },
  {
   "cell_type": "code",
   "execution_count": 17,
   "id": "8ccd96ee-a86c-4510-bbab-e78bcc6daf49",
   "metadata": {},
   "outputs": [],
   "source": [
    "from gensim.models import Word2Vec"
   ]
  },
  {
   "cell_type": "code",
   "execution_count": 18,
   "id": "ba63b392-9d2d-42b4-8b0d-8e5016372556",
   "metadata": {},
   "outputs": [],
   "source": [
    "from sklearn.model_selection import train_test_split"
   ]
  },
  {
   "cell_type": "code",
   "execution_count": 19,
   "id": "a4db808f-7b8f-4d28-ba6b-927155d96252",
   "metadata": {},
   "outputs": [],
   "source": [
    "X_train, X_test, y_train, y_test = train_test_split(df_clean['clean_text'], df_clean['Target'], shuffle = True, test_size = 0.2)"
   ]
  },
  {
   "cell_type": "code",
   "execution_count": 20,
   "id": "ae49a3fb-88d1-44d0-bddc-874e844f7b2d",
   "metadata": {},
   "outputs": [],
   "source": [
    "import gensim.downloader as api"
   ]
  },
  {
   "cell_type": "code",
   "execution_count": 21,
   "id": "82c1e5ee-cd93-478c-949f-4e1423875fd1",
   "metadata": {},
   "outputs": [
    {
     "name": "stdout",
     "output_type": "stream",
     "text": [
      "[=================================-----------------] 67.6% 86.5/128.1MB downloaded"
     ]
    },
    {
     "name": "stderr",
     "output_type": "stream",
     "text": [
      "IOPub message rate exceeded.\n",
      "The notebook server will temporarily stop sending output\n",
      "to the client in order to avoid crashing it.\n",
      "To change this limit, set the config variable\n",
      "`--NotebookApp.iopub_msg_rate_limit`.\n",
      "\n",
      "Current values:\n",
      "NotebookApp.iopub_msg_rate_limit=1000.0 (msgs/sec)\n",
      "NotebookApp.rate_limit_window=3.0 (secs)\n",
      "\n"
     ]
    },
    {
     "name": "stdout",
     "output_type": "stream",
     "text": [
      "[==================================================] 100.0% 128.1/128.1MB downloaded\n"
     ]
    }
   ],
   "source": [
    "word2vec_transfer = api.load('glove-wiki-gigaword-100')"
   ]
  },
  {
   "cell_type": "code",
   "execution_count": 22,
   "id": "6017c4e7-7fd2-420a-8ad8-e07f4284e78d",
   "metadata": {
    "collapsed": true,
    "jupyter": {
     "outputs_hidden": true
    },
    "tags": []
   },
   "outputs": [
    {
     "data": {
      "text/plain": [
       "array([ 0.30817  ,  0.30938  ,  0.52803  , -0.92543  , -0.73671  ,\n",
       "        0.63475  ,  0.44197  ,  0.10262  , -0.09142  , -0.56607  ,\n",
       "       -0.5327   ,  0.2013   ,  0.7704   , -0.13983  ,  0.13727  ,\n",
       "        1.1128   ,  0.89301  , -0.17869  , -0.0019722,  0.57289  ,\n",
       "        0.59479  ,  0.50428  , -0.28991  , -1.3491   ,  0.42756  ,\n",
       "        1.2748   , -1.1613   , -0.41084  ,  0.042804 ,  0.54866  ,\n",
       "        0.18897  ,  0.3759   ,  0.58035  ,  0.66975  ,  0.81156  ,\n",
       "        0.93864  , -0.51005  , -0.070079 ,  0.82819  , -0.35346  ,\n",
       "        0.21086  , -0.24412  , -0.16554  , -0.78358  , -0.48482  ,\n",
       "        0.38968  , -0.86356  , -0.016391 ,  0.31984  , -0.49246  ,\n",
       "       -0.069363 ,  0.018869 , -0.098286 ,  1.3126   , -0.12116  ,\n",
       "       -1.2399   , -0.091429 ,  0.35294  ,  0.64645  ,  0.089642 ,\n",
       "        0.70294  ,  1.1244   ,  0.38639  ,  0.52084  ,  0.98787  ,\n",
       "        0.79952  , -0.34625  ,  0.14095  ,  0.80167  ,  0.20987  ,\n",
       "       -0.86007  , -0.15308  ,  0.074523 ,  0.40816  ,  0.019208 ,\n",
       "        0.51587  , -0.34428  , -0.24525  , -0.77984  ,  0.27425  ,\n",
       "        0.22418  ,  0.20164  ,  0.017431 , -0.014697 , -1.0235   ,\n",
       "       -0.39695  , -0.0056188,  0.30569  ,  0.31748  ,  0.021404 ,\n",
       "        0.11837  , -0.11319  ,  0.42456  ,  0.53405  , -0.16717  ,\n",
       "       -0.27185  , -0.6255   ,  0.12883  ,  0.62529  , -0.52086  ],\n",
       "      dtype=float32)"
      ]
     },
     "execution_count": 22,
     "metadata": {},
     "output_type": "execute_result"
    }
   ],
   "source": [
    "word2vec_transfer['dog']"
   ]
  },
  {
   "cell_type": "code",
   "execution_count": 23,
   "id": "7a2df2e1-1360-491f-8748-646a456b0961",
   "metadata": {},
   "outputs": [],
   "source": [
    "# Function to convert a sentence (list of words) into a matrix representing the words in the embedding space\n",
    "def embed_sentence_with_TF(word2vec, sentence):\n",
    "    embedded_sentence = []\n",
    "    for word in sentence:\n",
    "        if word in word2vec:\n",
    "            embedded_sentence.append(word2vec[word])\n",
    "        \n",
    "    return np.array(embedded_sentence)\n",
    "\n",
    "# Function that converts a list of sentences into a list of matrices\n",
    "def embedding(word2vec, sentences):\n",
    "    embed = []\n",
    "    \n",
    "    for sentence in sentences:\n",
    "        embedded_sentence = embed_sentence_with_TF(word2vec, sentence)\n",
    "        embed.append(embedded_sentence)\n",
    "        \n",
    "    return embed\n",
    "\n",
    "# Embed the training and test sentences\n",
    "X_train_embed_2 = embedding(word2vec_transfer, X_train)\n",
    "X_test_embed_2 = embedding(word2vec_transfer, X_test)"
   ]
  },
  {
   "cell_type": "code",
   "execution_count": 24,
   "id": "803fd094-cd6e-4495-953d-0c13101dc8ce",
   "metadata": {},
   "outputs": [],
   "source": [
    "X_train_pad = pad_sequences(X_train_embed_2, dtype='float32', padding='post', maxlen=200)\n",
    "X_test_pad = pad_sequences(X_test_embed_2, dtype='float32', padding='post', maxlen=200)"
   ]
  },
  {
   "cell_type": "code",
   "execution_count": 25,
   "id": "72fd5e95-75f5-4b61-bbb2-800ebb0fcd69",
   "metadata": {},
   "outputs": [],
   "source": [
    "from tensorflow.keras import Sequential\n",
    "from tensorflow.keras import layers"
   ]
  },
  {
   "cell_type": "code",
   "execution_count": 26,
   "id": "d6589c5f-bb77-45a3-a2a2-9fa7bb03474d",
   "metadata": {},
   "outputs": [],
   "source": [
    "def init_model():\n",
    "    model = Sequential()\n",
    "    model.add(layers.Masking())\n",
    "    model.add(layers.LSTM(30, activation='tanh', return_sequences=True))\n",
    "    model.add(layers.LSTM(20, activation='tanh', return_sequences=True))\n",
    "    model.add(layers.LSTM(10, activation='tanh'))\n",
    "    model.add(layers.Dense(15, activation='relu'))\n",
    "    model.add(layers.Dense(1, activation='sigmoid'))\n",
    "\n",
    "    model.compile(loss='binary_crossentropy',\n",
    "                  optimizer='rmsprop',\n",
    "                  metrics=['accuracy'])\n",
    "    \n",
    "    return model"
   ]
  },
  {
   "cell_type": "code",
   "execution_count": 27,
   "id": "5defe5a7-766f-436f-a5fd-d4725a30a706",
   "metadata": {},
   "outputs": [
    {
     "name": "stderr",
     "output_type": "stream",
     "text": [
      "2022-12-02 11:07:42.864508: W tensorflow/compiler/xla/stream_executor/platform/default/dso_loader.cc:64] Could not load dynamic library 'libcuda.so.1'; dlerror: libcuda.so.1: cannot open shared object file: No such file or directory\n",
      "2022-12-02 11:07:42.868171: W tensorflow/compiler/xla/stream_executor/cuda/cuda_driver.cc:265] failed call to cuInit: UNKNOWN ERROR (303)\n",
      "2022-12-02 11:07:42.868908: I tensorflow/compiler/xla/stream_executor/cuda/cuda_diagnostics.cc:156] kernel driver does not appear to be running on this host (Dimitris_Laptop): /proc/driver/nvidia/version does not exist\n",
      "2022-12-02 11:07:42.890886: I tensorflow/core/platform/cpu_feature_guard.cc:193] This TensorFlow binary is optimized with oneAPI Deep Neural Network Library (oneDNN) to use the following CPU instructions in performance-critical operations:  AVX2 AVX512F AVX512_VNNI FMA\n",
      "To enable them in other operations, rebuild TensorFlow with the appropriate compiler flags.\n"
     ]
    }
   ],
   "source": [
    "model = init_model()"
   ]
  },
  {
   "cell_type": "code",
   "execution_count": 29,
   "id": "770bceaa-bfd6-4b9f-828e-164c73e5bb1b",
   "metadata": {},
   "outputs": [
    {
     "name": "stdout",
     "output_type": "stream",
     "text": [
      "Epoch 1/100\n",
      "74/74 [==============================] - 21s 279ms/step - loss: 0.5305 - accuracy: 0.7486 - val_loss: 0.5580 - val_accuracy: 0.7406\n",
      "Epoch 2/100\n",
      "74/74 [==============================] - 20s 275ms/step - loss: 0.4883 - accuracy: 0.7796 - val_loss: 0.4867 - val_accuracy: 0.7663\n",
      "Epoch 3/100\n",
      "74/74 [==============================] - 22s 292ms/step - loss: 0.4523 - accuracy: 0.8081 - val_loss: 0.4595 - val_accuracy: 0.7980\n",
      "Epoch 4/100\n",
      "74/74 [==============================] - 21s 286ms/step - loss: 0.4134 - accuracy: 0.8229 - val_loss: 0.4278 - val_accuracy: 0.8188\n",
      "Epoch 5/100\n",
      "74/74 [==============================] - 21s 284ms/step - loss: 0.3766 - accuracy: 0.8459 - val_loss: 0.4282 - val_accuracy: 0.8257\n",
      "Epoch 6/100\n",
      "74/74 [==============================] - 21s 278ms/step - loss: 0.3504 - accuracy: 0.8552 - val_loss: 0.4709 - val_accuracy: 0.8000\n",
      "Epoch 7/100\n",
      "74/74 [==============================] - 21s 288ms/step - loss: 0.3295 - accuracy: 0.8730 - val_loss: 0.4376 - val_accuracy: 0.8267\n",
      "Epoch 8/100\n",
      "74/74 [==============================] - 22s 292ms/step - loss: 0.3002 - accuracy: 0.8849 - val_loss: 0.3988 - val_accuracy: 0.8386\n",
      "Epoch 9/100\n",
      "74/74 [==============================] - 20s 274ms/step - loss: 0.2853 - accuracy: 0.8879 - val_loss: 0.3973 - val_accuracy: 0.8366\n",
      "Epoch 10/100\n",
      "74/74 [==============================] - 21s 279ms/step - loss: 0.2599 - accuracy: 0.9045 - val_loss: 0.4528 - val_accuracy: 0.8178\n",
      "Epoch 11/100\n",
      "74/74 [==============================] - 20s 277ms/step - loss: 0.2434 - accuracy: 0.9125 - val_loss: 0.4065 - val_accuracy: 0.8505\n",
      "Epoch 12/100\n",
      "74/74 [==============================] - 27s 360ms/step - loss: 0.2281 - accuracy: 0.9138 - val_loss: 0.4044 - val_accuracy: 0.8505\n",
      "Epoch 13/100\n",
      "74/74 [==============================] - 25s 335ms/step - loss: 0.2132 - accuracy: 0.9265 - val_loss: 0.4248 - val_accuracy: 0.8475\n",
      "Epoch 14/100\n",
      "74/74 [==============================] - 23s 317ms/step - loss: 0.2003 - accuracy: 0.9240 - val_loss: 0.4235 - val_accuracy: 0.8396\n"
     ]
    },
    {
     "data": {
      "text/plain": [
       "<keras.callbacks.History at 0x7f2fae759ae0>"
      ]
     },
     "execution_count": 29,
     "metadata": {},
     "output_type": "execute_result"
    }
   ],
   "source": [
    "from tensorflow.keras.callbacks import EarlyStopping\n",
    "\n",
    "es = EarlyStopping(patience=5, restore_best_weights=True, monitor='val_loss')\n",
    "\n",
    "model.fit(X_train_pad, y_train, \n",
    "          batch_size = 32,\n",
    "          epochs=100,\n",
    "          validation_split=0.3,\n",
    "          callbacks=[es]\n",
    "         )"
   ]
  },
  {
   "cell_type": "code",
   "execution_count": 30,
   "id": "c56c5c7b-e93b-4458-894b-0bce26a8c30e",
   "metadata": {},
   "outputs": [
    {
     "name": "stdout",
     "output_type": "stream",
     "text": [
      "27/27 [==============================] - 2s 70ms/step - loss: 0.4621 - accuracy: 0.8147\n"
     ]
    },
    {
     "data": {
      "text/plain": [
       "[0.46214932203292847, 0.8147268295288086]"
      ]
     },
     "execution_count": 30,
     "metadata": {},
     "output_type": "execute_result"
    }
   ],
   "source": [
    "model.evaluate(X_test_pad, y_test)"
   ]
  },
  {
   "cell_type": "code",
   "execution_count": null,
   "id": "11797ccd-7f83-43f9-a7de-b589d6001227",
   "metadata": {},
   "outputs": [],
   "source": []
  },
  {
   "cell_type": "code",
   "execution_count": null,
   "id": "dd81453a-0b68-44f6-a019-2d2ad24cfa79",
   "metadata": {},
   "outputs": [],
   "source": []
  },
  {
   "cell_type": "code",
   "execution_count": null,
   "id": "afa1f17b-1b12-458e-b2d8-d176b4b0689d",
   "metadata": {},
   "outputs": [],
   "source": []
  },
  {
   "cell_type": "code",
   "execution_count": null,
   "id": "a29ec2d1-0243-40cf-92e4-7e1ab48f18ea",
   "metadata": {},
   "outputs": [],
   "source": []
  }
 ],
 "metadata": {
  "environment": {
   "kernel": "python3",
   "name": "tf2-gpu.2-8.m100",
   "type": "gcloud",
   "uri": "gcr.io/deeplearning-platform-release/tf2-gpu.2-8:m100"
  },
  "kernelspec": {
   "display_name": "Python 3 (ipykernel)",
   "language": "python",
   "name": "python3"
  },
  "language_info": {
   "codemirror_mode": {
    "name": "ipython",
    "version": 3
   },
   "file_extension": ".py",
   "mimetype": "text/x-python",
   "name": "python",
   "nbconvert_exporter": "python",
   "pygments_lexer": "ipython3",
   "version": "3.8.12"
  },
  "toc": {
   "base_numbering": 1,
   "nav_menu": {},
   "number_sections": true,
   "sideBar": true,
   "skip_h1_title": false,
   "title_cell": "Table of Contents",
   "title_sidebar": "Contents",
   "toc_cell": false,
   "toc_position": {},
   "toc_section_display": true,
   "toc_window_display": false
  },
  "vscode": {
   "interpreter": {
    "hash": "92bbd1214a7d39a6e5f2153b1898c10d7e7bba9203efa606f046a9e5e7a50511"
   }
  }
 },
 "nbformat": 4,
 "nbformat_minor": 5
}
