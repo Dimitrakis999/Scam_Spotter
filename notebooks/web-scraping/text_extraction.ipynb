{
 "cells": [
  {
   "cell_type": "code",
   "execution_count": 16,
   "id": "b38dc51f-bab3-46d1-bd99-0d143d081bf2",
   "metadata": {},
   "outputs": [],
   "source": [
    "import selenium\n",
    "from PIL import Image\n",
    "import pandas as pd\n",
    "import numpy as np\n",
    "from selenium import webdriver\n",
    "import time\n",
    "#from nltk.corpus import stopwords\n",
    "import string\n",
    "#from nltk.stem.wordnet import WordNetLemmatizer\n",
    "#from nltk import word_tokenize"
   ]
  },
  {
   "cell_type": "code",
   "execution_count": 4,
   "id": "48c54d20-0ef5-43bb-b864-03281f11b902",
   "metadata": {},
   "outputs": [
    {
     "name": "stderr",
     "output_type": "stream",
     "text": [
      "/opt/conda/lib/python3.7/site-packages/ipykernel_launcher.py:7: DeprecationWarning: executable_path has been deprecated, please pass in a Service object\n",
      "  import sys\n"
     ]
    }
   ],
   "source": [
    "\n",
    "from webdriver_manager.chrome import ChromeDriverManager\n",
    "from selenium.webdriver.chrome.options import Options\n",
    "\n",
    "options = Options()\n",
    "options.headless = True\n",
    "options.add_argument(\"--start-maximized\")\n",
    "driver = webdriver.Chrome(ChromeDriverManager().install(), options=options)"
   ]
  },
  {
   "cell_type": "code",
   "execution_count": 55,
   "id": "0e2edf2c-d828-4063-ba44-39ce428e1300",
   "metadata": {},
   "outputs": [],
   "source": [
    "driver.headless=True"
   ]
  },
  {
   "cell_type": "code",
   "execution_count": 67,
   "id": "d2b28327-e720-4f5e-9c71-3cee8f092251",
   "metadata": {},
   "outputs": [],
   "source": [
    "def clean (text):\n",
    "    for punctuation in string.punctuation:\n",
    "        text = text.replace(punctuation, ' ') # Remove Punctuation\n",
    "    lowercased = text.lower() # Lower Case\n",
    "    lowercased=lowercased.replace('\\n','')\n",
    "    return lowercased"
   ]
  },
  {
   "cell_type": "code",
   "execution_count": 68,
   "id": "383a8940-a4e5-407f-a323-c9f94f8bb5a3",
   "metadata": {},
   "outputs": [],
   "source": [
    "def text_scrap(dataframe):\n",
    "    list1=[]\n",
    "    list_url=[]\n",
    "    for i in range(len(dataframe['0'])):\n",
    "        try:\n",
    "            url=dataframe['0'][i]\n",
    "            driver.get(url)\n",
    "            text = driver.find_elements( by = \"tag name\", value = \"body\")\n",
    "            time.sleep(2)\n",
    "            final1 = text[0].get_attribute(\"innerText\")\n",
    "            list1.append(clean(final1))\n",
    "            list_url.append(url)\n",
    "            if i%100 ==0:\n",
    "                print(i)\n",
    "            #print(type(final1))\n",
    "        except:\n",
    "            print(f'error {i}')\n",
    "    \n",
    "    data=pd.DataFrame()\n",
    "    data['url']=np.array(list_url)\n",
    "    data['text']=np.array(list1)\n",
    "    #data['name_website']=np.array(list_name)\n",
    "    #data.to_csv()\n",
    "    return data"
   ]
  },
  {
   "cell_type": "code",
   "execution_count": 69,
   "id": "01b5cc11-5ac5-43b2-a47e-375d3c42421e",
   "metadata": {},
   "outputs": [],
   "source": [
    "test_df=pd.read_csv('../data/final_scam_df.csv')\n",
    "test_df=test_df[['0']]\n"
   ]
  },
  {
   "cell_type": "code",
   "execution_count": null,
   "id": "7fc29314-c08b-4bb1-9f08-e900360c207d",
   "metadata": {
    "tags": []
   },
   "outputs": [
    {
     "name": "stdout",
     "output_type": "stream",
     "text": [
      "0\n",
      "error 29\n",
      "error 31\n",
      "error 35\n",
      "error 36\n",
      "error 37\n",
      "error 38\n",
      "error 39\n",
      "error 40\n",
      "error 41\n",
      "error 64\n",
      "error 65\n",
      "error 66\n",
      "error 67\n",
      "error 68\n",
      "error 71\n",
      "error 74\n",
      "error 75\n",
      "error 76\n",
      "error 77\n",
      "error 78\n",
      "error 82\n",
      "100\n",
      "200\n",
      "error 243\n",
      "error 247\n",
      "error 252\n",
      "error 273\n",
      "error 280\n",
      "error 281\n",
      "300\n",
      "error 321\n",
      "error 330\n",
      "error 335\n",
      "error 336\n",
      "error 337\n",
      "error 392\n",
      "400\n",
      "error 408\n",
      "error 478\n",
      "500\n",
      "error 571\n",
      "600\n",
      "error 657\n",
      "error 658\n",
      "error 659\n",
      "error 660\n",
      "700\n",
      "error 757\n",
      "error 771\n",
      "error 798\n",
      "800\n",
      "error 813\n",
      "900\n",
      "error 940\n",
      "error 977\n",
      "error 978\n",
      "error 986\n",
      "1000\n",
      "1100\n",
      "1200\n",
      "error 1232\n",
      "error 1269\n",
      "1300\n",
      "error 1330\n",
      "error 1343\n",
      "error 1350\n",
      "error 1357\n",
      "error 1364\n",
      "error 1369\n",
      "1400\n",
      "error 1438\n",
      "error 1451\n",
      "1500\n",
      "error 1543\n",
      "1600\n",
      "error 1625\n",
      "error 1632\n",
      "error 1668\n"
     ]
    }
   ],
   "source": [
    "sample= text_scrap(test_df)"
   ]
  },
  {
   "cell_type": "code",
   "execution_count": 64,
   "id": "962cb502-09ae-4935-af16-31a6c90c6977",
   "metadata": {},
   "outputs": [
    {
     "data": {
      "text/html": [
       "<div>\n",
       "<style scoped>\n",
       "    .dataframe tbody tr th:only-of-type {\n",
       "        vertical-align: middle;\n",
       "    }\n",
       "\n",
       "    .dataframe tbody tr th {\n",
       "        vertical-align: top;\n",
       "    }\n",
       "\n",
       "    .dataframe thead th {\n",
       "        text-align: right;\n",
       "    }\n",
       "</style>\n",
       "<table border=\"1\" class=\"dataframe\">\n",
       "  <thead>\n",
       "    <tr style=\"text-align: right;\">\n",
       "      <th></th>\n",
       "      <th>url</th>\n",
       "      <th>text</th>\n",
       "    </tr>\n",
       "  </thead>\n",
       "  <tbody>\n",
       "    <tr>\n",
       "      <th>0</th>\n",
       "      <td>https://www.awesomeaussieshepherd.com</td>\n",
       "      <td>australian shepherd  homeabout usavailable pup...</td>\n",
       "    </tr>\n",
       "    <tr>\n",
       "      <th>1</th>\n",
       "      <td>http://www.gclservice.co.za</td>\n",
       "      <td>index of   \\tname\\tlast modified\\tsize\\tdescri...</td>\n",
       "    </tr>\n",
       "  </tbody>\n",
       "</table>\n",
       "</div>"
      ],
      "text/plain": [
       "                                     url  \\\n",
       "0  https://www.awesomeaussieshepherd.com   \n",
       "1            http://www.gclservice.co.za   \n",
       "\n",
       "                                                text  \n",
       "0  australian shepherd  homeabout usavailable pup...  \n",
       "1  index of   \\tname\\tlast modified\\tsize\\tdescri...  "
      ]
     },
     "execution_count": 64,
     "metadata": {},
     "output_type": "execute_result"
    }
   ],
   "source": []
  },
  {
   "cell_type": "code",
   "execution_count": null,
   "id": "87f01904-2fd6-4edf-8a20-98fd4c6e7987",
   "metadata": {},
   "outputs": [],
   "source": [
    "sample.to_csv('../data/scam_text.csv')"
   ]
  },
  {
   "cell_type": "code",
   "execution_count": null,
   "id": "d743d251-8054-40da-8c99-25f7a8c910ae",
   "metadata": {},
   "outputs": [],
   "source": []
  }
 ],
 "metadata": {
  "environment": {
   "kernel": "python3",
   "name": "tf2-gpu.2-8.m100",
   "type": "gcloud",
   "uri": "gcr.io/deeplearning-platform-release/tf2-gpu.2-8:m100"
  },
  "kernelspec": {
   "display_name": "Python 3",
   "language": "python",
   "name": "python3"
  },
  "language_info": {
   "codemirror_mode": {
    "name": "ipython",
    "version": 3
   },
   "file_extension": ".py",
   "mimetype": "text/x-python",
   "name": "python",
   "nbconvert_exporter": "python",
   "pygments_lexer": "ipython3",
   "version": "3.7.12"
  }
 },
 "nbformat": 4,
 "nbformat_minor": 5
}
