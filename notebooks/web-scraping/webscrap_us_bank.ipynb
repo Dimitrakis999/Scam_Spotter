{
 "cells": [
  {
   "cell_type": "code",
   "execution_count": 1,
   "id": "6d36a9a9",
   "metadata": {},
   "outputs": [],
   "source": [
    "from selenium import webdriver\n",
    "from selenium.webdriver.common.keys import Keys\n",
    "from selenium.webdriver.common.by import By\n",
    "from selenium.webdriver.support.ui import WebDriverWait\n",
    "from selenium.webdriver.support import expected_conditions\n",
    "from selenium.webdriver.support import expected_conditions as EC\n",
    "\n",
    "import time\n",
    "import numpy as np \n",
    "import pandas as pd"
   ]
  },
  {
   "cell_type": "code",
   "execution_count": 2,
   "id": "3a303ed3",
   "metadata": {},
   "outputs": [
    {
     "name": "stderr",
     "output_type": "stream",
     "text": [
      "/var/folders/lg/89sfsg8910b01r82ql_drktw0000gn/T/ipykernel_27797/793281541.py:3: DeprecationWarning: executable_path has been deprecated, please pass in a Service object\n",
      "  driver=webdriver.Chrome(PATH)\n"
     ]
    }
   ],
   "source": [
    "PATH='/Users/noemiefabry/code/alfab98/selenium-test/chromedriver.exe'\n",
    "\n",
    "driver=webdriver.Chrome(PATH)\n",
    "\n",
    "driver.get('http://www.thecommunitybanker.com/bank_links/')"
   ]
  },
  {
   "cell_type": "code",
   "execution_count": 9,
   "id": "faab1cad",
   "metadata": {},
   "outputs": [],
   "source": [
    "p_tag=driver.find_elements(By.TAG_NAME,'p')"
   ]
  },
  {
   "cell_type": "code",
   "execution_count": 10,
   "id": "43acfb50",
   "metadata": {},
   "outputs": [],
   "source": [
    "l=[]\n",
    "for i in p_tag :\n",
    "    try :\n",
    "        a_tag=i.find_elements(By.TAG_NAME,'a')\n",
    "        #print('yeh')\n",
    "        try:\n",
    "            \n",
    "            for j in a_tag:\n",
    "                l.append(j.get_attribute('href'))\n",
    "        except:\n",
    "            print('ni')\n",
    "    except:\n",
    "        print('nope')"
   ]
  },
  {
   "cell_type": "code",
   "execution_count": 25,
   "id": "c5c0d3e5",
   "metadata": {},
   "outputs": [],
   "source": [
    "#l"
   ]
  },
  {
   "cell_type": "code",
   "execution_count": 15,
   "id": "196b90de",
   "metadata": {},
   "outputs": [],
   "source": [
    "new_list=l[1:-14]"
   ]
  },
  {
   "cell_type": "code",
   "execution_count": 40,
   "id": "3db12df6",
   "metadata": {},
   "outputs": [
    {
     "data": {
      "text/plain": [
       "52"
      ]
     },
     "execution_count": 40,
     "metadata": {},
     "output_type": "execute_result"
    }
   ],
   "source": [
    "len(new_list)"
   ]
  },
  {
   "cell_type": "code",
   "execution_count": 45,
   "id": "8d416f3c",
   "metadata": {},
   "outputs": [
    {
     "name": "stderr",
     "output_type": "stream",
     "text": [
      "/var/folders/lg/89sfsg8910b01r82ql_drktw0000gn/T/ipykernel_27797/3208960840.py:4: DeprecationWarning: executable_path has been deprecated, please pass in a Service object\n",
      "  driver2=webdriver.Chrome(PATH)\n"
     ]
    }
   ],
   "source": [
    "list_bank_url=[]\n",
    "\n",
    "for url in range(len(new_list)):\n",
    "    driver2=webdriver.Chrome(PATH)\n",
    "    driver2.get(new_list[url])\n",
    "    ul_tag=driver2.find_elements(By.TAG_NAME,'ul')\n",
    "    a2_tag=ul_tag[0].find_elements(By.TAG_NAME,'a')\n",
    "    for i in a2_tag:\n",
    "        list_bank_url.append(i.get_attribute('href'))"
   ]
  },
  {
   "cell_type": "code",
   "execution_count": 55,
   "id": "1912f4af",
   "metadata": {
    "scrolled": false
   },
   "outputs": [],
   "source": [
    "#list_bank_url"
   ]
  },
  {
   "cell_type": "raw",
   "id": "cd31c144",
   "metadata": {},
   "source": [
    "data=pd.DataFrame(np.array(list_bank_url))"
   ]
  },
  {
   "cell_type": "code",
   "execution_count": 51,
   "id": "ba61755f",
   "metadata": {},
   "outputs": [],
   "source": [
    "data.to_csv('/Users/noemiefabry/Desktop/Alex/raw_urls_american_bank.csv')"
   ]
  },
  {
   "cell_type": "code",
   "execution_count": 52,
   "id": "7b5d8602",
   "metadata": {},
   "outputs": [],
   "source": [
    "import re\n",
    "import requests\n",
    "from bs4 import BeautifulSoup"
   ]
  },
  {
   "cell_type": "code",
   "execution_count": 53,
   "id": "9b32ebcc",
   "metadata": {},
   "outputs": [],
   "source": [
    "def retrieve_urls(lst1):\n",
    "    active_urls = []\n",
    "    inactive_urls=[]\n",
    "    for url in lst1:\n",
    "        try:\n",
    "            response = requests.get(url)\n",
    "            if response.status_code == 200:\n",
    "                active_urls.append(url)\n",
    "        except:\n",
    "            inactive_urls.append(url)\n",
    "    \n",
    "    return active_urls,inactive_urls"
   ]
  },
  {
   "cell_type": "code",
   "execution_count": null,
   "id": "cd74a5c0",
   "metadata": {},
   "outputs": [],
   "source": [
    "active_urls=retrieve_urls(list_bank_url)[0]"
   ]
  },
  {
   "cell_type": "code",
   "execution_count": null,
   "id": "fdd92cc5",
   "metadata": {},
   "outputs": [],
   "source": [
    "active_urls"
   ]
  },
  {
   "cell_type": "code",
   "execution_count": null,
   "id": "31095e2a",
   "metadata": {},
   "outputs": [],
   "source": [
    "print(len(active_urls))"
   ]
  },
  {
   "cell_type": "code",
   "execution_count": null,
   "id": "72bb4dc4",
   "metadata": {},
   "outputs": [],
   "source": []
  }
 ],
 "metadata": {
  "kernelspec": {
   "display_name": "Python 3 (ipykernel)",
   "language": "python",
   "name": "python3"
  },
  "language_info": {
   "codemirror_mode": {
    "name": "ipython",
    "version": 3
   },
   "file_extension": ".py",
   "mimetype": "text/x-python",
   "name": "python",
   "nbconvert_exporter": "python",
   "pygments_lexer": "ipython3",
   "version": "3.10.6"
  },
  "toc": {
   "base_numbering": 1,
   "nav_menu": {},
   "number_sections": true,
   "sideBar": true,
   "skip_h1_title": false,
   "title_cell": "Table of Contents",
   "title_sidebar": "Contents",
   "toc_cell": false,
   "toc_position": {},
   "toc_section_display": true,
   "toc_window_display": false
  }
 },
 "nbformat": 4,
 "nbformat_minor": 5
}
