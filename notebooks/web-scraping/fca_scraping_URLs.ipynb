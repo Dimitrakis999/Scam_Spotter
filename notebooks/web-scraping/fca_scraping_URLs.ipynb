{
  "nbformat": 4,
  "nbformat_minor": 0,
  "metadata": {
    "colab": {
      "provenance": []
    },
    "kernelspec": {
      "name": "python3",
      "display_name": "Python 3"
    },
    "language_info": {
      "name": "python"
    }
  },
  "cells": [
    {
      "cell_type": "code",
      "source": [
        "from google.colab import drive\n",
        "drive.mount('/content/drive')\n",
        "\n"
      ],
      "metadata": {
        "colab": {
          "base_uri": "https://localhost:8080/"
        },
        "id": "GSfODk3dfNVu",
        "outputId": "584256c9-80f5-4d75-e659-953ba3f2ab61"
      },
      "execution_count": null,
      "outputs": [
        {
          "output_type": "stream",
          "name": "stdout",
          "text": [
            "Mounted at /content/drive\n"
          ]
        }
      ]
    },
    {
      "cell_type": "code",
      "execution_count": null,
      "metadata": {
        "id": "sdrXB3x8RRJc"
      },
      "outputs": [],
      "source": [
        "import re\n",
        "import requests\n",
        "from bs4 import BeautifulSoup\n",
        "import pandas as pd\n",
        "import numpy as np"
      ]
    },
    {
      "cell_type": "code",
      "source": [
        "response = requests.get(\"https://www.fca.org.uk/news/search-results?category=warnings&start=1\", headers={\"Accept-Language\":\"en-US\"})\n",
        "soup = BeautifulSoup(response.content, \"html.parser\")"
      ],
      "metadata": {
        "id": "qfxkY6KkRTcu"
      },
      "execution_count": null,
      "outputs": []
    },
    {
      "cell_type": "code",
      "source": [
        "# def company_name(soup):\n",
        "#   companies = []\n",
        "#   # try:\n",
        "#   #   for company in soup.find_all('li', class_='search-item first'):\n",
        "#   #     names = company.find(\"h4\").find(\"a\").string.strip()\n",
        "#   #     companies.append(names)\n",
        "#   # except:\n",
        "#   #   print('top error')\n",
        "#   try:\n",
        "#     for company in soup.find_all(\"li\", class_='search-item'):\n",
        "#       names = company.find(\"h4\").find(\"a\").string.strip()\n",
        "#       companies.append(names)\n",
        "#   except:\n",
        "#     print('body error')\n",
        "  \n",
        "#   # try:\n",
        "#   #   for company in soup.find_all('li', class_='search-item last'):\n",
        "#   #     names = company.find(\"h4\").find(\"a\").string.strip()\n",
        "#   #     companies.append(names)\n",
        "#   # except:\n",
        "#   #   print('last error')\n",
        "  \n",
        "  #return companies "
      ],
      "metadata": {
        "id": "3D-l7pQ1RVxZ"
      },
      "execution_count": null,
      "outputs": []
    },
    {
      "cell_type": "code",
      "source": [
        "import time\n",
        "def get_all_company_names(no_reported_companies):\n",
        "    all_company_names = []\n",
        "    \n",
        "    for i in list(range(1, no_reported_companies, 10)): \n",
        "        print(f'scraping page {i}')\n",
        "        params = {'category': 'warnings',\n",
        "                 'start': i}\n",
        "        url = 'https://www.fca.org.uk/news/search-results'\n",
        "        response = requests.get(url, params=params, headers={\"Accept-Language\":\"en-US\"})\n",
        "        \n",
        "        if response.status_code != 200:\n",
        "            print(f'response error: {response.status_code} on page {i}')\n",
        "            break\n",
        "        \n",
        "        soup = BeautifulSoup(response.content, \"html.parser\")\n",
        "        \n",
        "        try:\n",
        "            for company in soup.find_all('li', class_='search-item'):\n",
        "                names = company.find('h4').find('a').string.strip()\n",
        "                print(names)\n",
        "                all_company_names.append(names)\n",
        "        except:\n",
        "            print(f'error on page {i}')\n",
        "        \n",
        "        # Sleep\n",
        "        time.sleep(3)\n",
        "\n",
        "    return all_company_names"
      ],
      "metadata": {
        "id": "-ODb0WR_5O-h"
      },
      "execution_count": null,
      "outputs": []
    },
    {
      "cell_type": "code",
      "source": [
        "#This is the total number of company names listed on the FCA watch list \n",
        "\n",
        "search_results = int(soup.find('p', class_='search-results__count col-xs-12').find('strong').find_next('strong').find_next('strong').string)\n",
        "\n",
        "search_results"
      ],
      "metadata": {
        "colab": {
          "base_uri": "https://localhost:8080/"
        },
        "id": "yWmqEn0TRXYf",
        "outputId": "87548c53-d2e4-4c2b-d649-1806059401b7"
      },
      "execution_count": null,
      "outputs": [
        {
          "output_type": "execute_result",
          "data": {
            "text/plain": [
              "10315"
            ]
          },
          "metadata": {},
          "execution_count": 18
        }
      ]
    },
    {
      "cell_type": "code",
      "source": [
        "every_company_name = get_all_company_names(search_results)"
      ],
      "metadata": {
        "id": "ZR3NEFvn5Wgx"
      },
      "execution_count": null,
      "outputs": []
    },
    {
      "cell_type": "code",
      "source": [
        "#every_company_name = pd.DataFrame(np.array(all_company_names))\n",
        "every_company_name.drop_duplicates(inplace=True)"
      ],
      "metadata": {
        "id": "BK0IpTgkVduR"
      },
      "execution_count": null,
      "outputs": []
    },
    {
      "cell_type": "code",
      "source": [
        "list(every_company_name[0])"
      ],
      "metadata": {
        "id": "XtJEmoutXPyk"
      },
      "execution_count": null,
      "outputs": []
    },
    {
      "cell_type": "code",
      "source": [
        "every_company_name.to_csv('data.csv')\n",
        "!cp data.csv \"drive/My Drive/\""
      ],
      "metadata": {
        "id": "-umS-zxKfkxu"
      },
      "execution_count": null,
      "outputs": []
    },
    {
      "cell_type": "code",
      "source": [
        "import re\n",
        "clone_pattern = r'[(C|(c]lone\\s|.+?[)]'\n",
        "clones = []\n",
        "for company in list(every_company_name[0]):\n",
        "    if re.match(clone_pattern, company):\n",
        "      fixed = company.split(' (')[0]\n",
        "      clones.append(fixed)"
      ],
      "metadata": {
        "id": "w8G1jqJb-c9E"
      },
      "execution_count": null,
      "outputs": []
    },
    {
      "cell_type": "code",
      "source": [
        "len(clones)"
      ],
      "metadata": {
        "colab": {
          "base_uri": "https://localhost:8080/"
        },
        "id": "xeVBAG9uWx9G",
        "outputId": "e9c8575f-f30c-4e1f-cde9-2699e31aee81"
      },
      "execution_count": null,
      "outputs": [
        {
          "output_type": "execute_result",
          "data": {
            "text/plain": [
              "3134"
            ]
          },
          "metadata": {},
          "execution_count": 61
        }
      ]
    },
    {
      "cell_type": "code",
      "source": [
        "clone_url_options = ['-clone-fca-authorised-firm', '-clone-previously-registered-firm', '-clone-fca-authorised-schedule-5-firm', '-clone-fca-registered-firm', '-clone-appointed-representative', '-fca-exempt-firm', '-registered-psd-agent', '-former-psd-agent', ]\n",
        "clone_final_urls = []\n",
        "\n",
        "def check_options(clone):\n",
        "    new_company = clone.replace(' ', '-').replace('.', '').replace('(', '').replace(')','').replace('://','-').replace('-of','').replace('/', '-').lower()\n",
        "    new_url=f\"https://www.fca.org.uk/news/warnings/{new_company}\"\n",
        "    \n",
        "    for i in clone_url_options:\n",
        "      check_url = new_url + i\n",
        "      print(check_url)\n",
        "      try:\n",
        "        response = requests.get(check_url)\n",
        "        if response.status_code == 200:\n",
        "          clone_final_urls.append(check_url)\n",
        "      except:\n",
        "        continue\n",
        "\n",
        "\n",
        "\n"
      ],
      "metadata": {
        "id": "FMedQzVY5WE6"
      },
      "execution_count": null,
      "outputs": []
    },
    {
      "cell_type": "code",
      "source": [
        "for clone in clones:\n",
        "  check_options(clone)"
      ],
      "metadata": {
        "id": "WgQypoZCBL9i"
      },
      "execution_count": null,
      "outputs": []
    },
    {
      "cell_type": "code",
      "source": [
        "clone_final_urls"
      ],
      "metadata": {
        "colab": {
          "base_uri": "https://localhost:8080/"
        },
        "id": "3dYNgpg_5Vn4",
        "outputId": "aca7643a-3882-4402-9aff-c85e0be67985"
      },
      "execution_count": null,
      "outputs": [
        {
          "output_type": "execute_result",
          "data": {
            "text/plain": [
              "['https://www.fca.org.uk/news/warnings/maryamfx-clone-fca-authorised-firm',\n",
              " 'https://www.fca.org.uk/news/warnings/wwwcryptosaurcouk-clone-previously-registered-firm',\n",
              " 'https://www.fca.org.uk/news/warnings/https-wwwwintonfundmanagementie-clone-fca-authorised-schedule-5-firm']"
            ]
          },
          "metadata": {},
          "execution_count": 48
        }
      ]
    },
    {
      "cell_type": "code",
      "source": [
        "#companies = soup.find('p', class_='search-results__count col-xs-12'  )"
      ],
      "metadata": {
        "id": "_j-6PLvERZXO"
      },
      "execution_count": null,
      "outputs": []
    },
    {
      "cell_type": "code",
      "source": [
        "#RETRIEVING ALL COMPANY NAMES FROM SCAM LIST\n",
        "# def get_all_company_names(start, end):\n",
        "#   all_companies = []\n",
        "#   for i in range(start, end, 10): \n",
        "#     print(f'scraping page {i}')\n",
        "#     response = requests.get(f\"https://www.fca.org.uk/news/search-results?category=warnings&start={i}\", headers={\"Accept-Language\":\"en-US\"})\n",
        "#     soup = BeautifulSoup(response.content, \"html.parser\")\n",
        "#     # print(soup)\n",
        "#     all_companies += company_name(soup)\n",
        "\n",
        "#   return all_companies\n"
      ],
      "metadata": {
        "id": "N3XkBTV1RasB"
      },
      "execution_count": null,
      "outputs": []
    },
    {
      "cell_type": "code",
      "source": [
        "# def list_func(all_comp):\n",
        "#   l=[]\n",
        "#   e = []\n",
        "#   for i, page in enumerate(all_comp):\n",
        "#     if page:\n",
        "#       l += page\n",
        "#     else:\n",
        "#       print(f'page {i} is EMPTY')\n",
        "#       e += page\n",
        "#   return l, e"
      ],
      "metadata": {
        "id": "mzbnNhLbSgiW"
      },
      "execution_count": null,
      "outputs": []
    },
    {
      "cell_type": "code",
      "source": [
        "#list_companies, empty_pages = list_func(all_company_names)"
      ],
      "metadata": {
        "id": "4QYV8yu8STcV"
      },
      "execution_count": null,
      "outputs": []
    },
    {
      "cell_type": "code",
      "source": [
        "#non_clone_company_names = every_company_name - clones"
      ],
      "metadata": {
        "id": "jgMiOJlfZzN9"
      },
      "execution_count": null,
      "outputs": []
    },
    {
      "cell_type": "code",
      "source": [
        "def get_urls(all_company_names):\n",
        "\n",
        "  list_url=[]\n",
        "\n",
        "  for company in all_company_names:\n",
        "\n",
        "    #print(company)\n",
        "    new_company=company.replace(' ', '-').replace('.', '').replace('(', '').replace(')','').replace('://','-').replace('-of','').replace('/', '-').lower()\n",
        "    new_url=f\"https://www.fca.org.uk/news/warnings/{new_company}\"\n",
        "    \n",
        "    list_url.append(new_url)\n",
        "\n",
        "  #pd.DataFrame(np.array(list_url))\n",
        "  return list_url"
      ],
      "metadata": {
        "id": "zTLqISFDS2gP"
      },
      "execution_count": null,
      "outputs": []
    },
    {
      "cell_type": "code",
      "source": [
        "list_companies"
      ],
      "metadata": {
        "id": "0pgd01E_UKtn"
      },
      "execution_count": null,
      "outputs": []
    },
    {
      "cell_type": "code",
      "source": [
        "get_urls(list_companies[0:5])"
      ],
      "metadata": {
        "colab": {
          "base_uri": "https://localhost:8080/"
        },
        "id": "q6ULLP4e3xVI",
        "outputId": "b023ddec-1bd1-4cc8-8a5b-394a317dd616"
      },
      "execution_count": null,
      "outputs": [
        {
          "output_type": "execute_result",
          "data": {
            "text/plain": [
              "['https://www.fca.org.uk/news/warnings/cryptoforextrading50',\n",
              " 'https://www.fca.org.uk/news/warnings/cryptodigital-currency',\n",
              " 'https://www.fca.org.uk/news/warnings/highstarinvestcom',\n",
              " 'https://www.fca.org.uk/news/warnings/crypto-global-trades',\n",
              " 'https://www.fca.org.uk/news/warnings/forex-crypto-payout']"
            ]
          },
          "metadata": {},
          "execution_count": 34
        }
      ]
    },
    {
      "cell_type": "code",
      "source": [
        "some_urls=get_urls(list_companies[0:20])\n",
        "some_urls\n"
      ],
      "metadata": {
        "id": "cWulb8fbS7FV"
      },
      "execution_count": null,
      "outputs": []
    },
    {
      "cell_type": "code",
      "source": [
        "from google.colab import files\n",
        "def scam_url(some_urls, list_companies):\n",
        "  df={}\n",
        "  for i, url in enumerate(some_urls):\n",
        "    print(i+1)\n",
        "    response = BeautifulSoup(requests.get(url).content, \"html.parser\")\n",
        "    for tag in response.find_all('p'):\n",
        "      text = tag.text\n",
        "      website_tag = \"Website: \"\n",
        "      if text.startswith(website_tag):\n",
        "        website = text[len(website_tag):]\n",
        "        if i in df:\n",
        "          df[i]['website'].append(website)\n",
        "        else:\n",
        "          df[i]={'company name': list_companies[i], 'fca website':url, 'website': [website]}\n",
        "        print(website)\n",
        "        output_df = pd.DataFrame.from_dict(df, orient='index')\n",
        "        if (i+1)%5==0:\n",
        "          output_df.to_csv(f'/content/data_{i+1}.csv')\n",
        "          files.download(f'/content/data_{i+1}.csv')\n",
        "  return output_df\n"
      ],
      "metadata": {
        "id": "9igZvRkaTAKb"
      },
      "execution_count": null,
      "outputs": []
    },
    {
      "cell_type": "code",
      "source": [
        "scam_url(some_urls, list_companies)"
      ],
      "metadata": {
        "id": "k6Bizs9x6aiB"
      },
      "execution_count": null,
      "outputs": []
    },
    {
      "cell_type": "code",
      "source": [
        "some_links_0_100 = scam_url(some_urls)\n",
        "\n",
        "some_links_0_100"
      ],
      "metadata": {
        "id": "TCebLISNTRh_"
      },
      "execution_count": null,
      "outputs": []
    },
    {
      "cell_type": "code",
      "source": [
        "for i in some_urls:\n",
        "  response = BeautifulSoup(requests.get(i).content, \"html.parser\")\n",
        "  for tag in response.find_all('p'):\n",
        "    text = tag.text\n",
        "    website_tag = \"Website: \"\n",
        "    if text.startswith(website_tag):\n",
        "      website = text[len(website_tag):]\n",
        "      print(website)\n",
        "\n"
      ],
      "metadata": {
        "id": "KXmJ9781UEU0"
      },
      "execution_count": null,
      "outputs": []
    },
    {
      "cell_type": "code",
      "source": [],
      "metadata": {
        "id": "YbuZ1-5Qh0qc"
      },
      "execution_count": null,
      "outputs": []
    }
  ]
}