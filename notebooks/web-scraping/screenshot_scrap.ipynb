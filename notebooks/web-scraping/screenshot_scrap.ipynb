{
 "cells": [
  {
   "cell_type": "code",
   "execution_count": 2,
   "id": "fee51679-2fa6-45ae-89b5-d61e63e70d4e",
   "metadata": {},
   "outputs": [],
   "source": [
    "import selenium\n",
    "from PIL import Image\n",
    "import pandas as pd\n",
    "import numpy as np\n",
    "from selenium import webdriver\n",
    "import time\n",
    "#from nltk.corpus import stopwords\n",
    "import string"
   ]
  },
  {
   "cell_type": "code",
   "execution_count": 3,
   "id": "f780bbef-3ff0-4cdc-aa21-688fddc4e77b",
   "metadata": {},
   "outputs": [
    {
     "name": "stderr",
     "output_type": "stream",
     "text": [
      "[WDM] - Downloading: 100%|██████████| 6.96M/6.96M [00:00<00:00, 162MB/s]\n",
      "/opt/conda/lib/python3.7/site-packages/ipykernel_launcher.py:7: DeprecationWarning: executable_path has been deprecated, please pass in a Service object\n",
      "  import sys\n"
     ]
    }
   ],
   "source": [
    "from webdriver_manager.chrome import ChromeDriverManager\n",
    "from selenium.webdriver.chrome.options import Options\n",
    "\n",
    "options = Options()\n",
    "options.headless = True\n",
    "options.add_argument(\"--start-maximized\")\n",
    "driver = webdriver.Chrome(ChromeDriverManager().install(), options=options)"
   ]
  },
  {
   "cell_type": "code",
   "execution_count": 4,
   "id": "ffa28823-0e5a-4290-9e61-f45a9f0f8dd2",
   "metadata": {},
   "outputs": [],
   "source": [
    "driver.headless=True"
   ]
  },
  {
   "cell_type": "code",
   "execution_count": 5,
   "id": "e5ecd5e4-ed8f-4c50-9429-5581103a9d10",
   "metadata": {},
   "outputs": [],
   "source": [
    "def screen(dataframe):\n",
    "    url=[]\n",
    "    #counter = 1\n",
    "    for index,row in dataframe.iterrows():\n",
    "    #print(df_scam['0'][index])\n",
    "        try:\n",
    "           # if counter % 100 == 0 : \n",
    "            #    print(f'saved up to {counter} pngs')\n",
    "            driver.get(dataframe['0'][index])\n",
    "            time.sleep(5)\n",
    "            driver.save_screenshot(f'./photo_legim/{index}.png')\n",
    "            url.append(dataframe['0'][index])\n",
    "            #print(1)\n",
    "        except:\n",
    "            print(f'error line {index} in url {url[-1]}')\n",
    "    pd.DataFrame(np.array(url)).to_csv('./photo_legim/url_matching_photo_legit.csv')"
   ]
  },
  {
   "cell_type": "code",
   "execution_count": 7,
   "id": "1d1cf3ba-1bf6-4bb5-bcb6-87b64904610a",
   "metadata": {},
   "outputs": [
    {
     "data": {
      "text/html": [
       "<div>\n",
       "<style scoped>\n",
       "    .dataframe tbody tr th:only-of-type {\n",
       "        vertical-align: middle;\n",
       "    }\n",
       "\n",
       "    .dataframe tbody tr th {\n",
       "        vertical-align: top;\n",
       "    }\n",
       "\n",
       "    .dataframe thead th {\n",
       "        text-align: right;\n",
       "    }\n",
       "</style>\n",
       "<table border=\"1\" class=\"dataframe\">\n",
       "  <thead>\n",
       "    <tr style=\"text-align: right;\">\n",
       "      <th></th>\n",
       "      <th>0</th>\n",
       "    </tr>\n",
       "  </thead>\n",
       "  <tbody>\n",
       "    <tr>\n",
       "      <th>0</th>\n",
       "      <td>https://www.awesomeaussieshepherd.com</td>\n",
       "    </tr>\n",
       "    <tr>\n",
       "      <th>1</th>\n",
       "      <td>http://www.gclservice.co.za</td>\n",
       "    </tr>\n",
       "    <tr>\n",
       "      <th>2</th>\n",
       "      <td>https://www.gcloanservice.com</td>\n",
       "    </tr>\n",
       "    <tr>\n",
       "      <th>3</th>\n",
       "      <td>http://www.authenicbiodocs.com</td>\n",
       "    </tr>\n",
       "    <tr>\n",
       "      <th>4</th>\n",
       "      <td>https://www.thaiproductsllc.com</td>\n",
       "    </tr>\n",
       "  </tbody>\n",
       "</table>\n",
       "</div>"
      ],
      "text/plain": [
       "                                       0\n",
       "0  https://www.awesomeaussieshepherd.com\n",
       "1            http://www.gclservice.co.za\n",
       "2          https://www.gcloanservice.com\n",
       "3         http://www.authenicbiodocs.com\n",
       "4        https://www.thaiproductsllc.com"
      ]
     },
     "execution_count": 7,
     "metadata": {},
     "output_type": "execute_result"
    }
   ],
   "source": [
    "df_scam=pd.read_csv('../data/final_scam_df.csv')\n",
    "df_scam=df_scam[['0']]\n",
    "df_scam.head()"
   ]
  },
  {
   "cell_type": "code",
   "execution_count": 8,
   "id": "92cedb98-b66c-48de-9d6b-919fbbf570cb",
   "metadata": {},
   "outputs": [
    {
     "name": "stdout",
     "output_type": "stream",
     "text": [
      "error line 37 in url https://www.christmastreasures.co.za\n",
      "error line 252 in url https://www.cforniaproperty.com\n",
      "error line 321 in url https://www.zelfinance.com\n",
      "error line 382 in url https://www.ponalibfb.com\n",
      "error line 392 in url https://www.acespeeddelivery.com\n",
      "error line 464 in url https://www.timbercreekkennel.co.za\n",
      "error line 478 in url http://www.finansbs.com\n",
      "error line 571 in url https://www.seagroa.com\n",
      "error line 1269 in url http://www.legalconsulatant.com\n",
      "error line 1343 in url http://www.fcibgroup.com\n",
      "error line 1360 in url https://www.usa-federalbureau.org\n",
      "error line 1459 in url https://www.queensyorkie.com\n",
      "error line 1632 in url https://firstprimerabank.com/\n",
      "error line 1664 in url https://firstcrystalbank.com/\n",
      "error line 1687 in url https://www.macrofundsbank.com\n",
      "error line 1696 in url https://www.cityfinancialassetmanagement.com\n",
      "error line 1718 in url https://www.solana-markets.com\n",
      "error line 1786 in url http://www.chartwelladvllc.com/\n",
      "error line 1792 in url https://www.dcpjapan.com\n",
      "error line 1804 in url https://www.cradlefx.com\n",
      "error line 1806 in url https://www.metagoldcapital.com\n",
      "error line 1808 in url https://www.forexbigroup.com\n",
      "error line 1847 in url https://www.fxfcapita.online\n",
      "error line 1866 in url https://global-fx-trade.com/\n",
      "error line 1881 in url https://ozonfcorporation.bond\n",
      "error line 1888 in url https://app.coinappfx.com/\n",
      "error line 1898 in url https://www.bullishfxmarkets.com\n",
      "error line 1899 in url https://www.bullishfxmarkets.com\n",
      "error line 1900 in url https://www.bullishfxmarkets.com\n",
      "error line 2148 in url https://www.sellmyhousefast.biz\n",
      "error line 2149 in url https://www.sellmyhousefast.biz\n"
     ]
    }
   ],
   "source": [
    "screen(df_scam)"
   ]
  },
  {
   "cell_type": "code",
   "execution_count": null,
   "id": "fb19a9f1-14e5-4581-9556-269a5d58fb49",
   "metadata": {},
   "outputs": [],
   "source": []
  },
  {
   "cell_type": "code",
   "execution_count": null,
   "id": "fe2f3c2c-1e60-4fad-8f49-e898c6e5e11d",
   "metadata": {},
   "outputs": [],
   "source": []
  }
 ],
 "metadata": {
  "environment": {
   "kernel": "python3",
   "name": "tf2-gpu.2-8.m100",
   "type": "gcloud",
   "uri": "gcr.io/deeplearning-platform-release/tf2-gpu.2-8:m100"
  },
  "kernelspec": {
   "display_name": "Python 3",
   "language": "python",
   "name": "python3"
  },
  "language_info": {
   "codemirror_mode": {
    "name": "ipython",
    "version": 3
   },
   "file_extension": ".py",
   "mimetype": "text/x-python",
   "name": "python",
   "nbconvert_exporter": "python",
   "pygments_lexer": "ipython3",
   "version": "3.7.12"
  }
 },
 "nbformat": 4,
 "nbformat_minor": 5
}
