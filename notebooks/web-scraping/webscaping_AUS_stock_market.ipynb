{
 "cells": [
  {
   "cell_type": "code",
   "execution_count": 205,
   "id": "b900b030",
   "metadata": {},
   "outputs": [],
   "source": [
    "import re\n",
    "import requests\n",
    "from bs4 import BeautifulSoup\n",
    "import pandas as pd\n",
    "import numpy as np\n",
    "import re\n",
    "import time"
   ]
  },
  {
   "cell_type": "code",
   "execution_count": 154,
   "id": "4146983d",
   "metadata": {},
   "outputs": [],
   "source": [
    "df = pd.read_csv('AUS_Listed_Companies.csv')"
   ]
  },
  {
   "cell_type": "code",
   "execution_count": 155,
   "id": "b475cc47",
   "metadata": {},
   "outputs": [
    {
     "data": {
      "text/html": [
       "<div>\n",
       "<style scoped>\n",
       "    .dataframe tbody tr th:only-of-type {\n",
       "        vertical-align: middle;\n",
       "    }\n",
       "\n",
       "    .dataframe tbody tr th {\n",
       "        vertical-align: top;\n",
       "    }\n",
       "\n",
       "    .dataframe thead th {\n",
       "        text-align: right;\n",
       "    }\n",
       "</style>\n",
       "<table border=\"1\" class=\"dataframe\">\n",
       "  <thead>\n",
       "    <tr style=\"text-align: right;\">\n",
       "      <th></th>\n",
       "      <th>ASX code</th>\n",
       "      <th>Company name</th>\n",
       "      <th>Listing date</th>\n",
       "      <th>GICs industry group</th>\n",
       "      <th>Market Cap</th>\n",
       "    </tr>\n",
       "  </thead>\n",
       "  <tbody>\n",
       "    <tr>\n",
       "      <th>0</th>\n",
       "      <td>14D</td>\n",
       "      <td>1414 DEGREES LIMITED</td>\n",
       "      <td>12/09/2018</td>\n",
       "      <td>Capital Goods</td>\n",
       "      <td>17774720.0</td>\n",
       "    </tr>\n",
       "    <tr>\n",
       "      <th>1</th>\n",
       "      <td>1AD</td>\n",
       "      <td>ADALTA LIMITED</td>\n",
       "      <td>22/08/2016</td>\n",
       "      <td>Pharmaceuticals, Biotechnology &amp; Life Sciences</td>\n",
       "      <td>15080868.0</td>\n",
       "    </tr>\n",
       "    <tr>\n",
       "      <th>2</th>\n",
       "      <td>1AE</td>\n",
       "      <td>AURORA ENERGY METALS LIMITED</td>\n",
       "      <td>18/05/2022</td>\n",
       "      <td>Materials</td>\n",
       "      <td>28522198.0</td>\n",
       "    </tr>\n",
       "    <tr>\n",
       "      <th>3</th>\n",
       "      <td>1AG</td>\n",
       "      <td>ALTERRA LIMITED</td>\n",
       "      <td>16/05/2008</td>\n",
       "      <td>Food, Beverage &amp; Tobacco</td>\n",
       "      <td>8346631.0</td>\n",
       "    </tr>\n",
       "    <tr>\n",
       "      <th>4</th>\n",
       "      <td>1CG</td>\n",
       "      <td>ONE CLICK GROUP LIMITED</td>\n",
       "      <td>28/04/2017</td>\n",
       "      <td>Capital Goods</td>\n",
       "      <td>7544937.0</td>\n",
       "    </tr>\n",
       "  </tbody>\n",
       "</table>\n",
       "</div>"
      ],
      "text/plain": [
       "  ASX code                  Company name Listing date  \\\n",
       "0      14D          1414 DEGREES LIMITED   12/09/2018   \n",
       "1      1AD                ADALTA LIMITED   22/08/2016   \n",
       "2      1AE  AURORA ENERGY METALS LIMITED   18/05/2022   \n",
       "3      1AG               ALTERRA LIMITED   16/05/2008   \n",
       "4      1CG       ONE CLICK GROUP LIMITED   28/04/2017   \n",
       "\n",
       "                              GICs industry group  Market Cap  \n",
       "0                                   Capital Goods  17774720.0  \n",
       "1  Pharmaceuticals, Biotechnology & Life Sciences  15080868.0  \n",
       "2                                       Materials  28522198.0  \n",
       "3                        Food, Beverage & Tobacco   8346631.0  \n",
       "4                                   Capital Goods   7544937.0  "
      ]
     },
     "execution_count": 155,
     "metadata": {},
     "output_type": "execute_result"
    }
   ],
   "source": [
    "df.head()"
   ]
  },
  {
   "cell_type": "code",
   "execution_count": 156,
   "id": "31ef2187",
   "metadata": {},
   "outputs": [],
   "source": [
    "df_new = df[(df['GICs industry group'] == 'Diversified Financials') | (df['GICs industry group'] == 'Capital Goods') | (df['GICs industry group'] == 'Banks') | (df['GICs industry group'] == 'Insurance') | (df['GICs industry group'] == 'Commercial & Professional Services')] "
   ]
  },
  {
   "cell_type": "code",
   "execution_count": 48,
   "id": "010a6494",
   "metadata": {
    "collapsed": true
   },
   "outputs": [
    {
     "data": {
      "text/plain": [
       "['1414 DEGREES LIMITED',\n",
       " 'ONE CLICK GROUP LIMITED',\n",
       " 'AMAERO INTERNATIONAL LTD',\n",
       " 'AMAERO INTERNATIONAL LTD',\n",
       " '3D METALFORGE LIMITED',\n",
       " '8I HOLDINGS LTD',\n",
       " 'AURORA LABS LIMITED',\n",
       " 'AUSWIDE BANK LTD',\n",
       " 'AUSTRALIAN BOND EXCHANGE HOLDINGS LIMITED',\n",
       " 'ACROW FORMWORK AND CONSTRUCTION SERVICES LIMITED',\n",
       " 'AERISON GROUP LTD',\n",
       " 'AUSTRALIAN ETHICAL INVESTMENT LIMITED',\n",
       " 'AERIS ENVIRONMENTAL LTD',\n",
       " 'ASF GROUP LIMITED',\n",
       " 'AUSTRALIAN FINANCE GROUP LTD',\n",
       " 'AF LEGAL GROUP LTD',\n",
       " 'AI-MEDIA TECHNOLOGIES LIMITED',\n",
       " 'AJ LUCAS GROUP LIMITED',\n",
       " 'AML3D LIMITED',\n",
       " 'ALS LIMITED',\n",
       " 'AMA GROUP LIMITED',\n",
       " 'AMP LIMITED',\n",
       " 'AEROMETREX LIMITED',\n",
       " 'AUSTIN ENGINEERING LIMITED',\n",
       " 'AUSTRALIA AND NEW ZEALAND BANKING GROUP LIMITED',\n",
       " 'ASSOCIATE GLOBAL PARTNERS LIMITED',\n",
       " 'APM HUMAN SERVICES INTERNATIONAL LIMITED',\n",
       " 'AQUIRIAN LIMITED',\n",
       " 'ARIADNE AUSTRALIA LIMITED',\n",
       " 'ARC FUNDS LIMITED',\n",
       " 'AUSTAL LIMITED',\n",
       " 'ASHLEY SERVICES GROUP LIMITED',\n",
       " 'ADVANCED SHARE REGISTRY LIMITED',\n",
       " 'ASX LIMITED',\n",
       " 'AUB GROUP LIMITED',\n",
       " 'AUCTUS INVESTMENT GROUP LIMITED',\n",
       " 'AVADA GROUP LIMITED',\n",
       " 'A1 INVESTMENTS & RESOURCES LTD',\n",
       " 'BEFOREPAY GROUP LIMITED',\n",
       " 'BNK BANKING CORPORATION LIMITED',\n",
       " 'BENDIGO AND ADELAIDE BANK LIMITED',\n",
       " 'BELL FINANCIAL GROUP LIMITED',\n",
       " 'BSP FINANCIAL GROUP LIMITED',\n",
       " 'BIR FINANCIAL LIMITED',\n",
       " 'BAUMART HOLDINGS LIMITED',\n",
       " 'BOOM LOGISTICS LIMITED',\n",
       " 'BANK OF QUEENSLAND LIMITED.',\n",
       " 'BABYLON PUMP & POWER LIMITED',\n",
       " 'BSA LIMITED',\n",
       " 'BAILADOR TECHNOLOGY INVESTMENTS LIMITED',\n",
       " 'BUTN LIMITED',\n",
       " 'BLACKWALL LIMITED',\n",
       " 'BRAMBLES LIMITED',\n",
       " 'CHRYSOS CORPORATION LIMITED',\n",
       " 'CENTREPOINT ALLIANCE LIMITED',\n",
       " 'COMMONWEALTH BANK OF AUSTRALIA.',\n",
       " 'CREDIT CORP GROUP LIMITED',\n",
       " 'CASH CONVERTERS INTERNATIONAL',\n",
       " 'CARDNO LIMITED',\n",
       " 'CFOAM LIMITED',\n",
       " 'CHALLENGER LIMITED',\n",
       " 'CREDIT INTELLIGENCE LTD',\n",
       " 'CLIME INVESTMENT MANAGEMENT LTD',\n",
       " 'CLOSE THE LOOP LTD.',\n",
       " 'CLEAN TEQ WATER LIMITED',\n",
       " 'COG FINANCIAL SERVICES LIMITED',\n",
       " 'CLEARVUE TECHNOLOGIES LIMITED',\n",
       " 'COUNTPLUS LIMITED',\n",
       " 'CVC LIMITED',\n",
       " 'CIVMEC LIMITED',\n",
       " 'CLEARVIEW WEALTH LIMITED',\n",
       " 'CLEANAWAY WASTE MANAGEMENT LIMITED',\n",
       " 'COVENTRY GROUP LIMITED',\n",
       " 'DECMIL GROUP LIMITED',\n",
       " 'DOMACOM LIMITED',\n",
       " 'DYNAMIC GROUP HOLDINGS LIMITED',\n",
       " 'DOWNER EDI LIMITED',\n",
       " 'DRA GLOBAL LIMITED',\n",
       " 'DRONESHIELD LIMITED',\n",
       " 'DURATEC LIMITED',\n",
       " 'DIVERGER LIMITED',\n",
       " 'ENERGY ACTION LIMITED',\n",
       " 'ECARGO HOLDINGS LIMITED',\n",
       " 'EXCELSIOR CAPITAL LTD',\n",
       " 'ENVIRONMENTAL CLEAN TECHNOLOGIES LIMITED.',\n",
       " 'ECLIPX GROUP LIMITED',\n",
       " 'EILDON CAPITAL GROUP',\n",
       " 'ENVIRONMENTAL GROUP LIMITED (THE)',\n",
       " 'ENGENCO LIMITED',\n",
       " 'ENERGY TECHNOLOGIES LIMITED',\n",
       " 'EMECO HOLDINGS LIMITED',\n",
       " 'EMBELTON LIMITED',\n",
       " 'ENSURANCE LTD',\n",
       " 'ELECTRO OPTIC SYSTEMS HOLDINGS LIMITED',\n",
       " 'E&P FINANCIAL GROUP LIMITED',\n",
       " 'EARLYPAY LTD',\n",
       " 'EQUITY STORY GROUP LTD',\n",
       " 'EQT HOLDINGS LIMITED',\n",
       " 'EVE HEALTH GROUP LIMITED.',\n",
       " 'EVZ LIMITED',\n",
       " 'FBR LTD',\n",
       " 'FATFISH GROUP LIMITED',\n",
       " 'FUTURE FIRST TECHNOLOGIES LTD',\n",
       " 'FIDUCIAN GROUP LIMITED',\n",
       " 'FLUENCE CORPORATION LIMITED',\n",
       " 'FREELANCER LIMITED',\n",
       " 'FINEXIA FINANCIAL GROUP LIMITED',\n",
       " 'FOS CAPITAL LTD',\n",
       " 'FSA GROUP LIMITED',\n",
       " 'GENERATION DEVELOPMENT GROUP LIMITED',\n",
       " 'GENUSPLUS GROUP LTD',\n",
       " 'THE GO2 PEOPLE LTD',\n",
       " 'GOWING BROS LIMITED',\n",
       " 'GQG PARTNERS INC.',\n",
       " 'GWA GROUP LIMITED.',\n",
       " 'GREENHY2 LIMITED',\n",
       " 'HALO TECHNOLOGIES HOLDINGS LTD',\n",
       " 'HEARTLAND GROUP HOLDINGS LIMITED',\n",
       " 'HITECH GROUP AUSTRALIA LIMITED',\n",
       " 'HELIA GROUP LIMITED',\n",
       " 'HIREMII LIMITED',\n",
       " 'HARMONEY CORP LIMITED',\n",
       " 'HANCOCK & GORE LTD',\n",
       " 'HUB24 LIMITED',\n",
       " 'HUMM GROUP LIMITED',\n",
       " 'INSURANCE AUSTRALIA GROUP LIMITED',\n",
       " 'INCOME ASSET MANAGEMENT GROUP LIMITED.',\n",
       " 'INSIGNIA FINANCIAL LTD',\n",
       " 'INTERNATIONAL GRAPHITE LIMITED',\n",
       " 'IGNITE LIMITED',\n",
       " 'INTELLIGENT MONITORING GROUP LIMITED',\n",
       " 'INVESTSMART GROUP LIMITED',\n",
       " 'IMPERIAL PACIFIC LIMITED',\n",
       " 'IPD GROUP LTD',\n",
       " 'IPH LIMITED',\n",
       " 'INVENTIS LIMITED',\n",
       " 'JUDO CAPITAL HOLDINGS LIMITED',\n",
       " 'JANUS HENDERSON GROUP PLC',\n",
       " 'JOHNS LYNG GROUP LIMITED',\n",
       " 'K2 ASSET MANAGEMENT HOLDINGS LTD',\n",
       " 'KEYBRIDGE CAPITAL LIMITED',\n",
       " 'KORVEST LTD',\n",
       " 'KELLY PARTNERS GROUP HOLDINGS LIMITED',\n",
       " 'KINA SECURITIES LIMITED',\n",
       " 'KLEOS SPACE S.A',\n",
       " 'K-TIG LIMITED',\n",
       " 'LAWFINANCE LIMITED',\n",
       " 'LASERBOND LIMITED',\n",
       " 'LONDON CITY EQUITIES LIMITED',\n",
       " 'LIBERTY FINANCIAL GROUP',\n",
       " 'LATITUDE GROUP HOLDINGS LIMITED',\n",
       " 'LI-S ENERGY LIMITED',\n",
       " 'LYCOPODIUM LIMITED',\n",
       " 'M8 SUSTAINABLE LIMITED',\n",
       " 'MADER GROUP LIMITED',\n",
       " 'MA FINANCIAL GROUP LIMITED',\n",
       " 'MICROEQUITIES ASSET MANAGEMENT GROUP LIMITED',\n",
       " 'MARINER CORPORATION LIMITED',\n",
       " 'MORPHIC ETHICAL EQUITIES FUND LIMITED',\n",
       " 'MAGELLAN FINANCIAL GROUP LIMITED',\n",
       " 'MAAS GROUP HOLDINGS LIMITED',\n",
       " 'MILLENNIUM SERVICES GROUP LIMITED',\n",
       " 'MONEYME LIMITED',\n",
       " 'MCMILLAN SHAKESPEARE LIMITED',\n",
       " 'MONADELPHOUS GROUP LIMITED',\n",
       " 'MONEY3 CORPORATION LIMITED',\n",
       " 'MEDIBANK PRIVATE LIMITED',\n",
       " 'METRO PERFORMANCE GLASS LIMITED',\n",
       " 'MPOWER GROUP LIMITED',\n",
       " 'MACQUARIE GROUP LIMITED',\n",
       " 'MY REWARDS INTERNATIONAL LIMITED',\n",
       " 'MCS SERVICES LIMITED',\n",
       " 'MULTISTACK INTERNATIONAL LIMITED',\n",
       " 'MAXIPARTS LIMITED',\n",
       " 'MAYFIELD GROUP HOLDINGS LIMITED',\n",
       " 'MYSTATE LIMITED',\n",
       " 'N1 HOLDINGS LIMITED',\n",
       " 'NATIONAL AUSTRALIA BANK LIMITED',\n",
       " 'NAMOI COTTON LIMITED',\n",
       " 'NAVIGATOR GLOBAL INVESTMENTS LIMITED',\n",
       " 'NIGHTINGALE INTELLIGENT SYSTEMS INC',\n",
       " 'NIB HOLDINGS LIMITED',\n",
       " 'NOBLEOAK LIFE LIMITED',\n",
       " 'NSX LIMITED',\n",
       " 'NRW HOLDINGS LIMITED',\n",
       " 'NETWEALTH GROUP LIMITED',\n",
       " 'OMNI BRIDGEWAY LIMITED',\n",
       " 'ORBITAL CORPORATION LIMITED',\n",
       " 'ORION EQUITIES LIMITED',\n",
       " 'OFX GROUP LIMITED',\n",
       " 'OLDFIELDS HOLDINGS LIMITED',\n",
       " 'OLYMPIO METALS LIMITED',\n",
       " 'OPENN NEGOTIATION LIMITED',\n",
       " 'OPENPAY GROUP LTD',\n",
       " 'PACIFIC CURRENT GROUP LIMITED',\n",
       " 'PENGANA CAPITAL GROUP LIMITED',\n",
       " 'PENDAL GROUP LIMITED',\n",
       " 'PHOSLOCK ENVIRONMENTAL TECHNOLOGIES LIMITED',\n",
       " 'PRIME FINANCIAL GROUP LIMITED',\n",
       " 'PEARL GLOBAL LIMITED',\n",
       " 'PROSPA GROUP LIMITED.',\n",
       " 'PROPELL HOLDINGS LIMITED',\n",
       " 'PARKD LTD',\n",
       " 'PLENTI GROUP LIMITED',\n",
       " 'PIONEER CREDIT LIMITED',\n",
       " 'PINNACLE INVESTMENT MANAGEMENT GROUP LIMITED',\n",
       " 'PROTEAN ENERGY LIMITED',\n",
       " 'PEOPLEIN LIMITED',\n",
       " 'PPK GROUP LIMITED',\n",
       " 'PEPPER MONEY LIMITED',\n",
       " 'PERPETUAL LIMITED',\n",
       " 'PSC INSURANCE GROUP LIMITED',\n",
       " 'PTB GROUP LIMITED',\n",
       " 'PLATINUM ASSET MANAGEMENT LIMITED',\n",
       " 'POWERHOUSE VENTURES LIMITED',\n",
       " 'PAYRIGHT LIMITED',\n",
       " 'QUALITAS LIMITED',\n",
       " 'QBE INSURANCE GROUP LIMITED',\n",
       " 'QUICKFEE LIMITED',\n",
       " 'QUICKSTEP HOLDINGS LIMITED',\n",
       " 'QANTM INTELLECTUAL PROPERTY LIMITED',\n",
       " 'QUESTE COMMUNICATIONS LIMITED',\n",
       " 'RAGUSA MINERALS LTD',\n",
       " 'RESOURCE DEVELOPMENT GROUP LIMITED',\n",
       " 'REECE LIMITED',\n",
       " 'REMSENSE TECHNOLOGIES LIMITED',\n",
       " 'RECTIFIER TECHNOLOGIES LTD',\n",
       " 'REDFLOW LIMITED',\n",
       " 'ROTO-GRO INTERNATIONAL LIMITED',\n",
       " 'RESIMAC GROUP LTD',\n",
       " 'ROOTS SUSTAINABLE AGRICULTURAL TECHNOLOGIES LTD',\n",
       " 'REGAL PARTNERS LIMITED',\n",
       " 'RAS TECHNOLOGY HOLDINGS LIMITED',\n",
       " 'RELIANCE WORLDWIDE CORPORATION LIMITED',\n",
       " 'RAIZ INVEST LIMITED',\n",
       " 'STEADFAST GROUP LIMITED',\n",
       " 'SEQUOIA FINANCIAL GROUP LTD',\n",
       " 'SG FLEET GROUP LIMITED',\n",
       " 'STEALTH GLOBAL HOLDINGS LTD',\n",
       " 'SHAPE AUSTRALIA CORPORATION LIMITED',\n",
       " 'SMARTGROUP CORPORATION LTD',\n",
       " 'SIV CAPITAL LIMITED',\n",
       " 'SKS TECHNOLOGIES GROUP LIMITED',\n",
       " 'SAUNDERS INTERNATIONAL LIMITED',\n",
       " 'SYNERTEC CORPORATION LIMITED',\n",
       " 'STRATEGIC ELEMENTS LIMITED',\n",
       " 'SRG GLOBAL LIMITED',\n",
       " 'SERVICE STREAM LIMITED',\n",
       " 'STEAMSHIPS TRADING COMPANY LIMITED',\n",
       " 'SUNCORP GROUP LIMITED',\n",
       " 'SEVEN GROUP HOLDINGS LIMITED',\n",
       " 'SELFWEALTH LIMITED',\n",
       " 'SOUTHERN CROSS ELECTRICAL ENGINEERING LTD',\n",
       " '333D LIMITED',\n",
       " 'TEAMINVEST PRIVATE GROUP LIMITED',\n",
       " '360 CAPITAL REIT',\n",
       " 'TOUCH VENTURES LIMITED',\n",
       " 'TOWER LIMITED',\n",
       " 'VERBREC LIMITED',\n",
       " 'VEEM LTD',\n",
       " 'VDM GROUP LIMITED',\n",
       " 'VENTIA SERVICES GROUP LIMITED',\n",
       " 'VERIS LIMITED',\n",
       " 'VIRGIN MONEY UK PLC',\n",
       " 'WESTPAC BANKING CORPORATION',\n",
       " 'WT FINANCIAL GROUP LIMITED',\n",
       " 'WISR LIMITED',\n",
       " 'XRF SCIENTIFIC LIMITED',\n",
       " 'XTEK LIMITED.',\n",
       " 'YELLOW BRICK ROAD HOLDINGS LIMITED',\n",
       " 'YPB GROUP LTD',\n",
       " 'ZICOM GROUP LIMITED',\n",
       " 'ZIP CO LIMITED..']"
      ]
     },
     "execution_count": 48,
     "metadata": {},
     "output_type": "execute_result"
    }
   ],
   "source": [
    "list(comp_names)"
   ]
  },
  {
   "cell_type": "code",
   "execution_count": 157,
   "id": "c0291b9f",
   "metadata": {},
   "outputs": [],
   "source": [
    "comp_names = df_new['Company name']"
   ]
  },
  {
   "cell_type": "code",
   "execution_count": 158,
   "id": "15aaa5f5",
   "metadata": {},
   "outputs": [],
   "source": [
    "clean_names = []\n",
    "\n",
    "for i in list(comp_names)[:]:\n",
    "    new_name = i.replace(' ', '-').lower()\n",
    "    new_name +='-australia' \n",
    "    clean_names.append(new_name)\n",
    "    "
   ]
  },
  {
   "cell_type": "code",
   "execution_count": 159,
   "id": "d8df9aaa",
   "metadata": {},
   "outputs": [
    {
     "data": {
      "text/plain": [
       "273"
      ]
     },
     "execution_count": 159,
     "metadata": {},
     "output_type": "execute_result"
    }
   ],
   "source": [
    "len(clean_names)"
   ]
  },
  {
   "cell_type": "code",
   "execution_count": null,
   "id": "57f835e4",
   "metadata": {},
   "outputs": [],
   "source": [
    "##define function to get first result (url) from Google search \n",
    "\n",
    "for name in clean_names:\n",
    "    aus_urls = []\n",
    "    url = f'https://www.google.com/search?q={name}'\n",
    "    response = requests.get(url, headers={\"Accept-Language\":\"en-US\"})\n",
    "    soup = BeautifulSoup(response.content, \"html.parser\")\n",
    "    \n",
    "    \n",
    "    aus_urls.append(   )\n",
    "    "
   ]
  },
  {
   "cell_type": "code",
   "execution_count": null,
   "id": "6228030d",
   "metadata": {},
   "outputs": [],
   "source": [
    "clean_names.head()"
   ]
  },
  {
   "cell_type": "code",
   "execution_count": 161,
   "id": "95ec2500",
   "metadata": {},
   "outputs": [],
   "source": [
    "url = 'https://www.google.com/search?q=ADALTA-LIMITED-australia'\n",
    "response = requests.get(url, headers={\"Accept-Language\":\"en-US\"})\n",
    "soup = BeautifulSoup(response.content, \"html.parser\")\n"
   ]
  },
  {
   "cell_type": "code",
   "execution_count": 164,
   "id": "0a029966",
   "metadata": {},
   "outputs": [
    {
     "data": {
      "text/plain": [
       "[]"
      ]
     },
     "execution_count": 164,
     "metadata": {},
     "output_type": "execute_result"
    }
   ],
   "source": [
    "soup.find_all('div', class_='eqAnXb')"
   ]
  },
  {
   "cell_type": "code",
   "execution_count": 169,
   "id": "90308eca",
   "metadata": {},
   "outputs": [],
   "source": [
    "html = requests.get('https://www.google.com/search?q=ADALTA-LIMITED-australia').text\n",
    "soup = BeautifulSoup(html, \"html.parser\")"
   ]
  },
  {
   "cell_type": "code",
   "execution_count": 192,
   "id": "d72b7dbd",
   "metadata": {},
   "outputs": [
    {
     "data": {
      "text/plain": [
       "[]"
      ]
     },
     "execution_count": 192,
     "metadata": {},
     "output_type": "execute_result"
    }
   ],
   "source": [
    "soup.find_all('div', class_='appbar')"
   ]
  },
  {
   "cell_type": "code",
   "execution_count": 203,
   "id": "c56c456c",
   "metadata": {},
   "outputs": [
    {
     "name": "stdout",
     "output_type": "stream",
     "text": [
      "None\n"
     ]
    }
   ],
   "source": [
    "r = requests.get('https://www.google.com/search?q=bp&oq=bp&aqs=chrome..69i57j46i199i433i465i512j69i59j35i39j46i199i433i465i512j0i131i433i512j0i512j0i433i512j46i433i512j0i433i512.744j1j15&sourceid=chrome&ie=UTF-8')\n",
    "\n",
    "soup = BeautifulSoup(r.text, \"html.parser\")\n",
    "print(soup.find('cite'))"
   ]
  },
  {
   "cell_type": "code",
   "execution_count": 206,
   "id": "16cccdd8",
   "metadata": {},
   "outputs": [],
   "source": [
    "for i in soup.find_all('div', class_='yuRUbf'): \n",
    "    cite = i.find('cite')\n",
    "    print(cite)"
   ]
  },
  {
   "cell_type": "code",
   "execution_count": 207,
   "id": "a200521d",
   "metadata": {},
   "outputs": [],
   "source": [
    "url = 'https://www.nzx.com/companies/AIR'\n",
    "response = requests.get(url)\n",
    "soup = BeautifulSoup(response.content, \"html.parser\")\n",
    "\n",
    "\n"
   ]
  },
  {
   "cell_type": "code",
   "execution_count": 212,
   "id": "496f32dc",
   "metadata": {
    "collapsed": true
   },
   "outputs": [
    {
     "data": {
      "text/plain": [
       "[<div class=\"panel callout module\">\n",
       " <address>\n",
       " <h3 class=\"module-header\">Contact</h3>\n",
       " <span>Jennifer Page</span>\n",
       " <span>Private Bag 92007 Auckland 1010</span>\n",
       " <span></span>\n",
       " <span></span>\n",
       " <span></span>\n",
       " <span><i class=\"fa fa-phone\"></i>027 909 0691</span>\n",
       " <span class=\"break-all\"></span>\n",
       " <span><a href=\"http://www.airnewzealand.com/\" target=\"_blank\"><i class=\"fa fa-external-link-square\"></i>Air New Zealand Limited (NS) website</a></span>\n",
       " </address>\n",
       " </div>,\n",
       " <div class=\"panel callout module\">\n",
       " <address>\n",
       " <h3 class=\"module-header\">Contact</h3>\n",
       " <span>Jennifer Page</span>\n",
       " <span>Private Bag 92007 Auckland 1010</span>\n",
       " <span></span>\n",
       " <span></span>\n",
       " <span></span>\n",
       " <span><i class=\"fa fa-phone\"></i>027 909 0691</span>\n",
       " <span class=\"break-all\"></span>\n",
       " <span><a href=\"http://www.airnewzealand.com/\" target=\"_blank\"><i class=\"fa fa-external-link-square\"></i>Air New Zealand Limited (NS) website</a></span>\n",
       " </address>\n",
       " </div>]"
      ]
     },
     "execution_count": 212,
     "metadata": {},
     "output_type": "execute_result"
    }
   ],
   "source": [
    "soup.find_all('div', class_='panel callout module')"
   ]
  },
  {
   "cell_type": "code",
   "execution_count": 244,
   "id": "0df30a07",
   "metadata": {},
   "outputs": [
    {
     "name": "stdout",
     "output_type": "stream",
     "text": [
      "<a href=\"http://www.airnewzealand.com/\" target=\"_blank\"><i class=\"fa fa-external-link-square\"></i>Air New Zealand Limited (NS) website</a>\n",
      "<a href=\"http://www.airnewzealand.com/\" target=\"_blank\"><i class=\"fa fa-external-link-square\"></i>Air New Zealand Limited (NS) website</a>\n"
     ]
    }
   ],
   "source": [
    "for i in soup.find_all('div', class_='panel callout module'):\n",
    "    link = i.find('a')\n",
    "    \n",
    "    #.find('href')#.string.strip()\n",
    "    print(link)\n",
    "    "
   ]
  },
  {
   "cell_type": "code",
   "execution_count": 242,
   "id": "20704ef3",
   "metadata": {},
   "outputs": [
    {
     "data": {
      "text/plain": [
       "<a href=\"http://www.airnewzealand.com/\" target=\"_blank\"><i class=\"fa fa-external-link-square\"></i>Air New Zealand Limited (NS) website</a>"
      ]
     },
     "execution_count": 242,
     "metadata": {},
     "output_type": "execute_result"
    }
   ],
   "source": [
    "link"
   ]
  },
  {
   "cell_type": "code",
   "execution_count": null,
   "id": "7a721464",
   "metadata": {},
   "outputs": [],
   "source": []
  }
 ],
 "metadata": {
  "kernelspec": {
   "display_name": "Python 3 (ipykernel)",
   "language": "python",
   "name": "python3"
  },
  "language_info": {
   "codemirror_mode": {
    "name": "ipython",
    "version": 3
   },
   "file_extension": ".py",
   "mimetype": "text/x-python",
   "name": "python",
   "nbconvert_exporter": "python",
   "pygments_lexer": "ipython3",
   "version": "3.10.6"
  },
  "toc": {
   "base_numbering": 1,
   "nav_menu": {},
   "number_sections": true,
   "sideBar": true,
   "skip_h1_title": false,
   "title_cell": "Table of Contents",
   "title_sidebar": "Contents",
   "toc_cell": false,
   "toc_position": {},
   "toc_section_display": true,
   "toc_window_display": false
  }
 },
 "nbformat": 4,
 "nbformat_minor": 5
}
