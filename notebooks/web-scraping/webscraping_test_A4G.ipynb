{
 "cells": [
  {
   "cell_type": "code",
   "execution_count": 9,
   "id": "2c490dac",
   "metadata": {},
   "outputs": [],
   "source": [
    "import re\n",
    "import requests\n",
    "from bs4 import BeautifulSoup\n",
    "import pandas as pd\n",
    "import numpy as np\n",
    "import re\n",
    "import time\n"
   ]
  },
  {
   "cell_type": "code",
   "execution_count": 10,
   "id": "93c27196",
   "metadata": {},
   "outputs": [],
   "source": [
    "response = requests.get(\"https://db.aa419.org/fakebankslist.php?start=1\", headers={\"Accept-Language\":\"en-US\"})\n",
    "soup = BeautifulSoup(response.content, \"html.parser\")"
   ]
  },
  {
   "cell_type": "code",
   "execution_count": 37,
   "id": "8cf5ca3b",
   "metadata": {},
   "outputs": [],
   "source": [
    "div = soup.find_all('td', class_='tddomain')"
   ]
  },
  {
   "cell_type": "code",
   "execution_count": 35,
   "id": "5df0dc47",
   "metadata": {
    "collapsed": true,
    "jupyter": {
     "outputs_hidden": true
    }
   },
   "outputs": [
    {
     "name": "stdout",
     "output_type": "stream",
     "text": [
      "http://www.gclservice.co.za\n",
      "https://www.gcloanservice.com\n",
      "https://www.californiachemicallab.com\n",
      "https://www.citicocapital.com\n",
      "https://www.anschutz-laboratories.com\n",
      "http://www.fdigroup.org\n",
      "https://www.jacopavers.com\n",
      "https://www.catchpups.com\n",
      "https://www.hypersensitivekittens.com\n",
      "https://www.spotonpuppy.com\n",
      "http://www.authenicbiodocs.com\n",
      "https://www.thaiproductsllc.com\n",
      "https://www.designermaltipoopuppies.com\n",
      "https://heavy-supply.com\n",
      "https://www.franchisepuppiesfarm.co.za\n",
      "https://www.littlefurrybreedershome.co.za\n",
      "https://www.saglobalcourier.com\n",
      "https://www.abaintercontinentalcontainers.com\n",
      "https://www.emscontainer.co.za\n",
      "https://www.calibarcontainers.co.za\n"
     ]
    }
   ],
   "source": [
    "for url in div:\n",
    "    urls = url.find('a').string.strip()\n",
    "    print(urls)\n",
    "\n"
   ]
  },
  {
   "cell_type": "code",
   "execution_count": 38,
   "id": "411830c1",
   "metadata": {},
   "outputs": [],
   "source": [
    "def get_urls():\n",
    "    all_urls = []\n",
    "    \n",
    "    for i in range(1, 60, 20):\n",
    "        url = f'https://db.aa419.org/fakebankslist.php?start={i}'\n",
    "        response = requests.get(url, headers={\"Accept-Language\":\"en-US\"})\n",
    "    \n",
    "    try:\n",
    "        for website in div:\n",
    "            urls = website.find('a').string.strip()\n",
    "            all_urls.append(urls)\n",
    "    except: \n",
    "        print(f'error on page {i}')\n",
    "    \n",
    "    return all_urls "
   ]
  },
  {
   "cell_type": "code",
   "execution_count": 39,
   "id": "7f5dedf5",
   "metadata": {},
   "outputs": [
    {
     "data": {
      "text/plain": [
       "['http://www.gclservice.co.za',\n",
       " 'https://www.gcloanservice.com',\n",
       " 'https://www.californiachemicallab.com',\n",
       " 'https://www.citicocapital.com',\n",
       " 'https://www.anschutz-laboratories.com',\n",
       " 'http://www.fdigroup.org',\n",
       " 'https://www.jacopavers.com',\n",
       " 'https://www.catchpups.com',\n",
       " 'https://www.hypersensitivekittens.com',\n",
       " 'https://www.spotonpuppy.com',\n",
       " 'http://www.authenicbiodocs.com',\n",
       " 'https://www.thaiproductsllc.com',\n",
       " 'https://www.designermaltipoopuppies.com',\n",
       " 'https://heavy-supply.com',\n",
       " 'https://www.franchisepuppiesfarm.co.za',\n",
       " 'https://www.littlefurrybreedershome.co.za',\n",
       " 'https://www.saglobalcourier.com',\n",
       " 'https://www.abaintercontinentalcontainers.com',\n",
       " 'https://www.emscontainer.co.za',\n",
       " 'https://www.calibarcontainers.co.za']"
      ]
     },
     "execution_count": 39,
     "metadata": {},
     "output_type": "execute_result"
    }
   ],
   "source": [
    "get_urls()"
   ]
  },
  {
   "cell_type": "code",
   "execution_count": 40,
   "id": "91abe2bc",
   "metadata": {},
   "outputs": [
    {
     "data": {
      "text/plain": [
       "20"
      ]
     },
     "execution_count": 40,
     "metadata": {},
     "output_type": "execute_result"
    }
   ],
   "source": []
  },
  {
   "cell_type": "code",
   "execution_count": null,
   "id": "4b35e2db",
   "metadata": {},
   "outputs": [],
   "source": []
  }
 ],
 "metadata": {
  "kernelspec": {
   "display_name": "Python 3 (ipykernel)",
   "language": "python",
   "name": "python3"
  },
  "language_info": {
   "codemirror_mode": {
    "name": "ipython",
    "version": 3
   },
   "file_extension": ".py",
   "mimetype": "text/x-python",
   "name": "python",
   "nbconvert_exporter": "python",
   "pygments_lexer": "ipython3",
   "version": "3.8.12"
  },
  "toc": {
   "base_numbering": 1,
   "nav_menu": {},
   "number_sections": true,
   "sideBar": true,
   "skip_h1_title": false,
   "title_cell": "Table of Contents",
   "title_sidebar": "Contents",
   "toc_cell": false,
   "toc_position": {},
   "toc_section_display": true,
   "toc_window_display": false
  }
 },
 "nbformat": 4,
 "nbformat_minor": 5
}
