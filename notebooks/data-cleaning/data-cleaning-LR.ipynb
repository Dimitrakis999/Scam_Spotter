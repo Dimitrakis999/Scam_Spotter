{
 "cells": [
  {
   "cell_type": "markdown",
   "id": "8a7d6b25-f3f8-4a9b-a761-41cd9ce4a0f0",
   "metadata": {},
   "source": [
    "# Imports"
   ]
  },
  {
   "cell_type": "code",
   "execution_count": 1,
   "id": "e2bae923-3698-4841-af8b-5aa02576190a",
   "metadata": {},
   "outputs": [],
   "source": [
    "import pandas as pd\n",
    "import numpy as np\n",
    "import os\n",
    "\n",
    "from matplotlib.pyplot import imread"
   ]
  },
  {
   "cell_type": "code",
   "execution_count": null,
   "id": "446aea5e-7a56-4037-a5ac-458cf245a7bd",
   "metadata": {},
   "outputs": [],
   "source": []
  },
  {
   "cell_type": "code",
   "execution_count": 2,
   "id": "c223fc03-1e7f-40b0-95b5-e78553e7635d",
   "metadata": {},
   "outputs": [],
   "source": [
    "legit_text_path = '../../data/text/legim_text.csv'\n",
    "legit_image_path = '../../data/screenshots/legit_screenshots/url_matching_photo_scam.csv'\n",
    "\n",
    "scam_text_path = '../../data/text/scam_text.csv'\n",
    "scam_image_path = '../../data/screenshots/scam_screenshots/url_matching_photo_legit.csv'"
   ]
  },
  {
   "cell_type": "code",
   "execution_count": 3,
   "id": "c014d0b2-68c3-44f4-8e12-66624a181a99",
   "metadata": {},
   "outputs": [],
   "source": [
    "# Not used in this notebook - will be used in the dual input model notebook\n",
    "rel_imagedir_path = '../../data/screenshots/'\n",
    "legit_imagedir_path = os.path.join(rel_imagedir_path, 'legit_screenshots')\n",
    "scam_imagedir_path = os.path.join(rel_imagedir_path, 'scam_screenshots')"
   ]
  },
  {
   "cell_type": "markdown",
   "id": "d39f4f28-2dd4-489e-b494-5164293fd109",
   "metadata": {},
   "source": [
    "# Loading Data\n",
    "\n",
    "## Legit Sites"
   ]
  },
  {
   "cell_type": "markdown",
   "id": "e23540a1-55c6-4971-8917-d841b8a0958c",
   "metadata": {},
   "source": [
    "### Legit text loading"
   ]
  },
  {
   "cell_type": "code",
   "execution_count": 4,
   "id": "88d5f7be-8315-4e47-bd6d-805968b310d5",
   "metadata": {},
   "outputs": [],
   "source": [
    "legit_text = pd.read_csv(legit_text_path)"
   ]
  },
  {
   "cell_type": "code",
   "execution_count": 5,
   "id": "dc9a2ccd-f2aa-4554-b437-273246693b7c",
   "metadata": {},
   "outputs": [
    {
     "name": "stdout",
     "output_type": "stream",
     "text": [
      "<class 'pandas.core.frame.DataFrame'>\n",
      "RangeIndex: 2112 entries, 0 to 2111\n",
      "Data columns (total 3 columns):\n",
      " #   Column      Non-Null Count  Dtype \n",
      "---  ------      --------------  ----- \n",
      " 0   Unnamed: 0  2112 non-null   object\n",
      " 1   url         2111 non-null   object\n",
      " 2   text        2080 non-null   object\n",
      "dtypes: object(3)\n",
      "memory usage: 49.6+ KB\n"
     ]
    }
   ],
   "source": [
    "legit_text.info()"
   ]
  },
  {
   "cell_type": "code",
   "execution_count": 6,
   "id": "88f224ed-11d7-459a-9337-0a6d1af12632",
   "metadata": {},
   "outputs": [
    {
     "data": {
      "text/plain": [
       "(2018, 3)"
      ]
     },
     "execution_count": 6,
     "metadata": {},
     "output_type": "execute_result"
    }
   ],
   "source": [
    "legit_text_df = legit_text.dropna()\n",
    "legit_text_df = legit_text_df.drop_duplicates(subset=['url'])\n",
    "legit_text_df.shape"
   ]
  },
  {
   "cell_type": "code",
   "execution_count": 7,
   "id": "e1b846bd-5373-4604-805f-16e93b4daada",
   "metadata": {},
   "outputs": [
    {
     "data": {
      "text/html": [
       "<div>\n",
       "<style scoped>\n",
       "    .dataframe tbody tr th:only-of-type {\n",
       "        vertical-align: middle;\n",
       "    }\n",
       "\n",
       "    .dataframe tbody tr th {\n",
       "        vertical-align: top;\n",
       "    }\n",
       "\n",
       "    .dataframe thead th {\n",
       "        text-align: right;\n",
       "    }\n",
       "</style>\n",
       "<table border=\"1\" class=\"dataframe\">\n",
       "  <thead>\n",
       "    <tr style=\"text-align: right;\">\n",
       "      <th></th>\n",
       "      <th>Unnamed: 0</th>\n",
       "      <th>url</th>\n",
       "      <th>text</th>\n",
       "    </tr>\n",
       "  </thead>\n",
       "  <tbody>\n",
       "    <tr>\n",
       "      <th>0</th>\n",
       "      <td>0</td>\n",
       "      <td>http://www.theaccessbankukltd.co.uk</td>\n",
       "      <td>menuaboutpersonalbusinessprivatedubainewsconta...</td>\n",
       "    </tr>\n",
       "    <tr>\n",
       "      <th>1</th>\n",
       "      <td>1</td>\n",
       "      <td>http://www.adambank.com</td>\n",
       "      <td>transfer contact usloginon 3 september 2022 we...</td>\n",
       "    </tr>\n",
       "    <tr>\n",
       "      <th>2</th>\n",
       "      <td>2</td>\n",
       "      <td>http://www.adib.co.uk</td>\n",
       "      <td>sign in​homeabout adibour brandmission   objec...</td>\n",
       "    </tr>\n",
       "    <tr>\n",
       "      <th>3</th>\n",
       "      <td>3</td>\n",
       "      <td>http://www.aldermore.co.uk</td>\n",
       "      <td>log inpersonalbusinessintermediariesabout usco...</td>\n",
       "    </tr>\n",
       "    <tr>\n",
       "      <th>4</th>\n",
       "      <td>4</td>\n",
       "      <td>http://www.allfunds.com/en</td>\n",
       "      <td>cookie configurationallfunds bank s a u   allf...</td>\n",
       "    </tr>\n",
       "  </tbody>\n",
       "</table>\n",
       "</div>"
      ],
      "text/plain": [
       "  Unnamed: 0                                  url  \\\n",
       "0          0  http://www.theaccessbankukltd.co.uk   \n",
       "1          1              http://www.adambank.com   \n",
       "2          2                http://www.adib.co.uk   \n",
       "3          3           http://www.aldermore.co.uk   \n",
       "4          4           http://www.allfunds.com/en   \n",
       "\n",
       "                                                text  \n",
       "0  menuaboutpersonalbusinessprivatedubainewsconta...  \n",
       "1  transfer contact usloginon 3 september 2022 we...  \n",
       "2  sign in​homeabout adibour brandmission   objec...  \n",
       "3  log inpersonalbusinessintermediariesabout usco...  \n",
       "4  cookie configurationallfunds bank s a u   allf...  "
      ]
     },
     "execution_count": 7,
     "metadata": {},
     "output_type": "execute_result"
    }
   ],
   "source": [
    "legit_text_df.head()"
   ]
  },
  {
   "cell_type": "code",
   "execution_count": 8,
   "id": "6511905e-89aa-401c-97a9-4665741ee5e8",
   "metadata": {},
   "outputs": [
    {
     "data": {
      "text/plain": [
       "http://www.theaccessbankukltd.co.uk    1\n",
       "http://WorkGlovesDepot.com             1\n",
       "http://whisker.com                     1\n",
       "http://phdfemininehealth.com           1\n",
       "http://spirecollective.com             1\n",
       "                                      ..\n",
       "http://www.natickfederal.com/          1\n",
       "http://www.nantucketbank.com/          1\n",
       "http://www.mutualfederal.com/          1\n",
       "http://www.monsonsavings.com/          1\n",
       "http://www.arkocorp.com/               1\n",
       "Name: url, Length: 2018, dtype: int64"
      ]
     },
     "execution_count": 8,
     "metadata": {},
     "output_type": "execute_result"
    }
   ],
   "source": [
    "legit_text_df['url'].value_counts()"
   ]
  },
  {
   "cell_type": "code",
   "execution_count": null,
   "id": "1ccf49b5-fda2-432d-970e-fd45f1ee9de8",
   "metadata": {},
   "outputs": [],
   "source": []
  },
  {
   "cell_type": "markdown",
   "id": "03be8d92-0eb6-41a6-8b44-1bba2eb4ed8c",
   "metadata": {},
   "source": [
    "### Legit screenshot key"
   ]
  },
  {
   "cell_type": "code",
   "execution_count": 9,
   "id": "9c5e0395-c285-4f7c-8208-33b195d79cc2",
   "metadata": {},
   "outputs": [
    {
     "data": {
      "text/plain": [
       "(2092, 2)"
      ]
     },
     "metadata": {},
     "output_type": "display_data"
    }
   ],
   "source": [
    "legit_screenshot_key = pd.read_csv(legit_image_path)\n",
    "legit_screenshot_key = legit_screenshot_key.rename(columns={'Unnamed: 0': 'image_id','0': 'url'})\n",
    "\n",
    "display(legit_screenshot_key.shape)"
   ]
  },
  {
   "cell_type": "code",
   "execution_count": 10,
   "id": "936a422b-88a6-4c6e-9929-b37b1186590f",
   "metadata": {},
   "outputs": [
    {
     "data": {
      "text/plain": [
       "(2028, 2)"
      ]
     },
     "metadata": {},
     "output_type": "display_data"
    },
    {
     "data": {
      "text/html": [
       "<div>\n",
       "<style scoped>\n",
       "    .dataframe tbody tr th:only-of-type {\n",
       "        vertical-align: middle;\n",
       "    }\n",
       "\n",
       "    .dataframe tbody tr th {\n",
       "        vertical-align: top;\n",
       "    }\n",
       "\n",
       "    .dataframe thead th {\n",
       "        text-align: right;\n",
       "    }\n",
       "</style>\n",
       "<table border=\"1\" class=\"dataframe\">\n",
       "  <thead>\n",
       "    <tr style=\"text-align: right;\">\n",
       "      <th></th>\n",
       "      <th>image_id</th>\n",
       "      <th>url</th>\n",
       "    </tr>\n",
       "  </thead>\n",
       "  <tbody>\n",
       "    <tr>\n",
       "      <th>0</th>\n",
       "      <td>0</td>\n",
       "      <td>http://www.theaccessbankukltd.co.uk</td>\n",
       "    </tr>\n",
       "    <tr>\n",
       "      <th>1</th>\n",
       "      <td>1</td>\n",
       "      <td>http://www.adambank.com</td>\n",
       "    </tr>\n",
       "    <tr>\n",
       "      <th>2</th>\n",
       "      <td>2</td>\n",
       "      <td>http://www.adib.co.uk</td>\n",
       "    </tr>\n",
       "    <tr>\n",
       "      <th>3</th>\n",
       "      <td>3</td>\n",
       "      <td>http://www.aldermore.co.uk</td>\n",
       "    </tr>\n",
       "    <tr>\n",
       "      <th>4</th>\n",
       "      <td>4</td>\n",
       "      <td>http://www.allfunds.com/en</td>\n",
       "    </tr>\n",
       "  </tbody>\n",
       "</table>\n",
       "</div>"
      ],
      "text/plain": [
       "   image_id                                  url\n",
       "0         0  http://www.theaccessbankukltd.co.uk\n",
       "1         1              http://www.adambank.com\n",
       "2         2                http://www.adib.co.uk\n",
       "3         3           http://www.aldermore.co.uk\n",
       "4         4           http://www.allfunds.com/en"
      ]
     },
     "execution_count": 10,
     "metadata": {},
     "output_type": "execute_result"
    }
   ],
   "source": [
    "legit_image_url_df = legit_screenshot_key.drop_duplicates(subset=['url'])\n",
    "\n",
    "display(legit_image_url_df.shape)\n",
    "legit_image_url_df.head()"
   ]
  },
  {
   "cell_type": "markdown",
   "id": "da0bb6a2-bef5-4913-a1da-6311470afaeb",
   "metadata": {},
   "source": [
    "#### Merge screenshot key and legit text df on url\n",
    "\n",
    "Needs to be an inner join to drop null values."
   ]
  },
  {
   "cell_type": "code",
   "execution_count": 11,
   "id": "c72c538a-f2ae-4b23-a087-64818a0675cf",
   "metadata": {},
   "outputs": [],
   "source": [
    "legit_image_text_key = legit_text_df.merge(legit_image_url_df, on='url', how='inner')\n",
    "legit_image_text_key = legit_image_text_key.drop(columns=['Unnamed: 0'])\n",
    "legit_image_text_key['target'] = 0"
   ]
  },
  {
   "cell_type": "code",
   "execution_count": 12,
   "id": "a64ab65c-70ba-44f0-8653-3051d9b6b40f",
   "metadata": {},
   "outputs": [
    {
     "name": "stdout",
     "output_type": "stream",
     "text": [
      "<class 'pandas.core.frame.DataFrame'>\n",
      "Int64Index: 1999 entries, 0 to 1998\n",
      "Data columns (total 4 columns):\n",
      " #   Column    Non-Null Count  Dtype \n",
      "---  ------    --------------  ----- \n",
      " 0   url       1999 non-null   object\n",
      " 1   text      1999 non-null   object\n",
      " 2   image_id  1999 non-null   int64 \n",
      " 3   target    1999 non-null   int64 \n",
      "dtypes: int64(2), object(2)\n",
      "memory usage: 78.1+ KB\n"
     ]
    }
   ],
   "source": [
    "legit_image_text_key.info()"
   ]
  },
  {
   "cell_type": "code",
   "execution_count": 13,
   "id": "83ed1a54-64ac-4fb7-a522-af283717cd21",
   "metadata": {
    "tags": []
   },
   "outputs": [
    {
     "data": {
      "text/html": [
       "<div>\n",
       "<style scoped>\n",
       "    .dataframe tbody tr th:only-of-type {\n",
       "        vertical-align: middle;\n",
       "    }\n",
       "\n",
       "    .dataframe tbody tr th {\n",
       "        vertical-align: top;\n",
       "    }\n",
       "\n",
       "    .dataframe thead th {\n",
       "        text-align: right;\n",
       "    }\n",
       "</style>\n",
       "<table border=\"1\" class=\"dataframe\">\n",
       "  <thead>\n",
       "    <tr style=\"text-align: right;\">\n",
       "      <th></th>\n",
       "      <th>url</th>\n",
       "      <th>text</th>\n",
       "      <th>image_id</th>\n",
       "      <th>target</th>\n",
       "    </tr>\n",
       "  </thead>\n",
       "  <tbody>\n",
       "    <tr>\n",
       "      <th>0</th>\n",
       "      <td>http://www.theaccessbankukltd.co.uk</td>\n",
       "      <td>menuaboutpersonalbusinessprivatedubainewsconta...</td>\n",
       "      <td>0</td>\n",
       "      <td>0</td>\n",
       "    </tr>\n",
       "    <tr>\n",
       "      <th>1</th>\n",
       "      <td>http://www.adambank.com</td>\n",
       "      <td>transfer contact usloginon 3 september 2022 we...</td>\n",
       "      <td>1</td>\n",
       "      <td>0</td>\n",
       "    </tr>\n",
       "    <tr>\n",
       "      <th>2</th>\n",
       "      <td>http://www.adib.co.uk</td>\n",
       "      <td>sign in​homeabout adibour brandmission   objec...</td>\n",
       "      <td>2</td>\n",
       "      <td>0</td>\n",
       "    </tr>\n",
       "    <tr>\n",
       "      <th>3</th>\n",
       "      <td>http://www.aldermore.co.uk</td>\n",
       "      <td>log inpersonalbusinessintermediariesabout usco...</td>\n",
       "      <td>3</td>\n",
       "      <td>0</td>\n",
       "    </tr>\n",
       "    <tr>\n",
       "      <th>4</th>\n",
       "      <td>http://www.allfunds.com/en</td>\n",
       "      <td>cookie configurationallfunds bank s a u   allf...</td>\n",
       "      <td>4</td>\n",
       "      <td>0</td>\n",
       "    </tr>\n",
       "  </tbody>\n",
       "</table>\n",
       "</div>"
      ],
      "text/plain": [
       "                                   url  \\\n",
       "0  http://www.theaccessbankukltd.co.uk   \n",
       "1              http://www.adambank.com   \n",
       "2                http://www.adib.co.uk   \n",
       "3           http://www.aldermore.co.uk   \n",
       "4           http://www.allfunds.com/en   \n",
       "\n",
       "                                                text  image_id  target  \n",
       "0  menuaboutpersonalbusinessprivatedubainewsconta...         0       0  \n",
       "1  transfer contact usloginon 3 september 2022 we...         1       0  \n",
       "2  sign in​homeabout adibour brandmission   objec...         2       0  \n",
       "3  log inpersonalbusinessintermediariesabout usco...         3       0  \n",
       "4  cookie configurationallfunds bank s a u   allf...         4       0  "
      ]
     },
     "execution_count": 13,
     "metadata": {},
     "output_type": "execute_result"
    }
   ],
   "source": [
    "legit_image_text_key.head()"
   ]
  },
  {
   "cell_type": "code",
   "execution_count": 14,
   "id": "5a19b135-4ae2-4b59-bab3-2b93ebe1fa31",
   "metadata": {},
   "outputs": [],
   "source": [
    "# 1999 legit data points"
   ]
  },
  {
   "cell_type": "markdown",
   "id": "50cce117-4bf6-4e86-9ffe-e69f4e03df38",
   "metadata": {},
   "source": [
    "## Scam Sites\n",
    "\n",
    "### Scam text"
   ]
  },
  {
   "cell_type": "code",
   "execution_count": 15,
   "id": "ba8a86ae-c780-4073-bda4-fff236361dc6",
   "metadata": {},
   "outputs": [
    {
     "name": "stdout",
     "output_type": "stream",
     "text": [
      "<class 'pandas.core.frame.DataFrame'>\n",
      "RangeIndex: 2095 entries, 0 to 2094\n",
      "Data columns (total 3 columns):\n",
      " #   Column      Non-Null Count  Dtype \n",
      "---  ------      --------------  ----- \n",
      " 0   Unnamed: 0  2095 non-null   int64 \n",
      " 1   url         2095 non-null   object\n",
      " 2   text        2044 non-null   object\n",
      "dtypes: int64(1), object(2)\n",
      "memory usage: 49.2+ KB\n"
     ]
    }
   ],
   "source": [
    "scam_text = pd.read_csv(scam_text_path)\n",
    "scam_text.info()"
   ]
  },
  {
   "cell_type": "code",
   "execution_count": 16,
   "id": "c7023789-b050-43bf-9a2a-68f37c3ff9a0",
   "metadata": {},
   "outputs": [
    {
     "data": {
      "text/plain": [
       "(2044, 3)"
      ]
     },
     "execution_count": 16,
     "metadata": {},
     "output_type": "execute_result"
    }
   ],
   "source": [
    "scam_text_df = scam_text.dropna()\n",
    "scam_text_df = scam_text_df.drop_duplicates(subset='url')\n",
    "scam_text_df.shape"
   ]
  },
  {
   "cell_type": "markdown",
   "id": "3d64413a-3368-4183-a4c2-835cf622dfb2",
   "metadata": {},
   "source": [
    "### Scam screenshot key"
   ]
  },
  {
   "cell_type": "code",
   "execution_count": 17,
   "id": "27963a37-b94a-41f9-909e-d29b6ea2aaf1",
   "metadata": {},
   "outputs": [
    {
     "data": {
      "text/plain": [
       "(2149, 2)"
      ]
     },
     "metadata": {},
     "output_type": "display_data"
    }
   ],
   "source": [
    "scam_screenshot_key = pd.read_csv(scam_image_path)\n",
    "scam_screenshot_key = scam_screenshot_key.rename(columns={'Unnamed: 0': 'image_id','0': 'url'})\n",
    "\n",
    "display(scam_screenshot_key.shape)"
   ]
  },
  {
   "cell_type": "code",
   "execution_count": 18,
   "id": "9b046546-8b29-45ba-bb3a-81cce9f3dc0b",
   "metadata": {},
   "outputs": [
    {
     "data": {
      "text/plain": [
       "(2149, 2)"
      ]
     },
     "metadata": {},
     "output_type": "display_data"
    },
    {
     "data": {
      "text/html": [
       "<div>\n",
       "<style scoped>\n",
       "    .dataframe tbody tr th:only-of-type {\n",
       "        vertical-align: middle;\n",
       "    }\n",
       "\n",
       "    .dataframe tbody tr th {\n",
       "        vertical-align: top;\n",
       "    }\n",
       "\n",
       "    .dataframe thead th {\n",
       "        text-align: right;\n",
       "    }\n",
       "</style>\n",
       "<table border=\"1\" class=\"dataframe\">\n",
       "  <thead>\n",
       "    <tr style=\"text-align: right;\">\n",
       "      <th></th>\n",
       "      <th>image_id</th>\n",
       "      <th>url</th>\n",
       "    </tr>\n",
       "  </thead>\n",
       "  <tbody>\n",
       "    <tr>\n",
       "      <th>0</th>\n",
       "      <td>0</td>\n",
       "      <td>https://www.awesomeaussieshepherd.com</td>\n",
       "    </tr>\n",
       "    <tr>\n",
       "      <th>1</th>\n",
       "      <td>1</td>\n",
       "      <td>http://www.gclservice.co.za</td>\n",
       "    </tr>\n",
       "    <tr>\n",
       "      <th>2</th>\n",
       "      <td>2</td>\n",
       "      <td>https://www.gcloanservice.com</td>\n",
       "    </tr>\n",
       "    <tr>\n",
       "      <th>3</th>\n",
       "      <td>3</td>\n",
       "      <td>http://www.authenicbiodocs.com</td>\n",
       "    </tr>\n",
       "    <tr>\n",
       "      <th>4</th>\n",
       "      <td>4</td>\n",
       "      <td>https://www.thaiproductsllc.com</td>\n",
       "    </tr>\n",
       "  </tbody>\n",
       "</table>\n",
       "</div>"
      ],
      "text/plain": [
       "   image_id                                    url\n",
       "0         0  https://www.awesomeaussieshepherd.com\n",
       "1         1            http://www.gclservice.co.za\n",
       "2         2          https://www.gcloanservice.com\n",
       "3         3         http://www.authenicbiodocs.com\n",
       "4         4        https://www.thaiproductsllc.com"
      ]
     },
     "execution_count": 18,
     "metadata": {},
     "output_type": "execute_result"
    }
   ],
   "source": [
    "scam_image_url_df = scam_screenshot_key.dropna()\n",
    "scam_image_url_df = scam_screenshot_key.drop_duplicates(subset=['url'])\n",
    "\n",
    "display(scam_image_url_df.shape)\n",
    "scam_image_url_df.head()"
   ]
  },
  {
   "cell_type": "markdown",
   "id": "7e53983f-78e3-40ed-93bc-2ee27e8e7978",
   "metadata": {},
   "source": [
    "#### Merge screenshot key and legit text df on url\n",
    "\n",
    "Needs to be an inner join to drop null values."
   ]
  },
  {
   "cell_type": "code",
   "execution_count": 19,
   "id": "dc3230cd-525e-4574-8e20-9118e1f11f18",
   "metadata": {},
   "outputs": [],
   "source": [
    "scam_image_text_key = scam_text_df.merge(scam_image_url_df, on='url', how='inner')\n",
    "scam_image_text_key = scam_image_text_key.drop(columns=['Unnamed: 0'])\n",
    "scam_image_text_key['target'] = 1"
   ]
  },
  {
   "cell_type": "code",
   "execution_count": 20,
   "id": "3c9d4116-7362-464e-9387-6f6efdcc99c3",
   "metadata": {},
   "outputs": [
    {
     "name": "stdout",
     "output_type": "stream",
     "text": [
      "<class 'pandas.core.frame.DataFrame'>\n",
      "Int64Index: 2034 entries, 0 to 2033\n",
      "Data columns (total 4 columns):\n",
      " #   Column    Non-Null Count  Dtype \n",
      "---  ------    --------------  ----- \n",
      " 0   url       2034 non-null   object\n",
      " 1   text      2034 non-null   object\n",
      " 2   image_id  2034 non-null   int64 \n",
      " 3   target    2034 non-null   int64 \n",
      "dtypes: int64(2), object(2)\n",
      "memory usage: 79.5+ KB\n"
     ]
    }
   ],
   "source": [
    "scam_image_text_key.info()"
   ]
  },
  {
   "cell_type": "code",
   "execution_count": 21,
   "id": "eee357d5-bb7d-4394-b1ae-8fc2e1bab891",
   "metadata": {},
   "outputs": [
    {
     "data": {
      "text/html": [
       "<div>\n",
       "<style scoped>\n",
       "    .dataframe tbody tr th:only-of-type {\n",
       "        vertical-align: middle;\n",
       "    }\n",
       "\n",
       "    .dataframe tbody tr th {\n",
       "        vertical-align: top;\n",
       "    }\n",
       "\n",
       "    .dataframe thead th {\n",
       "        text-align: right;\n",
       "    }\n",
       "</style>\n",
       "<table border=\"1\" class=\"dataframe\">\n",
       "  <thead>\n",
       "    <tr style=\"text-align: right;\">\n",
       "      <th></th>\n",
       "      <th>url</th>\n",
       "      <th>text</th>\n",
       "      <th>image_id</th>\n",
       "      <th>target</th>\n",
       "    </tr>\n",
       "  </thead>\n",
       "  <tbody>\n",
       "    <tr>\n",
       "      <th>0</th>\n",
       "      <td>https://www.awesomeaussieshepherd.com</td>\n",
       "      <td>australian shepherd  homeabout usavailable pup...</td>\n",
       "      <td>0</td>\n",
       "      <td>1</td>\n",
       "    </tr>\n",
       "    <tr>\n",
       "      <th>1</th>\n",
       "      <td>http://www.gclservice.co.za</td>\n",
       "      <td>index of   \\tname\\tlast modified\\tsize\\tdescri...</td>\n",
       "      <td>1</td>\n",
       "      <td>1</td>\n",
       "    </tr>\n",
       "    <tr>\n",
       "      <th>2</th>\n",
       "      <td>https://www.gcloanservice.com</td>\n",
       "      <td>menuhomeloan applicationcontact usfaqsterms of...</td>\n",
       "      <td>2</td>\n",
       "      <td>1</td>\n",
       "    </tr>\n",
       "    <tr>\n",
       "      <th>3</th>\n",
       "      <td>http://www.authenicbiodocs.com</td>\n",
       "      <td>skip to contentpay with bitcoin25  discount fo...</td>\n",
       "      <td>3</td>\n",
       "      <td>1</td>\n",
       "    </tr>\n",
       "    <tr>\n",
       "      <th>4</th>\n",
       "      <td>https://www.thaiproductsllc.com</td>\n",
       "      <td>skip to content 61 3 9028 2716world wide shipp...</td>\n",
       "      <td>4</td>\n",
       "      <td>1</td>\n",
       "    </tr>\n",
       "    <tr>\n",
       "      <th>...</th>\n",
       "      <td>...</td>\n",
       "      <td>...</td>\n",
       "      <td>...</td>\n",
       "      <td>...</td>\n",
       "    </tr>\n",
       "    <tr>\n",
       "      <th>2029</th>\n",
       "      <td>https://www.reynoldsfinance.com</td>\n",
       "      <td>reynoldsfinance comhomecontact usprivacy polic...</td>\n",
       "      <td>2144</td>\n",
       "      <td>1</td>\n",
       "    </tr>\n",
       "    <tr>\n",
       "      <th>2030</th>\n",
       "      <td>https://www.heartfordcapital.com</td>\n",
       "      <td>live chat 1 614 655 7713trade shares and forex...</td>\n",
       "      <td>2145</td>\n",
       "      <td>1</td>\n",
       "    </tr>\n",
       "    <tr>\n",
       "      <th>2031</th>\n",
       "      <td>https://www.e1am.com</td>\n",
       "      <td>skip to main contentlogin  by your side for m...</td>\n",
       "      <td>2146</td>\n",
       "      <td>1</td>\n",
       "    </tr>\n",
       "    <tr>\n",
       "      <th>2032</th>\n",
       "      <td>https://www.blackwellcapital.com</td>\n",
       "      <td>blackwell capital   800 917 7155homelendinginv...</td>\n",
       "      <td>2147</td>\n",
       "      <td>1</td>\n",
       "    </tr>\n",
       "    <tr>\n",
       "      <th>2033</th>\n",
       "      <td>https://www.hanover-associates.com</td>\n",
       "      <td>finance solutionsrecent closingsapply nowabout...</td>\n",
       "      <td>2148</td>\n",
       "      <td>1</td>\n",
       "    </tr>\n",
       "  </tbody>\n",
       "</table>\n",
       "<p>2034 rows × 4 columns</p>\n",
       "</div>"
      ],
      "text/plain": [
       "                                        url  \\\n",
       "0     https://www.awesomeaussieshepherd.com   \n",
       "1               http://www.gclservice.co.za   \n",
       "2             https://www.gcloanservice.com   \n",
       "3            http://www.authenicbiodocs.com   \n",
       "4           https://www.thaiproductsllc.com   \n",
       "...                                     ...   \n",
       "2029        https://www.reynoldsfinance.com   \n",
       "2030       https://www.heartfordcapital.com   \n",
       "2031                   https://www.e1am.com   \n",
       "2032       https://www.blackwellcapital.com   \n",
       "2033     https://www.hanover-associates.com   \n",
       "\n",
       "                                                   text  image_id  target  \n",
       "0     australian shepherd  homeabout usavailable pup...         0       1  \n",
       "1     index of   \\tname\\tlast modified\\tsize\\tdescri...         1       1  \n",
       "2     menuhomeloan applicationcontact usfaqsterms of...         2       1  \n",
       "3     skip to contentpay with bitcoin25  discount fo...         3       1  \n",
       "4     skip to content 61 3 9028 2716world wide shipp...         4       1  \n",
       "...                                                 ...       ...     ...  \n",
       "2029  reynoldsfinance comhomecontact usprivacy polic...      2144       1  \n",
       "2030  live chat 1 614 655 7713trade shares and forex...      2145       1  \n",
       "2031   skip to main contentlogin  by your side for m...      2146       1  \n",
       "2032  blackwell capital   800 917 7155homelendinginv...      2147       1  \n",
       "2033  finance solutionsrecent closingsapply nowabout...      2148       1  \n",
       "\n",
       "[2034 rows x 4 columns]"
      ]
     },
     "execution_count": 21,
     "metadata": {},
     "output_type": "execute_result"
    }
   ],
   "source": [
    "scam_image_text_key"
   ]
  },
  {
   "cell_type": "code",
   "execution_count": 22,
   "id": "d8f7444b-39d4-48f7-8461-945c015925e0",
   "metadata": {},
   "outputs": [
    {
     "data": {
      "text/html": [
       "<div>\n",
       "<style scoped>\n",
       "    .dataframe tbody tr th:only-of-type {\n",
       "        vertical-align: middle;\n",
       "    }\n",
       "\n",
       "    .dataframe tbody tr th {\n",
       "        vertical-align: top;\n",
       "    }\n",
       "\n",
       "    .dataframe thead th {\n",
       "        text-align: right;\n",
       "    }\n",
       "</style>\n",
       "<table border=\"1\" class=\"dataframe\">\n",
       "  <thead>\n",
       "    <tr style=\"text-align: right;\">\n",
       "      <th></th>\n",
       "      <th>url</th>\n",
       "      <th>text</th>\n",
       "      <th>image_id</th>\n",
       "      <th>target</th>\n",
       "    </tr>\n",
       "  </thead>\n",
       "  <tbody>\n",
       "    <tr>\n",
       "      <th>0</th>\n",
       "      <td>http://www.theaccessbankukltd.co.uk</td>\n",
       "      <td>menuaboutpersonalbusinessprivatedubainewsconta...</td>\n",
       "      <td>0</td>\n",
       "      <td>0</td>\n",
       "    </tr>\n",
       "    <tr>\n",
       "      <th>1</th>\n",
       "      <td>http://www.adambank.com</td>\n",
       "      <td>transfer contact usloginon 3 september 2022 we...</td>\n",
       "      <td>1</td>\n",
       "      <td>0</td>\n",
       "    </tr>\n",
       "    <tr>\n",
       "      <th>2</th>\n",
       "      <td>http://www.adib.co.uk</td>\n",
       "      <td>sign in​homeabout adibour brandmission   objec...</td>\n",
       "      <td>2</td>\n",
       "      <td>0</td>\n",
       "    </tr>\n",
       "    <tr>\n",
       "      <th>3</th>\n",
       "      <td>http://www.aldermore.co.uk</td>\n",
       "      <td>log inpersonalbusinessintermediariesabout usco...</td>\n",
       "      <td>3</td>\n",
       "      <td>0</td>\n",
       "    </tr>\n",
       "    <tr>\n",
       "      <th>4</th>\n",
       "      <td>http://www.allfunds.com/en</td>\n",
       "      <td>cookie configurationallfunds bank s a u   allf...</td>\n",
       "      <td>4</td>\n",
       "      <td>0</td>\n",
       "    </tr>\n",
       "    <tr>\n",
       "      <th>...</th>\n",
       "      <td>...</td>\n",
       "      <td>...</td>\n",
       "      <td>...</td>\n",
       "      <td>...</td>\n",
       "    </tr>\n",
       "    <tr>\n",
       "      <th>1994</th>\n",
       "      <td>http://www.roberthalf.com/</td>\n",
       "      <td>this website uses cookies to improve user expe...</td>\n",
       "      <td>2085</td>\n",
       "      <td>0</td>\n",
       "    </tr>\n",
       "    <tr>\n",
       "      <th>1995</th>\n",
       "      <td>http://www.compass-group.com/</td>\n",
       "      <td>our use of cookieswe use necessary cookies to ...</td>\n",
       "      <td>2086</td>\n",
       "      <td>0</td>\n",
       "    </tr>\n",
       "    <tr>\n",
       "      <th>1996</th>\n",
       "      <td>http://shop.hasbro.com/</td>\n",
       "      <td>skip to main contentnl   nederlandsontdek spee...</td>\n",
       "      <td>2087</td>\n",
       "      <td>0</td>\n",
       "    </tr>\n",
       "    <tr>\n",
       "      <th>1997</th>\n",
       "      <td>http://www.ropertech.com/</td>\n",
       "      <td>skip to content↵enterskip to contentsimple ide...</td>\n",
       "      <td>2088</td>\n",
       "      <td>0</td>\n",
       "    </tr>\n",
       "    <tr>\n",
       "      <th>1998</th>\n",
       "      <td>http://www.arkocorp.com/</td>\n",
       "      <td>investorsoverviewnews   eventsoverviewpress re...</td>\n",
       "      <td>2089</td>\n",
       "      <td>0</td>\n",
       "    </tr>\n",
       "  </tbody>\n",
       "</table>\n",
       "<p>1999 rows × 4 columns</p>\n",
       "</div>"
      ],
      "text/plain": [
       "                                      url  \\\n",
       "0     http://www.theaccessbankukltd.co.uk   \n",
       "1                 http://www.adambank.com   \n",
       "2                   http://www.adib.co.uk   \n",
       "3              http://www.aldermore.co.uk   \n",
       "4              http://www.allfunds.com/en   \n",
       "...                                   ...   \n",
       "1994           http://www.roberthalf.com/   \n",
       "1995        http://www.compass-group.com/   \n",
       "1996              http://shop.hasbro.com/   \n",
       "1997            http://www.ropertech.com/   \n",
       "1998             http://www.arkocorp.com/   \n",
       "\n",
       "                                                   text  image_id  target  \n",
       "0     menuaboutpersonalbusinessprivatedubainewsconta...         0       0  \n",
       "1     transfer contact usloginon 3 september 2022 we...         1       0  \n",
       "2     sign in​homeabout adibour brandmission   objec...         2       0  \n",
       "3     log inpersonalbusinessintermediariesabout usco...         3       0  \n",
       "4     cookie configurationallfunds bank s a u   allf...         4       0  \n",
       "...                                                 ...       ...     ...  \n",
       "1994  this website uses cookies to improve user expe...      2085       0  \n",
       "1995  our use of cookieswe use necessary cookies to ...      2086       0  \n",
       "1996  skip to main contentnl   nederlandsontdek spee...      2087       0  \n",
       "1997  skip to content↵enterskip to contentsimple ide...      2088       0  \n",
       "1998  investorsoverviewnews   eventsoverviewpress re...      2089       0  \n",
       "\n",
       "[1999 rows x 4 columns]"
      ]
     },
     "execution_count": 22,
     "metadata": {},
     "output_type": "execute_result"
    }
   ],
   "source": [
    "legit_image_text_key"
   ]
  },
  {
   "cell_type": "markdown",
   "id": "e632f408-eb6b-48a1-bcaa-eb49ec2a0c51",
   "metadata": {},
   "source": [
    "# As a function\n",
    "\n",
    "Apply once for scam and once for legit.\n",
    "\n",
    "This function is what you would package."
   ]
  },
  {
   "cell_type": "code",
   "execution_count": 23,
   "id": "c20cfd92-7597-4e0b-b369-ab098ac664ce",
   "metadata": {},
   "outputs": [],
   "source": [
    "def create_image_text_frame(text_csv_path, image_csv_path, target: int):\n",
    "    # Load text csv and clean\n",
    "    text_df = pd.read_csv(text_csv_path)\n",
    "    text_df = text_df.dropna()\n",
    "    text_df = text_df.drop_duplicates(subset='url')\n",
    "    \n",
    "    # Load image csv and clean\n",
    "    image_df = pd.read_csv(image_csv_path)\n",
    "    image_df = image_df.rename(columns={'Unnamed: 0': 'image_id','0': 'url'})\n",
    "    image_df = image_df.dropna()\n",
    "    image_df = image_df.drop_duplicates(subset='url')\n",
    "    \n",
    "    # Merge the two together on url - inner join, order doesn't matter\n",
    "    combined_df = text_df.merge(image_df, on='url', how='inner')\n",
    "    combined_df = combined_df.drop(columns=['Unnamed: 0'])\n",
    "    combined_df['target'] = target\n",
    "    \n",
    "    return combined_df "
   ]
  },
  {
   "cell_type": "code",
   "execution_count": 24,
   "id": "c5f85016-1fec-4c19-a527-34e3ea49c35e",
   "metadata": {},
   "outputs": [],
   "source": [
    "legit_data_df = create_image_text_frame(legit_text_path, legit_image_path, 0)\n",
    "legit_data_df.to_csv('../../data/clean/legit_data_clean.csv')"
   ]
  },
  {
   "cell_type": "code",
   "execution_count": 25,
   "id": "3b6f5d19-dd78-48fc-8eea-9df5937e6bdf",
   "metadata": {},
   "outputs": [
    {
     "data": {
      "text/html": [
       "<div>\n",
       "<style scoped>\n",
       "    .dataframe tbody tr th:only-of-type {\n",
       "        vertical-align: middle;\n",
       "    }\n",
       "\n",
       "    .dataframe tbody tr th {\n",
       "        vertical-align: top;\n",
       "    }\n",
       "\n",
       "    .dataframe thead th {\n",
       "        text-align: right;\n",
       "    }\n",
       "</style>\n",
       "<table border=\"1\" class=\"dataframe\">\n",
       "  <thead>\n",
       "    <tr style=\"text-align: right;\">\n",
       "      <th></th>\n",
       "      <th>url</th>\n",
       "      <th>text</th>\n",
       "      <th>image_id</th>\n",
       "      <th>target</th>\n",
       "    </tr>\n",
       "  </thead>\n",
       "  <tbody>\n",
       "    <tr>\n",
       "      <th>0</th>\n",
       "      <td>http://www.theaccessbankukltd.co.uk</td>\n",
       "      <td>menuaboutpersonalbusinessprivatedubainewsconta...</td>\n",
       "      <td>0</td>\n",
       "      <td>0</td>\n",
       "    </tr>\n",
       "    <tr>\n",
       "      <th>1</th>\n",
       "      <td>http://www.adambank.com</td>\n",
       "      <td>transfer contact usloginon 3 september 2022 we...</td>\n",
       "      <td>1</td>\n",
       "      <td>0</td>\n",
       "    </tr>\n",
       "    <tr>\n",
       "      <th>2</th>\n",
       "      <td>http://www.adib.co.uk</td>\n",
       "      <td>sign in​homeabout adibour brandmission   objec...</td>\n",
       "      <td>2</td>\n",
       "      <td>0</td>\n",
       "    </tr>\n",
       "    <tr>\n",
       "      <th>3</th>\n",
       "      <td>http://www.aldermore.co.uk</td>\n",
       "      <td>log inpersonalbusinessintermediariesabout usco...</td>\n",
       "      <td>3</td>\n",
       "      <td>0</td>\n",
       "    </tr>\n",
       "    <tr>\n",
       "      <th>4</th>\n",
       "      <td>http://www.allfunds.com/en</td>\n",
       "      <td>cookie configurationallfunds bank s a u   allf...</td>\n",
       "      <td>4</td>\n",
       "      <td>0</td>\n",
       "    </tr>\n",
       "    <tr>\n",
       "      <th>...</th>\n",
       "      <td>...</td>\n",
       "      <td>...</td>\n",
       "      <td>...</td>\n",
       "      <td>...</td>\n",
       "    </tr>\n",
       "    <tr>\n",
       "      <th>1994</th>\n",
       "      <td>http://www.roberthalf.com/</td>\n",
       "      <td>this website uses cookies to improve user expe...</td>\n",
       "      <td>2085</td>\n",
       "      <td>0</td>\n",
       "    </tr>\n",
       "    <tr>\n",
       "      <th>1995</th>\n",
       "      <td>http://www.compass-group.com/</td>\n",
       "      <td>our use of cookieswe use necessary cookies to ...</td>\n",
       "      <td>2086</td>\n",
       "      <td>0</td>\n",
       "    </tr>\n",
       "    <tr>\n",
       "      <th>1996</th>\n",
       "      <td>http://shop.hasbro.com/</td>\n",
       "      <td>skip to main contentnl   nederlandsontdek spee...</td>\n",
       "      <td>2087</td>\n",
       "      <td>0</td>\n",
       "    </tr>\n",
       "    <tr>\n",
       "      <th>1997</th>\n",
       "      <td>http://www.ropertech.com/</td>\n",
       "      <td>skip to content↵enterskip to contentsimple ide...</td>\n",
       "      <td>2088</td>\n",
       "      <td>0</td>\n",
       "    </tr>\n",
       "    <tr>\n",
       "      <th>1998</th>\n",
       "      <td>http://www.arkocorp.com/</td>\n",
       "      <td>investorsoverviewnews   eventsoverviewpress re...</td>\n",
       "      <td>2089</td>\n",
       "      <td>0</td>\n",
       "    </tr>\n",
       "  </tbody>\n",
       "</table>\n",
       "<p>1999 rows × 4 columns</p>\n",
       "</div>"
      ],
      "text/plain": [
       "                                      url  \\\n",
       "0     http://www.theaccessbankukltd.co.uk   \n",
       "1                 http://www.adambank.com   \n",
       "2                   http://www.adib.co.uk   \n",
       "3              http://www.aldermore.co.uk   \n",
       "4              http://www.allfunds.com/en   \n",
       "...                                   ...   \n",
       "1994           http://www.roberthalf.com/   \n",
       "1995        http://www.compass-group.com/   \n",
       "1996              http://shop.hasbro.com/   \n",
       "1997            http://www.ropertech.com/   \n",
       "1998             http://www.arkocorp.com/   \n",
       "\n",
       "                                                   text  image_id  target  \n",
       "0     menuaboutpersonalbusinessprivatedubainewsconta...         0       0  \n",
       "1     transfer contact usloginon 3 september 2022 we...         1       0  \n",
       "2     sign in​homeabout adibour brandmission   objec...         2       0  \n",
       "3     log inpersonalbusinessintermediariesabout usco...         3       0  \n",
       "4     cookie configurationallfunds bank s a u   allf...         4       0  \n",
       "...                                                 ...       ...     ...  \n",
       "1994  this website uses cookies to improve user expe...      2085       0  \n",
       "1995  our use of cookieswe use necessary cookies to ...      2086       0  \n",
       "1996  skip to main contentnl   nederlandsontdek spee...      2087       0  \n",
       "1997  skip to content↵enterskip to contentsimple ide...      2088       0  \n",
       "1998  investorsoverviewnews   eventsoverviewpress re...      2089       0  \n",
       "\n",
       "[1999 rows x 4 columns]"
      ]
     },
     "execution_count": 25,
     "metadata": {},
     "output_type": "execute_result"
    }
   ],
   "source": [
    "legit_data_df"
   ]
  },
  {
   "cell_type": "code",
   "execution_count": 26,
   "id": "de9fc933-2bc3-4ad5-8966-2895fd9d7da3",
   "metadata": {},
   "outputs": [],
   "source": [
    "scam_data_df = create_image_text_frame(scam_text_path, scam_image_path, 1)\n",
    "scam_data_df.to_csv('../../data/clean/scam_data_clean.csv')"
   ]
  },
  {
   "cell_type": "code",
   "execution_count": 27,
   "id": "46ac77c2-76e4-4f76-bc27-d44f63524edc",
   "metadata": {},
   "outputs": [
    {
     "data": {
      "text/html": [
       "<div>\n",
       "<style scoped>\n",
       "    .dataframe tbody tr th:only-of-type {\n",
       "        vertical-align: middle;\n",
       "    }\n",
       "\n",
       "    .dataframe tbody tr th {\n",
       "        vertical-align: top;\n",
       "    }\n",
       "\n",
       "    .dataframe thead th {\n",
       "        text-align: right;\n",
       "    }\n",
       "</style>\n",
       "<table border=\"1\" class=\"dataframe\">\n",
       "  <thead>\n",
       "    <tr style=\"text-align: right;\">\n",
       "      <th></th>\n",
       "      <th>url</th>\n",
       "      <th>text</th>\n",
       "      <th>image_id</th>\n",
       "      <th>target</th>\n",
       "    </tr>\n",
       "  </thead>\n",
       "  <tbody>\n",
       "    <tr>\n",
       "      <th>0</th>\n",
       "      <td>https://www.awesomeaussieshepherd.com</td>\n",
       "      <td>australian shepherd  homeabout usavailable pup...</td>\n",
       "      <td>0</td>\n",
       "      <td>1</td>\n",
       "    </tr>\n",
       "    <tr>\n",
       "      <th>1</th>\n",
       "      <td>http://www.gclservice.co.za</td>\n",
       "      <td>index of   \\tname\\tlast modified\\tsize\\tdescri...</td>\n",
       "      <td>1</td>\n",
       "      <td>1</td>\n",
       "    </tr>\n",
       "    <tr>\n",
       "      <th>2</th>\n",
       "      <td>https://www.gcloanservice.com</td>\n",
       "      <td>menuhomeloan applicationcontact usfaqsterms of...</td>\n",
       "      <td>2</td>\n",
       "      <td>1</td>\n",
       "    </tr>\n",
       "    <tr>\n",
       "      <th>3</th>\n",
       "      <td>http://www.authenicbiodocs.com</td>\n",
       "      <td>skip to contentpay with bitcoin25  discount fo...</td>\n",
       "      <td>3</td>\n",
       "      <td>1</td>\n",
       "    </tr>\n",
       "    <tr>\n",
       "      <th>4</th>\n",
       "      <td>https://www.thaiproductsllc.com</td>\n",
       "      <td>skip to content 61 3 9028 2716world wide shipp...</td>\n",
       "      <td>4</td>\n",
       "      <td>1</td>\n",
       "    </tr>\n",
       "    <tr>\n",
       "      <th>...</th>\n",
       "      <td>...</td>\n",
       "      <td>...</td>\n",
       "      <td>...</td>\n",
       "      <td>...</td>\n",
       "    </tr>\n",
       "    <tr>\n",
       "      <th>2029</th>\n",
       "      <td>https://www.reynoldsfinance.com</td>\n",
       "      <td>reynoldsfinance comhomecontact usprivacy polic...</td>\n",
       "      <td>2144</td>\n",
       "      <td>1</td>\n",
       "    </tr>\n",
       "    <tr>\n",
       "      <th>2030</th>\n",
       "      <td>https://www.heartfordcapital.com</td>\n",
       "      <td>live chat 1 614 655 7713trade shares and forex...</td>\n",
       "      <td>2145</td>\n",
       "      <td>1</td>\n",
       "    </tr>\n",
       "    <tr>\n",
       "      <th>2031</th>\n",
       "      <td>https://www.e1am.com</td>\n",
       "      <td>skip to main contentlogin  by your side for m...</td>\n",
       "      <td>2146</td>\n",
       "      <td>1</td>\n",
       "    </tr>\n",
       "    <tr>\n",
       "      <th>2032</th>\n",
       "      <td>https://www.blackwellcapital.com</td>\n",
       "      <td>blackwell capital   800 917 7155homelendinginv...</td>\n",
       "      <td>2147</td>\n",
       "      <td>1</td>\n",
       "    </tr>\n",
       "    <tr>\n",
       "      <th>2033</th>\n",
       "      <td>https://www.hanover-associates.com</td>\n",
       "      <td>finance solutionsrecent closingsapply nowabout...</td>\n",
       "      <td>2148</td>\n",
       "      <td>1</td>\n",
       "    </tr>\n",
       "  </tbody>\n",
       "</table>\n",
       "<p>2034 rows × 4 columns</p>\n",
       "</div>"
      ],
      "text/plain": [
       "                                        url  \\\n",
       "0     https://www.awesomeaussieshepherd.com   \n",
       "1               http://www.gclservice.co.za   \n",
       "2             https://www.gcloanservice.com   \n",
       "3            http://www.authenicbiodocs.com   \n",
       "4           https://www.thaiproductsllc.com   \n",
       "...                                     ...   \n",
       "2029        https://www.reynoldsfinance.com   \n",
       "2030       https://www.heartfordcapital.com   \n",
       "2031                   https://www.e1am.com   \n",
       "2032       https://www.blackwellcapital.com   \n",
       "2033     https://www.hanover-associates.com   \n",
       "\n",
       "                                                   text  image_id  target  \n",
       "0     australian shepherd  homeabout usavailable pup...         0       1  \n",
       "1     index of   \\tname\\tlast modified\\tsize\\tdescri...         1       1  \n",
       "2     menuhomeloan applicationcontact usfaqsterms of...         2       1  \n",
       "3     skip to contentpay with bitcoin25  discount fo...         3       1  \n",
       "4     skip to content 61 3 9028 2716world wide shipp...         4       1  \n",
       "...                                                 ...       ...     ...  \n",
       "2029  reynoldsfinance comhomecontact usprivacy polic...      2144       1  \n",
       "2030  live chat 1 614 655 7713trade shares and forex...      2145       1  \n",
       "2031   skip to main contentlogin  by your side for m...      2146       1  \n",
       "2032  blackwell capital   800 917 7155homelendinginv...      2147       1  \n",
       "2033  finance solutionsrecent closingsapply nowabout...      2148       1  \n",
       "\n",
       "[2034 rows x 4 columns]"
      ]
     },
     "execution_count": 27,
     "metadata": {},
     "output_type": "execute_result"
    }
   ],
   "source": [
    "scam_data_df"
   ]
  },
  {
   "cell_type": "code",
   "execution_count": 28,
   "id": "f3cf040a-fe41-44d2-a2d1-5e68cd19fc22",
   "metadata": {},
   "outputs": [],
   "source": [
    "# If you wanted to join them and shuffle the data\n",
    "\n",
    "combined_df = pd.concat([legit_data_df, scam_data_df], ignore_index=True)\n",
    "combined_df = combined_df.sample(frac=1, replace=False).reset_index(drop=True)"
   ]
  },
  {
   "cell_type": "code",
   "execution_count": 29,
   "id": "f009adc0-51d0-4de1-a2a9-1ad6526e48ab",
   "metadata": {},
   "outputs": [
    {
     "data": {
      "text/html": [
       "<div>\n",
       "<style scoped>\n",
       "    .dataframe tbody tr th:only-of-type {\n",
       "        vertical-align: middle;\n",
       "    }\n",
       "\n",
       "    .dataframe tbody tr th {\n",
       "        vertical-align: top;\n",
       "    }\n",
       "\n",
       "    .dataframe thead th {\n",
       "        text-align: right;\n",
       "    }\n",
       "</style>\n",
       "<table border=\"1\" class=\"dataframe\">\n",
       "  <thead>\n",
       "    <tr style=\"text-align: right;\">\n",
       "      <th></th>\n",
       "      <th>url</th>\n",
       "      <th>text</th>\n",
       "      <th>image_id</th>\n",
       "      <th>target</th>\n",
       "    </tr>\n",
       "  </thead>\n",
       "  <tbody>\n",
       "    <tr>\n",
       "      <th>0</th>\n",
       "      <td>http://greencastleconsulting.com/</td>\n",
       "      <td>skip to main contentskip to header right navig...</td>\n",
       "      <td>1587</td>\n",
       "      <td>0</td>\n",
       "    </tr>\n",
       "    <tr>\n",
       "      <th>1</th>\n",
       "      <td>https://www.letsmoveyouranimal.co.za</td>\n",
       "      <td>homehome 1home 2home 3about usserviceall servi...</td>\n",
       "      <td>900</td>\n",
       "      <td>1</td>\n",
       "    </tr>\n",
       "    <tr>\n",
       "      <th>2</th>\n",
       "      <td>http://pbmgi.com</td>\n",
       "      <td>skip to main contentour valuesour servicesour...</td>\n",
       "      <td>1510</td>\n",
       "      <td>0</td>\n",
       "    </tr>\n",
       "    <tr>\n",
       "      <th>3</th>\n",
       "      <td>http://www.principal.com/</td>\n",
       "      <td>skip to main contentsearchlog inmenuretirement...</td>\n",
       "      <td>250</td>\n",
       "      <td>0</td>\n",
       "    </tr>\n",
       "    <tr>\n",
       "      <th>4</th>\n",
       "      <td>http://www.communitycentralbank.com/</td>\n",
       "      <td>the domain communitycentralbank com may be for...</td>\n",
       "      <td>781</td>\n",
       "      <td>0</td>\n",
       "    </tr>\n",
       "    <tr>\n",
       "      <th>...</th>\n",
       "      <td>...</td>\n",
       "      <td>...</td>\n",
       "      <td>...</td>\n",
       "      <td>...</td>\n",
       "    </tr>\n",
       "    <tr>\n",
       "      <th>4028</th>\n",
       "      <td>http://www.bankofannarbor.com/</td>\n",
       "      <td>skip to main contentbank of ann arborcareersca...</td>\n",
       "      <td>770</td>\n",
       "      <td>0</td>\n",
       "    </tr>\n",
       "    <tr>\n",
       "      <th>4029</th>\n",
       "      <td>http://www.capecodfive.com/</td>\n",
       "      <td>skip to main contentsearchutility menuabout us...</td>\n",
       "      <td>667</td>\n",
       "      <td>0</td>\n",
       "    </tr>\n",
       "    <tr>\n",
       "      <th>4030</th>\n",
       "      <td>http://www.citylinksglobal.com</td>\n",
       "      <td>skip to contentcitylinkpress centrecareersabou...</td>\n",
       "      <td>1290</td>\n",
       "      <td>1</td>\n",
       "    </tr>\n",
       "    <tr>\n",
       "      <th>4031</th>\n",
       "      <td>https://www.premaxlogisticsllc.com</td>\n",
       "      <td>welcome to premax logistics servicesshipment t...</td>\n",
       "      <td>1039</td>\n",
       "      <td>1</td>\n",
       "    </tr>\n",
       "    <tr>\n",
       "      <th>4032</th>\n",
       "      <td>https://www.officialilluminatisecretsociety.org</td>\n",
       "      <td>skip to contenthomewho can joinbenefit of join...</td>\n",
       "      <td>1463</td>\n",
       "      <td>1</td>\n",
       "    </tr>\n",
       "  </tbody>\n",
       "</table>\n",
       "<p>4033 rows × 4 columns</p>\n",
       "</div>"
      ],
      "text/plain": [
       "                                                  url  \\\n",
       "0                   http://greencastleconsulting.com/   \n",
       "1                https://www.letsmoveyouranimal.co.za   \n",
       "2                                    http://pbmgi.com   \n",
       "3                           http://www.principal.com/   \n",
       "4                http://www.communitycentralbank.com/   \n",
       "...                                               ...   \n",
       "4028                   http://www.bankofannarbor.com/   \n",
       "4029                      http://www.capecodfive.com/   \n",
       "4030                   http://www.citylinksglobal.com   \n",
       "4031               https://www.premaxlogisticsllc.com   \n",
       "4032  https://www.officialilluminatisecretsociety.org   \n",
       "\n",
       "                                                   text  image_id  target  \n",
       "0     skip to main contentskip to header right navig...      1587       0  \n",
       "1     homehome 1home 2home 3about usserviceall servi...       900       1  \n",
       "2      skip to main contentour valuesour servicesour...      1510       0  \n",
       "3     skip to main contentsearchlog inmenuretirement...       250       0  \n",
       "4     the domain communitycentralbank com may be for...       781       0  \n",
       "...                                                 ...       ...     ...  \n",
       "4028  skip to main contentbank of ann arborcareersca...       770       0  \n",
       "4029  skip to main contentsearchutility menuabout us...       667       0  \n",
       "4030  skip to contentcitylinkpress centrecareersabou...      1290       1  \n",
       "4031  welcome to premax logistics servicesshipment t...      1039       1  \n",
       "4032  skip to contenthomewho can joinbenefit of join...      1463       1  \n",
       "\n",
       "[4033 rows x 4 columns]"
      ]
     },
     "execution_count": 29,
     "metadata": {},
     "output_type": "execute_result"
    }
   ],
   "source": [
    "combined_df"
   ]
  },
  {
   "cell_type": "code",
   "execution_count": null,
   "id": "941113a3-7c87-40c2-b887-e8621040b133",
   "metadata": {},
   "outputs": [],
   "source": []
  }
 ],
 "metadata": {
  "kernelspec": {
   "display_name": "Python 3 (ipykernel)",
   "language": "python",
   "name": "python3"
  },
  "language_info": {
   "codemirror_mode": {
    "name": "ipython",
    "version": 3
   },
   "file_extension": ".py",
   "mimetype": "text/x-python",
   "name": "python",
   "nbconvert_exporter": "python",
   "pygments_lexer": "ipython3",
   "version": "3.8.12"
  }
 },
 "nbformat": 4,
 "nbformat_minor": 5
}
