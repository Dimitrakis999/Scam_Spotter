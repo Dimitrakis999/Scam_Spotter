{
 "cells": [
  {
   "cell_type": "code",
   "execution_count": 1,
   "id": "018b9801",
   "metadata": {},
   "outputs": [],
   "source": [
    "import pandas as pd \n"
   ]
  },
  {
   "cell_type": "code",
   "execution_count": 3,
   "id": "2b6cf17c",
   "metadata": {},
   "outputs": [],
   "source": [
    "df = pd.read_csv(\"/home/zamanay/code/zamanay/test-projects/legitmate_websites.csv\")\n",
    "#change path to according to where you have downloaded the file"
   ]
  },
  {
   "cell_type": "code",
   "execution_count": 4,
   "id": "edf71e07",
   "metadata": {},
   "outputs": [
    {
     "data": {
      "text/plain": [
       "Fortune 500                             501\n",
       "Software                                478\n",
       "Business Products & Services            430\n",
       "Advertising & Marketing                 329\n",
       "Health                                  294\n",
       "Consumer Products & Services            288\n",
       "Financial Services                      235\n",
       "Construction                            221\n",
       "IT Management                           182\n",
       "Real Estate                             164\n",
       "Government Services                     153\n",
       "Retail                                  144\n",
       "Manufacturing                           140\n",
       "IT Systems Development                  138\n",
       "Logistics & Transportation              130\n",
       "Food & Beverage                         122\n",
       "Education                                73\n",
       "Human Resources                          70\n",
       "Telecommunications                       68\n",
       "Bank of England Approved Instituions     64\n",
       "Insurance                                58\n",
       "Security                                 57\n",
       "Energy                                   50\n",
       "Engineering                              47\n",
       "Environmental Services                   33\n",
       "Computer Hardware                        29\n",
       "Media                                    25\n",
       "Travel & Hospitality                     21\n",
       "IT Services                               7\n",
       "Health Services                           2\n",
       "Telecom                                   2\n",
       "Food/Hunger                               1\n",
       "Business Products                         1\n",
       "Agriculture & Natural Resources           1\n",
       "Veteran Advocacy                          1\n",
       "Consumer Services                         1\n",
       "Health Products                           1\n",
       "Legal                                     1\n",
       "Economic/Financial Equity                 1\n",
       "Consumer Products                         1\n",
       "Name: Categories, dtype: int64"
      ]
     },
     "execution_count": 4,
     "metadata": {},
     "output_type": "execute_result"
    }
   ],
   "source": [
    "df.Categories.value_counts()"
   ]
  },
  {
   "cell_type": "code",
   "execution_count": 7,
   "id": "959985a1",
   "metadata": {},
   "outputs": [],
   "source": [
    "df_clean = df[df.Categories.isin([\"Fortune 500\", \"Software\",\"Economic/Financial Equity\",\"Legal\",\"IT Services\",\"Security\",\"Insurance\",\"Bank of England Approved Instituions\",\"IT Systems Development\",\"IT Management\",\"Advertising & Marketing\",\"Financial Services\",\"Government Services\"])]"
   ]
  },
  {
   "cell_type": "code",
   "execution_count": 8,
   "id": "d19cf2a2",
   "metadata": {},
   "outputs": [
    {
     "data": {
      "text/plain": [
       "Fortune 500                             501\n",
       "Software                                478\n",
       "Advertising & Marketing                 329\n",
       "Financial Services                      235\n",
       "IT Management                           182\n",
       "Government Services                     153\n",
       "IT Systems Development                  138\n",
       "Bank of England Approved Instituions     64\n",
       "Insurance                                58\n",
       "Security                                 57\n",
       "IT Services                               7\n",
       "Legal                                     1\n",
       "Economic/Financial Equity                 1\n",
       "Name: Categories, dtype: int64"
      ]
     },
     "execution_count": 8,
     "metadata": {},
     "output_type": "execute_result"
    }
   ],
   "source": [
    "df_clean.Categories.value_counts()"
   ]
  },
  {
   "cell_type": "code",
   "execution_count": 9,
   "id": "a0e9bfe7",
   "metadata": {},
   "outputs": [],
   "source": [
    "df_clean.to_csv(\"/home/zamanay/code/zamanay/test-projects/legit.csv\")\n",
    "#change path to where you want to save the file"
   ]
  },
  {
   "cell_type": "code",
   "execution_count": null,
   "id": "3d6e276f",
   "metadata": {},
   "outputs": [],
   "source": []
  }
 ],
 "metadata": {
  "kernelspec": {
   "display_name": "Python 3 (ipykernel)",
   "language": "python",
   "name": "python3"
  },
  "language_info": {
   "codemirror_mode": {
    "name": "ipython",
    "version": 3
   },
   "file_extension": ".py",
   "mimetype": "text/x-python",
   "name": "python",
   "nbconvert_exporter": "python",
   "pygments_lexer": "ipython3",
   "version": "3.10.6"
  },
  "toc": {
   "base_numbering": 1,
   "nav_menu": {},
   "number_sections": true,
   "sideBar": true,
   "skip_h1_title": false,
   "title_cell": "Table of Contents",
   "title_sidebar": "Contents",
   "toc_cell": false,
   "toc_position": {},
   "toc_section_display": true,
   "toc_window_display": false
  }
 },
 "nbformat": 4,
 "nbformat_minor": 5
}
